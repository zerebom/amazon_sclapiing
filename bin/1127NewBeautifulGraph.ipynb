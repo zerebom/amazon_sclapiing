{
 "cells": [
  {
   "cell_type": "code",
   "execution_count": null,
   "metadata": {},
   "outputs": [],
   "source": [
    "import sys;sys.path.append('./src')\n",
    "import sqlite3\n",
    "import re\n",
    "from DB import *\n",
    "import matplotlib.pyplot as plt\n",
    "import matplotlib.cm as cm\n",
    "import numpy as np\n",
    "import re \n",
    "from collections import Counter"
   ]
  },
  {
   "cell_type": "code",
   "execution_count": null,
   "metadata": {},
   "outputs": [],
   "source": [
    "low_category_db='../data/database/1112_low_prodcuts_text_category.db'\n",
    "high_category_db='../data/database/1112_high_prodcuts_text_category.db'\n",
    "Hconn2,Hc2=get_db_conn(high_category_db)\n",
    "Lconn2,Lc2=get_db_conn(low_category_db)\n",
    "Lc2.execute('''select distinct category1,category2,category3,category4 from product_text''')\n",
    "Hc2.execute('''select distinct category1,category2,category3,category4 from product_text''')\n",
    "# Lc2.execute('''select distinct category1,category2,category3,category4 from product_text where category1='本' ''')\n",
    "# Hc2.execute('''select distinct category1,category2,category3,category4 from product_text where category1='本' ''')"
   ]
  },
  {
   "cell_type": "code",
   "execution_count": null,
   "metadata": {},
   "outputs": [],
   "source": [
    "low_category=[x[0] for x in Lc2]\n",
    "high_category=[x[0] for x in Hc2]\n",
    "low_counter=Counter(low_category)\n",
    "high_counter=Counter(high_category)"
   ]
  },
  {
   "cell_type": "code",
   "execution_count": null,
   "metadata": {},
   "outputs": [],
   "source": [
    "Hvalues,Hcounts=list(zip(*high_counter.most_common()))\n",
    "Hdict=dict(zip(Hvalues,Hcounts))\n",
    "\n",
    "Lvalues,Lcounts=list(zip(*low_counter.most_common()))\n",
    "Ldict=dict(zip(Lvalues,Lcounts))\n",
    "\n",
    "\n",
    "merge_counter=high_counter+low_counter\n",
    "Mvalues,Mcounts=list(zip(*merge_counter.most_common(13)))"
   ]
  },
  {
   "cell_type": "code",
   "execution_count": null,
   "metadata": {},
   "outputs": [],
   "source": [
    "Hvalues"
   ]
  },
  {
   "cell_type": "code",
   "execution_count": null,
   "metadata": {},
   "outputs": [],
   "source": [
    "Hvalues=list(Hvalues[0:11])\n",
    "H_other=sum(Hcounts[10:])\n",
    "Hcounts=list(Hcounts[0:11])\n",
    "Hcounts.append(H_other)\n",
    "Hvalues.append('その他')\n",
    "\n",
    "Lvalues=list(Lvalues[0:11])\n",
    "L_other=sum(Lcounts[10:])\n",
    "Lcounts=list(Lcounts[0:11])\n",
    "Lcounts.append(L_other)\n",
    "Lvalues.append('その他')\n"
   ]
  },
  {
   "cell_type": "code",
   "execution_count": null,
   "metadata": {},
   "outputs": [],
   "source": [
    "from operator import itemgetter\n",
    "Mcol=cm.Spectral(np.arange(len(Mcounts)+1)/float(len(Mcounts)+1)) \n",
    "\n",
    "Hiter_color=[]\n",
    "Liter_color=[]\n",
    "\n",
    "for H in Hvalues:\n",
    "    if H in Mvalues:\n",
    "        Hiter_color.append(list(Mvalues).index(H))\n",
    "\n",
    "for L in Lvalues:\n",
    "    if L in Mvalues:\n",
    "        Liter_color.append(list(Mvalues).index(L))\n",
    "\n",
    "Hiter_color.append(13)\n",
    "Liter_color.append(13)\n",
    "\n",
    "\n",
    "Lcol=np.array(itemgetter(Liter_color)(Mcol))\n",
    "Hcol=np.array(itemgetter(Hiter_color)(Mcol))\n",
    "print(Mvalues)\n",
    "\n",
    "print()\n",
    "print(Hvalues)\n",
    "print(Hiter_color)\n",
    "print()\n",
    "print(Lvalues)\n",
    "print(Liter_color)\n"
   ]
  },
  {
   "cell_type": "code",
   "execution_count": null,
   "metadata": {},
   "outputs": [],
   "source": [
    "print(Lcounts)\n",
    "print(Hcounts)"
   ]
  },
  {
   "cell_type": "code",
   "execution_count": null,
   "metadata": {},
   "outputs": [],
   "source": [
    "plt.style.use('ggplot')\n",
    "plt.rcParams.update({'font.size':18})\n",
    "#日本語対応FONT\n",
    "plt.rcParams['font.family'] = 'IPAPGothic'\n",
    "\n",
    "Mcol=cm.RdBu(np.arange(len(Mcounts))/float(len(Mcounts)))\n",
    "\n",
    "fig = plt.figure(figsize=(16,12))\n",
    "fig.subplots_adjust(wspace=0, hspace=0)\n",
    "\n",
    "# axes=fig.add_subplot(1,3,1)\n",
    "# axes.pie(Mcounts,pctdistance=0.75,colors=Mcol,counterclock=False,startangle=90,autopct=lambda p:'{:.1f}%'.format(p) if p>=4 else '')\n",
    "# axes.legend(Mvalues,fancybox=True,loc='upper right', borderaxespad=0,bbox_to_anchor=(2.7,1))\n",
    "\n",
    "axes=fig.add_subplot(1,2,1)\n",
    "axes.pie(Lcounts,pctdistance=0.75,colors=Lcol,counterclock=False,startangle=90,autopct=lambda p:'{:.1f}%'.format(p) if p>=4 else '')\n",
    "axes.legend(Lvalues,loc='best', borderaxespad=1,bbox_to_anchor=(0,1))\n",
    "\n",
    "axes.set_title(\"低評価者\")\n",
    "\n",
    "axes=fig.add_subplot(1,2,2)\n",
    "axes.pie(Hcounts,pctdistance=0.75,colors=Hcol,counterclock=False,startangle=90,autopct=lambda p:'{:.1f}%'.format(p) if p>=4 else '')\n",
    "axes.set_title(\"高評価者\")\n",
    "axes.legend(Hvalues,loc='best', borderaxespad=1,bbox_to_anchor=(1,1))\n",
    "\n",
    "\n",
    "plt.savefig('1126category1_2.png',bbox_inches='tight',pad_inches=0.05)\n",
    "\n",
    "\n",
    "plt.show()\n"
   ]
  },
  {
   "cell_type": "code",
   "execution_count": null,
   "metadata": {},
   "outputs": [],
   "source": []
  }
 ],
 "metadata": {
  "kernelspec": {
   "display_name": "Python 3",
   "language": "python",
   "name": "python3"
  },
  "language_info": {
   "codemirror_mode": {
    "name": "ipython",
    "version": 3
   },
   "file_extension": ".py",
   "mimetype": "text/x-python",
   "name": "python",
   "nbconvert_exporter": "python",
   "pygments_lexer": "ipython3",
   "version": "3.7.1"
  }
 },
 "nbformat": 4,
 "nbformat_minor": 2
}
