{
 "cells": [
  {
   "cell_type": "code",
   "execution_count": null,
   "metadata": {},
   "outputs": [],
   "source": [
    "%reload_ext autoreload\n",
    "%autoreload 2\n",
    "import sys; sys.path.append('./src')\n",
    "import urllib.request as urllib\n",
    "from bs4 import BeautifulSoup\n",
    "import re\n",
    "from contextlib import closing\n",
    "import sqlite3\n",
    "import time\n",
    "from selenium.webdriver.chrome.options import Options\n",
    "from selenium import webdriver\n",
    "from selenium.webdriver.support.ui import WebDriverWait\n",
    "from DB import *"
   ]
  },
  {
   "cell_type": "code",
   "execution_count": null,
   "metadata": {},
   "outputs": [],
   "source": [
    "options = Options()\n",
    "options.add_argument('--headless') \n",
    "browser = webdriver.Chrome(chrome_options=options)\n",
    "DB_HEAD='../data/database/'\n"
   ]
  },
  {
   "cell_type": "code",
   "execution_count": null,
   "metadata": {},
   "outputs": [],
   "source": [
    "low_dbname='../data/database/1107_low_rate_bakawall_each_prodcuts.db'\n",
    "high_dbname='../data/database/1107_high_rate_bakawall_each_prodcuts.db'\n",
    "low_category_db='../data/database/1112_low_prodcuts_text_category.db'\n",
    "high_category_db='../data/database/1112_high_prodcuts_text_category.db'\n",
    "\n",
    "Hconn,Hc=get_db_conn(high_dbname)\n",
    "Lconn,Lc=get_db_conn(low_dbname)\n",
    "\n",
    "Hconn2,Hc2=get_db_conn(high_category_db)\n",
    "Lconn2,Lc2=get_db_conn(low_category_db)"
   ]
  },
  {
   "cell_type": "code",
   "execution_count": null,
   "metadata": {},
   "outputs": [],
   "source": [
    "Hc2.execute('''create table product_text(id integer primary key,username,baka_star,each_id,pd_url,pd_star,pd_title,text_len,pd_text)''')\n",
    "Lc2.execute('''create table product_text(id integer primary key,username,baka_star,each_id,pd_url,pd_star,pd_title,text_len,pd_text)''')\n"
   ]
  },
  {
   "cell_type": "code",
   "execution_count": null,
   "metadata": {},
   "outputs": [],
   "source": [
    "for i in range(1,11):\n",
    "    Lc2.execute(f'alter table product_text add column category{i}')\n",
    "for i in range(1,11):\n",
    "    Hc2.execute(f'alter table product_text add column category{i}')\n"
   ]
  },
  {
   "cell_type": "code",
   "execution_count": null,
   "metadata": {},
   "outputs": [],
   "source": [
    "Lc2.execute('''select * from sqlite_master''')\n",
    "\n",
    "\n",
    "i=0\n",
    "for h in Lc2:\n",
    "    i+=1\n",
    "    print(h)\n",
    "    if i==10:\n",
    "        break"
   ]
  },
  {
   "cell_type": "code",
   "execution_count": null,
   "metadata": {},
   "outputs": [],
   "source": []
  },
  {
   "cell_type": "markdown",
   "metadata": {},
   "source": [
    "DBの要素数はカテゴリーが10個その他が9個で全部で19個。\n",
    "ただし、category10は使わず、idはincrement idとして予め使われているので、\n",
    "更新時は17個の要素を持ったタプルを一つずつ代入している。\n",
    "URLをたくさん読み込むので403が怖い"
   ]
  },
  {
   "cell_type": "code",
   "execution_count": null,
   "metadata": {},
   "outputs": [],
   "source": [
    "Lc.execute('''select distinct name,id,rate,url from products''')\n",
    "i=0\n",
    "\n",
    "\n",
    "for row in Lc:\n",
    "    each_id=row[0]\n",
    "    username=row[1]\n",
    "    baka_star=row[2]\n",
    "    pd_url=row[3]\n",
    "    i+=1\n",
    "    if i>494:\n",
    "        time.sleep(0.5)\n",
    "        print(i,pd_url)\n",
    "        row+=get_each_product_info(pd_url)\n",
    "        insert_sql = 'insert into product_text (username,baka_star,each_id,pd_url,pd_star,pd_title,text_len,pd_text, category1, category2, category3, category4, category5, category6, category7, category8, category9) values (?,?,?,?,?,?,?,?,?,?,?,?,?,?,?,?,?)'\n",
    "        Lc2.execute(insert_sql, row)\n",
    "        Lconn2.commit()"
   ]
  },
  {
   "cell_type": "code",
   "execution_count": null,
   "metadata": {},
   "outputs": [],
   "source": [
    "i=0\n",
    "Lc2.execute('''select * from product_text''')\n",
    "for row in Lc2:\n",
    "    i+=1\n",
    "    if i>=10:\n",
    "        print(row)\n",
    "    if i>=200:\n",
    "        break"
   ]
  },
  {
   "cell_type": "code",
   "execution_count": null,
   "metadata": {},
   "outputs": [],
   "source": [
    "get_each_product_info()"
   ]
  },
  {
   "cell_type": "code",
   "execution_count": null,
   "metadata": {},
   "outputs": [],
   "source": [
    "Lc.execute('''select distinct name,id,rate,url from products''')\n",
    "i=0\n",
    "for row in Lc:\n",
    "    i+=1\n",
    "    if i>=160:\n",
    "        print(row)\n",
    "    if i>=170:\n",
    "        break\n",
    "    \n",
    "\n"
   ]
  },
  {
   "cell_type": "code",
   "execution_count": null,
   "metadata": {},
   "outputs": [],
   "source": []
  }
 ],
 "metadata": {
  "kernelspec": {
   "display_name": "Python 3",
   "language": "python",
   "name": "python3"
  },
  "language_info": {
   "codemirror_mode": {
    "name": "ipython",
    "version": 3
   },
   "file_extension": ".py",
   "mimetype": "text/x-python",
   "name": "python",
   "nbconvert_exporter": "python",
   "pygments_lexer": "ipython3",
   "version": "3.7.1"
  }
 },
 "nbformat": 4,
 "nbformat_minor": 2
}
