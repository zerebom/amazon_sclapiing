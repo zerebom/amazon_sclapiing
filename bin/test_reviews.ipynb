{
 "cells": [
  {
   "cell_type": "code",
   "execution_count": 1,
   "metadata": {},
   "outputs": [],
   "source": [
    "import matplotlib.pyplot as plt\n",
    "plt.style.use('ggplot')\n",
    "import datetime\n",
    "import sys\n",
    "import os\n",
    "import re\n",
    "from robobrowser import RoboBrowser\n",
    "import re\n",
    "import pandas as pd \n",
    "import sqlite3\n",
    "from contextlib import closing\n",
    "import preprocessing\n",
    "browser = RoboBrowser(\n",
    "    parser='html.parser',  # Beautiful Soupで使用するパーサーを指定する。\n",
    "    # Cookieが使用できないと表示されてログインできない問題を回避するため、\n",
    "    # 通常のブラウザーのUser-Agent（ここではFirefoxのもの）を使う。\n",
    "    user_agent='Mozilla/5.0 (Macintosh; Intel Mac OS X 10.10; rv:45.0) Gecko/20100101 Firefox/45.0')\n",
    "\n",
    "def main():\n",
    "    df2=pd.DataFrame()\n",
    "\n",
    "    # 注文履歴のページを開く。\n",
    "    print('Navigating...', file=sys.stderr)\n",
    " \n",
    "    # browser.open('https://www.amazon.co.jp/gp/product/4873116554/ref=s9_acsd_simh_hd_bw_b1x4K_c_x_3_w?pf_rd_m=AN1VRQENFRJN5&pf_rd_s=merchandised-search-4&pf_rd_r=GGPKJ52QZZAWFHSKR0RF&pf_rd_t=101&pf_rd_p=84c28d47-4e2f-5adb-b380-a7b7809ae8ee&pf_rd_i=465392')\n",
    "    browser.open('https://www.amazon.co.jp/%E3%83%90%E3%82%AB%E3%81%AE%E5%A3%81-%E6%96%B0%E6%BD%AE%E6%96%B0%E6%9B%B8-%E9%A4%8A%E8%80%81-%E5%AD%9F%E5%8F%B8/product-reviews/4106100037/ref=cm_cr_dp_d_show_all_btm?ie=UTF8&reviewerType=all_reviews')\n",
    "\n",
    "\n",
    "    # ページャーをたどる。\n",
    "    while True:\n",
    "        df=pd.DataFrame()\n",
    "#         assert 'Python' in browser.parsed.title.string  # 注文履歴画面が表示されていることを確認する。\n",
    "        print(browser.parsed.title.string)\n",
    "        # print(browser.parsed.prettify())\n",
    "        df=print_order_history()\n",
    "        \n",
    "        df2=pd.concat([df2,df],axis=0,ignore_index=True)\n",
    "\n",
    "        link_to_next = browser.get_link('次へ')  # 「次へ」というテキストを持つリンクを取得する。\n",
    "        if not link_to_next:\n",
    "            return(df2)\n",
    "\n",
    "        print('Following link to next page...', file=sys.stderr)\n",
    "        browser.follow_link(link_to_next)  # 「次へ」というリンクをたどる。\n",
    "\n",
    "def print_order_history():\n",
    "    print('start')\n",
    "\n",
    "    # ページ内のすべての注文履歴について反復する。ブラウザーの開発者ツールでclass属性の値を確認できる。\n",
    "    for i,line_item in enumerate(browser.select('#cm_cr-review_list')):\n",
    "        reviewer_link=line_item.select('a-profile')\n",
    "        reviewer_name=line_item.select('a-profile-name')\n",
    "        review_rank=line_item.select('.a-icon-alt')\n",
    "        review_date=line_item.select('.review-date')\n",
    "        review_text=line_item.select('.review-text')\n",
    "        # review_vote=line_item.select('.cr-vote-text')\n",
    "        print(reviewer_link,reviewer_name)\n",
    "        \n",
    "        review_rank=[x.get_text() for x in review_rank]\n",
    "        review_rank=[float(re.sub('5つ星のうち','',x)) for x in review_rank]\n",
    "#             review_vote=[x.get_text() for x in review_vote]\n",
    "#             review_vote=[float(re.sub('人のお客様がこれが役に立ったと考えています','',x)) for x in review_vote]\n",
    "        review_text=[x.get_text() for x in review_text]\n",
    "\n",
    "        review_len_text=[len(x) for x in review_text]\n",
    "        date_formated=[datetime.datetime.strptime(x.get_text(),'%Y年%m月%d日').strftime('%Y-%m-%d') for x in review_date]\n",
    "        df=pd.DataFrame({\n",
    "            'date':date_formated,\n",
    "            'rank':review_rank,\n",
    "# \t\t\t\t'vote':review_vote,\n",
    "            'len_text':review_len_text,\n",
    "            'text':review_text\n",
    "        })\t\n",
    "\n",
    "        return(df)"
   ]
  },
  {
   "cell_type": "code",
   "execution_count": 2,
   "metadata": {},
   "outputs": [
    {
     "name": "stderr",
     "output_type": "stream",
     "text": [
      "Navigating...\n"
     ]
    },
    {
     "name": "stdout",
     "output_type": "stream",
     "text": [
      "Amazon.co.jp：カスタマーレビュー: バカの壁 (新潮新書)\n",
      "start\n"
     ]
    }
   ],
   "source": [
    "df3=main()"
   ]
  },
  {
   "cell_type": "code",
   "execution_count": 16,
   "metadata": {},
   "outputs": [
    {
     "data": {
      "text/html": [
       "<div>\n",
       "<style scoped>\n",
       "    .dataframe tbody tr th:only-of-type {\n",
       "        vertical-align: middle;\n",
       "    }\n",
       "\n",
       "    .dataframe tbody tr th {\n",
       "        vertical-align: top;\n",
       "    }\n",
       "\n",
       "    .dataframe thead th {\n",
       "        text-align: right;\n",
       "    }\n",
       "</style>\n",
       "<table border=\"1\" class=\"dataframe\">\n",
       "  <thead>\n",
       "    <tr style=\"text-align: right;\">\n",
       "      <th></th>\n",
       "    </tr>\n",
       "  </thead>\n",
       "  <tbody>\n",
       "  </tbody>\n",
       "</table>\n",
       "</div>"
      ],
      "text/plain": [
       "Empty DataFrame\n",
       "Columns: []\n",
       "Index: []"
      ]
     },
     "execution_count": 16,
     "metadata": {},
     "output_type": "execute_result"
    }
   ],
   "source": [
    "df3"
   ]
  },
  {
   "cell_type": "code",
   "execution_count": 3,
   "metadata": {},
   "outputs": [
    {
     "name": "stdout",
     "output_type": "stream",
     "text": [
      "[]\n"
     ]
    }
   ],
   "source": []
  },
  {
   "cell_type": "code",
   "execution_count": null,
   "metadata": {},
   "outputs": [],
   "source": []
  },
  {
   "cell_type": "code",
   "execution_count": null,
   "metadata": {},
   "outputs": [],
   "source": []
  },
  {
   "cell_type": "code",
   "execution_count": null,
   "metadata": {},
   "outputs": [],
   "source": []
  },
  {
   "cell_type": "code",
   "execution_count": null,
   "metadata": {},
   "outputs": [],
   "source": []
  }
 ],
 "metadata": {
  "kernelspec": {
   "display_name": "Python 3",
   "language": "python",
   "name": "python3"
  },
  "language_info": {
   "codemirror_mode": {
    "name": "ipython",
    "version": 3
   },
   "file_extension": ".py",
   "mimetype": "text/x-python",
   "name": "python",
   "nbconvert_exporter": "python",
   "pygments_lexer": "ipython3",
   "version": "3.6.6"
  }
 },
 "nbformat": 4,
 "nbformat_minor": 2
}
