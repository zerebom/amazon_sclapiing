{
 "cells": [
  {
   "cell_type": "code",
   "execution_count": 1,
   "metadata": {},
   "outputs": [],
   "source": [
    "%reload_ext autoreload\n",
    "%autoreload 2\n",
    "import sys; sys.path.append('./src')\n",
    "import urllib.request as urllib\n",
    "from bs4 import BeautifulSoup\n",
    "import re\n",
    "from contextlib import closing\n",
    "import sqlite3\n",
    "import time\n",
    "from selenium.webdriver.chrome.options import Options\n",
    "from selenium import webdriver\n",
    "from selenium.webdriver.support.ui import WebDriverWait\n",
    "from DB import *"
   ]
  },
  {
   "cell_type": "code",
   "execution_count": 2,
   "metadata": {},
   "outputs": [
    {
     "name": "stderr",
     "output_type": "stream",
     "text": [
      "c:\\users\\k-higuchi\\appdata\\local\\programs\\python\\python37\\lib\\site-packages\\ipykernel_launcher.py:3: DeprecationWarning: use options instead of chrome_options\n",
      "  This is separate from the ipykernel package so we can avoid doing imports until\n"
     ]
    }
   ],
   "source": [
    "options = Options()\n",
    "options.add_argument('--headless') \n",
    "browser = webdriver.Chrome(chrome_options=options)\n",
    "DB_HEAD='../data/database/'\n",
    "\n",
    "road_dbname=f'{DB_HEAD}1105_review_of_bakawall7.db'\n",
    "low_dbname=f'{DB_HEAD}1122_low_rate_bakawall_nolimit_prodcuts.db'\n",
    "high_dbname=f'{DB_HEAD}1122_high_rate_bakawall_nolimit_prodcuts.db'\n",
    "\n",
    "def main(start_num=0):\n",
    "    Rconn,Rc=get_db_conn(road_dbname)\n",
    "    low_select_Rdb=f'''select date,rate,url from reviews where rate<3'''\n",
    "    high_select_Rdb=f'''select date,rate,url from reviews where rate>3'''\n",
    "    \n",
    "    \n",
    "    Hconn,Hc=get_db_conn(high_dbname)\n",
    "    Lconn,Lc=get_db_conn(low_dbname)\n",
    "    head='https://www.amazon.co.jp'\n",
    "    \n",
    "#     create_table = '''create table products (id,name,rate,url,review,text,pn)'''\n",
    "#     Hc.execute(create_table)\n",
    "#     Lc.execute(create_table)\n",
    "    \n",
    "    get_one_people_each_products_url(Rconn,Rc,Hconn,Hc,high_select_Rdb,start_num)\n",
    "    get_one_people_each_products_url(Rconn,Rc,Lconn,Lc,low_select_Rdb,start_num)"
   ]
  },
  {
   "cell_type": "code",
   "execution_count": null,
   "metadata": {},
   "outputs": [],
   "source": [
    "road_dbname=f'{DB_HEAD}1105_review_of_bakawall7.db'\n",
    "Rconn,Rc=get_db_conn(road_dbname)\n",
    "low_select_Rdb=f'''select date,rate,url from reviews where rate<3'''\n",
    "# Hc2.execute('''select * from sqlite_master''')\n",
    "for i,row in enumerate(Rc.execute('''select * from sqlite_master''')):\n",
    "    print(i,row)\n",
    "    if i==10:\n",
    "        break"
   ]
  },
  {
   "cell_type": "code",
   "execution_count": null,
   "metadata": {},
   "outputs": [],
   "source": [
    "Rc.execute('''select * from sqlite_master''')\n",
    "for row in Rc:\n",
    "    print(row)"
   ]
  },
  {
   "cell_type": "code",
   "execution_count": null,
   "metadata": {},
   "outputs": [],
   "source": [
    "url='https://www.amazon.co.jp/gp/profile/amzn1.account.AHXU2TX6WIQFKLQWKOZBP322S76Q/ref=cm_cr_dp_d_gw_tr?ie=UTF8'\n",
    "browser,review_number,review_url,products_name=helper_get_producu_url(url)\n",
    "print(products_name)"
   ]
  },
  {
   "cell_type": "code",
   "execution_count": null,
   "metadata": {},
   "outputs": [],
   "source": [
    "from DB import *\n",
    "url='https://www.amazon.co.jp/gp/profile/amzn1.account.AHXU2TX6WIQFKLQWKOZBP322S76Q/ref=cm_cr_dp_d_gw_tr?ie=UTF8'\n",
    "review_url2,products_name2=scroll_and_get_100_Products_url(url,max_num=500)\n",
    "print(len(review_url2),len(products_name2))"
   ]
  },
  {
   "cell_type": "code",
   "execution_count": null,
   "metadata": {},
   "outputs": [],
   "source": []
  },
  {
   "cell_type": "code",
   "execution_count": null,
   "metadata": {},
   "outputs": [],
   "source": [
    "main(start_num=17)"
   ]
  },
  {
   "cell_type": "code",
   "execution_count": null,
   "metadata": {},
   "outputs": [],
   "source": [
    "broeser=webdriver.Chrome(chrome_options=options)"
   ]
  },
  {
   "cell_type": "code",
   "execution_count": 59,
   "metadata": {},
   "outputs": [
    {
     "name": "stdout",
     "output_type": "stream",
     "text": [
      "5467\n"
     ]
    }
   ],
   "source": [
    "_5000url='https://www.amazon.co.jp/gp/profile/amzn1.account.AGKOW57VGTXIXTGQOC32KE2CJWNA/ref=cm_cr_srp_d_gw_btm?ie=UTF8'\n",
    "\n",
    "\n",
    "browser.get(_5000url)\n",
    "browser,review_number,review_url,products_name=helper_get_producu_url(browser)[0:4]\n",
    "print(review_number)"
   ]
  },
  {
   "cell_type": "code",
   "execution_count": null,
   "metadata": {},
   "outputs": [],
   "source": [
    "print(len(review_url))"
   ]
  },
  {
   "cell_type": "code",
   "execution_count": 24,
   "metadata": {},
   "outputs": [],
   "source": []
  },
  {
   "cell_type": "code",
   "execution_count": null,
   "metadata": {},
   "outputs": [],
   "source": []
  },
  {
   "cell_type": "code",
   "execution_count": null,
   "metadata": {},
   "outputs": [],
   "source": []
  },
  {
   "cell_type": "code",
   "execution_count": 30,
   "metadata": {},
   "outputs": [
    {
     "name": "stdout",
     "output_type": "stream",
     "text": [
      "0 1 2 3 4 5 6 7 8 9 10 11 12 13 14 15 16 17 18 19 "
     ]
    }
   ],
   "source": [
    "from selenium.webdriver.common.action_chains import ActionChains\n",
    "# element = driver.find_element_by_id(\"ID\")\n",
    "for i in range(20):\n",
    "    print(i,end=' ')\n",
    "    time.sleep(1)\n",
    "    browser.execute_script('scroll(0, document.body.scrollHeight)')\n",
    "#     element=browser.find_element_by_class_name(\"navFooterBackToTopText\") \n",
    "#     actions = ActionChains(browser)\n",
    "#     actions.move_to_element(element)\n",
    "#     actions.perform()\n"
   ]
  },
  {
   "cell_type": "code",
   "execution_count": 48,
   "metadata": {},
   "outputs": [
    {
     "name": "stdout",
     "output_type": "stream",
     "text": [
      "930\n"
     ]
    }
   ],
   "source": [
    "browser,review_number,review_url,products_name=helper_get_producu_url(browser)[0:4]\n",
    "print(len(review_url))"
   ]
  },
  {
   "cell_type": "code",
   "execution_count": null,
   "metadata": {},
   "outputs": [],
   "source": []
  },
  {
   "cell_type": "code",
   "execution_count": null,
   "metadata": {},
   "outputs": [
    {
     "name": "stdout",
     "output_type": "stream",
     "text": [
      "70|80|80|90|100|100|110|120|130|140|150|160|170|180|190|200|210|220|230|240|250|260|280|290|300|310|320|330|340|350|370|380|400|410|420|430|440|450|470|480|490|500|510|520|530|540|550|560|580|590|610|640|650|670|690|710|740|750|770|790|810|830|850|870|890|910|930|950|970|990|1010|1030|1060|1070|1100|1120|1150|1180|1200|1220|1230|1250|1270|1280|1320|1350|1380|1410|1440|1460|1500|1510|1550|1570|1600|1620|1650|1670|1700|1720|1760|1780|1800|1830|1870|1900|1920|1930|1970|1990|2030|2050|2090|2110|2150|2180|2210|2230|2260|2290|2330|2350|2380|2410|2430|2470|2490|2510|2540|2570|2580|2610|2610|2610|2610|2610|2610|2610|2610|2610|2610|2610|2610|2610|2610|2610|2610|2610|2610|2610|2610|2610|2610|2610|2610|2610|2610|2610|2610|2610|2610|2610|2610|2610|2610|2610|2610|2610|2610|2610|2610|2610|2610|2610|2610|2610|2610|2610|2610|2610|2610|2610|2610|2610|2610|2610|2610|2610|2610|2610|2610|2610|2610|2610|2610|2610|2610|2610|2610|2610|2610|2610|2610|2610|2610|2610|2610|2610|2610|2610|2610|2610|2610|2610|2610|2610|2610|2610|2610|2610|2610|2610|2610|2610|2610|2610|2610|2610|2610|2610|2610|2610|2610|2610|2610|2610|2610|2610|2610|2610|2610|2610|2610|2610|2610|2610|2610|2610|2610|2610|2610|2610|2610|2610|2610|2610|2610|2610|2610|2610|2610|2610|2610|2610|2610|2610|2610|2610|2610|2610|2610|2610|2610|2610|2610|2610|2610|2610|2610|2610|2610|2610|2610|2610|2610|2610|2610|2610|2610|2610|2610|2610|2610|2610|2610|2610|2610|"
     ]
    }
   ],
   "source": [
    "%%time\n",
    "lenurl=0\n",
    "while lenurl<=5000:\n",
    "    browser.execute_script('scroll(0, document.body.scrollHeight)')\n",
    "    soup = BeautifulSoup(browser.page_source, \"lxml\")\n",
    "    review_box=soup.select('.profile-at-card')\n",
    "    review_url=['https://www.amazon.co.jp'+x.select('.profile-at-review-link')[0].get('href') for x in review_box]\n",
    "    lenurl=len(review_url)\n",
    "    print(len(review_url),end='|')"
   ]
  },
  {
   "cell_type": "code",
   "execution_count": 42,
   "metadata": {},
   "outputs": [
    {
     "name": "stdout",
     "output_type": "stream",
     "text": [
      "910\n"
     ]
    }
   ],
   "source": [
    "review_box=soup.select('.profile-at-card')\n",
    "review_url=['https://www.amazon.co.jp'+x.select('.profile-at-review-link')[0].get('href') for x in review_box]\n",
    "print(len(review_url))"
   ]
  },
  {
   "cell_type": "code",
   "execution_count": 41,
   "metadata": {},
   "outputs": [],
   "source": [
    "soup = BeautifulSoup(browser.page_source, \"lxml\")"
   ]
  },
  {
   "cell_type": "code",
   "execution_count": null,
   "metadata": {},
   "outputs": [],
   "source": []
  }
 ],
 "metadata": {
  "kernelspec": {
   "display_name": "Python 3",
   "language": "python",
   "name": "python3"
  },
  "language_info": {
   "codemirror_mode": {
    "name": "ipython",
    "version": 3
   },
   "file_extension": ".py",
   "mimetype": "text/x-python",
   "name": "python",
   "nbconvert_exporter": "python",
   "pygments_lexer": "ipython3",
   "version": "3.7.1"
  }
 },
 "nbformat": 4,
 "nbformat_minor": 2
}
