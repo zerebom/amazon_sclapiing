{
 "cells": [
  {
   "cell_type": "code",
   "execution_count": 4,
   "metadata": {},
   "outputs": [],
   "source": [
    "%reload_ext autoreload\n",
    "%autoreload 2\n",
    "import sys; sys.path.append('./src')\n",
    "import urllib.request as urllib\n",
    "from bs4 import BeautifulSoup\n",
    "import re\n",
    "from contextlib import closing\n",
    "import sqlite3\n",
    "import time\n",
    "from selenium.webdriver.chrome.options import Options\n",
    "from selenium import webdriver\n",
    "from selenium.webdriver.support.ui import WebDriverWait\n",
    "from DB import *"
   ]
  },
  {
   "cell_type": "code",
   "execution_count": 6,
   "metadata": {},
   "outputs": [],
   "source": [
    "low_category_db='../data/database/1122_low_rate_bakawall_nolimit_prodcuts.db'\n",
    "high_category_db='../data/database/1122_high_rate_bakawall_nolimit_prodcuts.db'\n",
    "Hconn2,Hc2=get_db_conn(high_category_db)\n",
    "Lconn2,Lc2=get_db_conn(low_category_db)\n",
    "\n",
    "# for i in range(1,11):\n",
    "#     Hc2.execute(f'alter table products add column category{i}')\n",
    "\n",
    "# for i in range(1,11):\n",
    "#     Lc2.execute(f'alter table products add column category{i}')"
   ]
  },
  {
   "cell_type": "code",
   "execution_count": 7,
   "metadata": {},
   "outputs": [],
   "source": [
    "def get_each_product_info(url):\n",
    "    '''\n",
    "    レビュー詳細URLから必要な情報を手に入れるコード\n",
    "    SQLに紐づけて必要な部分を後から埋めるでもいいかもしれない。\n",
    "    categoryの数が変動するので注意\n",
    "    '''\n",
    "    browser.get(url)\n",
    "    soup = BeautifulSoup(browser.page_source, 'lxml')\n",
    "    text=soup.select('.review-text')[0].text\n",
    "    \n",
    "    product_url='https://www.amazon.co.jp'+soup.select('.a-text-ellipsis > a')[0].get('href')\n",
    "    category=get_category(product_url)\n",
    "    \n",
    "    info_list=[]\n",
    "    info_list.extend([len(text),text])\n",
    "    info_list.extend(category)\n",
    "    info_list.extend(['']*(11-len(info_list)))\n",
    "    \n",
    "    return(tuple(info_list))"
   ]
  },
  {
   "cell_type": "code",
   "execution_count": 14,
   "metadata": {},
   "outputs": [],
   "source": [
    "def get_category(product_url):\n",
    "    browser.get(product_url)\n",
    "    soup = BeautifulSoup(browser.page_source, 'lxml')\n",
    "    try:\n",
    "        a=soup.select('.a-unordered-list')[0].text\n",
    "    except:\n",
    "        browser.get(product_url)\n",
    "        soup = BeautifulSoup(browser.page_source, 'lxml')\n",
    "    \n",
    "    try:\n",
    "        a=soup.select('.a-unordered-list')[0].text\n",
    "    except:\n",
    "        print('no_product')\n",
    "        return(['no_product'])  \n",
    "    category=soup.select('.a-unordered-list')[0].text\n",
    "    category=re.sub('›','',category)\n",
    "    category=re.sub('\\n','',category)\n",
    "    category=category.strip()\n",
    "    category=category.split()\n",
    "    print(category)\n",
    "    return(category)  \n",
    "\n",
    "    "
   ]
  },
  {
   "cell_type": "code",
   "execution_count": 16,
   "metadata": {},
   "outputs": [
    {
     "name": "stdout",
     "output_type": "stream",
     "text": [
      "1 https://www.amazon.co.jp/gp/customer-reviews/R2W1GSMKFX2GO2?ref=pf_vv_at_pdctrvw_srp\n",
      "['本', 'スポーツ・アウトドア', '登山・ハイキング']\n"
     ]
    },
    {
     "ename": "ProgrammingError",
     "evalue": "Incorrect number of bindings supplied. The current statement uses 11, and there are 15 supplied.",
     "output_type": "error",
     "traceback": [
      "\u001b[1;31m---------------------------------------------------------------------------\u001b[0m",
      "\u001b[1;31mProgrammingError\u001b[0m                          Traceback (most recent call last)",
      "\u001b[1;32m<ipython-input-16-74b52bca33ce>\u001b[0m in \u001b[0;36m<module>\u001b[1;34m\u001b[0m\n\u001b[0;32m      7\u001b[0m     \u001b[0mrow\u001b[0m\u001b[1;33m+=\u001b[0m\u001b[0mget_each_product_info\u001b[0m\u001b[1;33m(\u001b[0m\u001b[0mpd_url\u001b[0m\u001b[1;33m)\u001b[0m\u001b[1;33m\u001b[0m\u001b[1;33m\u001b[0m\u001b[0m\n\u001b[0;32m      8\u001b[0m     \u001b[0minsert_sql\u001b[0m \u001b[1;33m=\u001b[0m \u001b[1;34m'insert into products (review,text,category1, category2, category3, category4, category5, category6, category7, category8, category9) values (?,?,?,?,?,?,?,?,?,?,?)'\u001b[0m\u001b[1;33m\u001b[0m\u001b[1;33m\u001b[0m\u001b[0m\n\u001b[1;32m----> 9\u001b[1;33m     \u001b[0mLc2\u001b[0m\u001b[1;33m.\u001b[0m\u001b[0mexecute\u001b[0m\u001b[1;33m(\u001b[0m\u001b[0minsert_sql\u001b[0m\u001b[1;33m,\u001b[0m \u001b[0mrow\u001b[0m\u001b[1;33m)\u001b[0m\u001b[1;33m\u001b[0m\u001b[1;33m\u001b[0m\u001b[0m\n\u001b[0m\u001b[0;32m     10\u001b[0m     \u001b[0mLconn2\u001b[0m\u001b[1;33m.\u001b[0m\u001b[0mcommit\u001b[0m\u001b[1;33m(\u001b[0m\u001b[1;33m)\u001b[0m\u001b[1;33m\u001b[0m\u001b[1;33m\u001b[0m\u001b[0m\n",
      "\u001b[1;31mProgrammingError\u001b[0m: Incorrect number of bindings supplied. The current statement uses 11, and there are 15 supplied."
     ]
    }
   ],
   "source": [
    "Lc2.execute('''select distinct name,id,rate,url from products''')\n",
    "for i,row in enumerate(Lc2):\n",
    "    if i <=0:\n",
    "        continue\n",
    "    pd_url=row[3]\n",
    "    print(i,pd_url)\n",
    "    row+=get_each_product_info(pd_url)\n",
    "    insert_sql = 'insert into products (review,text,category1,category2, category3, category4, category5, category6, category7, category8, category9) values (?,?,?,?,?,?,?,?,?,?,?)'\n",
    "    Lc2.execute(insert_sql, row)\n",
    "    Lconn2.commit()"
   ]
  },
  {
   "cell_type": "code",
   "execution_count": null,
   "metadata": {},
   "outputs": [],
   "source": [
    "Lc.execute('''select distinct name,id,rate,url from products''')\n",
    "for row in Lc:\n",
    "    each_id=row[0]\n",
    "    username=row[1]\n",
    "    baka_star=row[2]\n",
    "    pd_url=row[3]\n",
    "    i+=1\n",
    "        print(i,pd_url)\n",
    "        row+=get_each_product_info(pd_url)\n",
    "        insert_sql = 'insert into products (review,text,category1, category2, category3, category4, category5, category6, category7, category8, category9) values (?,?,?,?,?,?,?,?,?,?,?)'\n",
    "        Lc2.execute(insert_sql, row)\n",
    "        Lconn2.commit()"
   ]
  }
 ],
 "metadata": {
  "kernelspec": {
   "display_name": "Python 3",
   "language": "python",
   "name": "python3"
  },
  "language_info": {
   "codemirror_mode": {
    "name": "ipython",
    "version": 3
   },
   "file_extension": ".py",
   "mimetype": "text/x-python",
   "name": "python",
   "nbconvert_exporter": "python",
   "pygments_lexer": "ipython3",
   "version": "3.7.1"
  }
 },
 "nbformat": 4,
 "nbformat_minor": 2
}
