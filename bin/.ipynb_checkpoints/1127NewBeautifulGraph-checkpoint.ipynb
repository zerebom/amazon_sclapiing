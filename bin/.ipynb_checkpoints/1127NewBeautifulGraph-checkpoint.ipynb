{
 "cells": [
  {
   "cell_type": "code",
   "execution_count": 1,
   "metadata": {},
   "outputs": [],
   "source": [
    "import sys;sys.path.append('./src')\n",
    "import sqlite3\n",
    "import re\n",
    "from DB import *\n",
    "import matplotlib.pyplot as plt\n",
    "import matplotlib.cm as cm\n",
    "import numpy as np\n",
    "import re \n",
    "from collections import Counter"
   ]
  },
  {
   "cell_type": "code",
   "execution_count": 5,
   "metadata": {},
   "outputs": [
    {
     "data": {
      "text/plain": [
       "<sqlite3.Cursor at 0x28f6c6cdd50>"
      ]
     },
     "execution_count": 5,
     "metadata": {},
     "output_type": "execute_result"
    }
   ],
   "source": [
    "low_category_db='../data/database/1112_low_prodcuts_text_category.db'\n",
    "high_category_db='../data/database/1112_high_prodcuts_text_category.db'\n",
    "Hconn2,Hc2=get_db_conn(high_category_db)\n",
    "Lconn2,Lc2=get_db_conn(low_category_db)\n",
    "Lc2.execute('''select distinct category1,category2,category3,category4 from product_text ''')\n",
    "Hc2.execute('''select distinct category1,category2,category3,category4 from product_text ''')"
   ]
  },
  {
   "cell_type": "code",
   "execution_count": 6,
   "metadata": {},
   "outputs": [],
   "source": [
    "low_category=[x[1] for x in Lc2]\n",
    "high_category=[x[1] for x in Hc2]\n",
    "low_counter=Counter(low_category)\n",
    "high_counter=Counter(high_category)"
   ]
  },
  {
   "cell_type": "code",
   "execution_count": 14,
   "metadata": {},
   "outputs": [],
   "source": [
    "Hvalues,Hcounts=list(zip(*high_counter.most_common(20)))\n",
    "Hdict=dict(zip(Hvalues,Hcounts))\n",
    "\n",
    "Lvalues,Lcounts=list(zip(*high_counter.most_common(20)))\n",
    "Ldict=dict(zip(Lvalues,Lcounts))\n",
    "\n",
    "merge_counter=high_counter+low_counter\n",
    "Mvalues,Mcounts=list(zip(*merge_counter.most_common(20)))"
   ]
  },
  {
   "cell_type": "code",
   "execution_count": 13,
   "metadata": {},
   "outputs": [
    {
     "name": "stdout",
     "output_type": "stream",
     "text": [
      "['PCアクセサリ・サプライ', '家電', 'レディース', 'キッチン用品', 'カメラ', 'メンズ', '外国映画', '栄養補助食品', '携帯電話・スマートフォン', '￥', 'PCパーツ', 'Kindle本', '文学・評論', '日用品', 'ジャズ・フュージョン', '日本映画', '雑誌', 'ビジネス・経済', '科学・テクノロジー', '語学・辞事典・年鑑']\n"
     ]
    }
   ],
   "source": []
  },
  {
   "cell_type": "code",
   "execution_count": 16,
   "metadata": {},
   "outputs": [
    {
     "name": "stdout",
     "output_type": "stream",
     "text": [
      "0\n",
      "1\n",
      "2\n",
      "3\n",
      "5\n",
      "6\n",
      "8\n",
      "11\n",
      "4\n",
      "13\n",
      "16\n",
      "12\n",
      "7\n",
      "14\n",
      "17\n",
      "9\n"
     ]
    }
   ],
   "source": [
    "for M in Mvalues:\n",
    "    if M in Hvalues:\n",
    "        print(list(Hvalues).index(M))       "
   ]
  },
  {
   "cell_type": "code",
   "execution_count": null,
   "metadata": {},
   "outputs": [],
   "source": [
    "Mcol=cm.Spectral(np.arange(len(Mcounts))/float(len(Mcounts)))\n",
    "\n",
    "fig = plt.figure(figsize=(12,12))\n",
    "fig.subplots_adjust(wspace=0.1, hspace=0.1)\n",
    "\n",
    "axes=fig.add_subplot(1,2,1)\n",
    "axes.pie(Hcounts,pctdistance=0.75,colors=Lcol,counterclock=False,startangle=90,autopct=lambda p:'{:.1f}%'.format(p) if p>=4 else '')\n",
    "axes.set_title(\"低評価者\")\n",
    "\n",
    "\n"
   ]
  }
 ],
 "metadata": {
  "kernelspec": {
   "display_name": "Python 3",
   "language": "python",
   "name": "python3"
  },
  "language_info": {
   "codemirror_mode": {
    "name": "ipython",
    "version": 3
   },
   "file_extension": ".py",
   "mimetype": "text/x-python",
   "name": "python",
   "nbconvert_exporter": "python",
   "pygments_lexer": "ipython3",
   "version": "3.7.1"
  }
 },
 "nbformat": 4,
 "nbformat_minor": 2
}
