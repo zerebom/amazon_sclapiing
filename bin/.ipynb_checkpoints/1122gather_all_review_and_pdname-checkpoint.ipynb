{
 "cells": [
  {
   "cell_type": "code",
   "execution_count": 3,
   "metadata": {},
   "outputs": [],
   "source": [
    "%reload_ext autoreload\n",
    "%autoreload 2\n",
    "import sys; sys.path.append('./src')\n",
    "import urllib.request as urllib\n",
    "from bs4 import BeautifulSoup\n",
    "import re\n",
    "from contextlib import closing\n",
    "import sqlite3\n",
    "import time\n",
    "from selenium.webdriver.chrome.options import Options\n",
    "from selenium import webdriver\n",
    "from selenium.webdriver.support.ui import WebDriverWait\n",
    "from DB import *"
   ]
  },
  {
   "cell_type": "code",
   "execution_count": 2,
   "metadata": {},
   "outputs": [
    {
     "name": "stderr",
     "output_type": "stream",
     "text": [
      "c:\\users\\k-higuchi\\appdata\\local\\programs\\python\\python37\\lib\\site-packages\\ipykernel_launcher.py:3: DeprecationWarning: use options instead of chrome_options\n",
      "  This is separate from the ipykernel package so we can avoid doing imports until\n"
     ]
    }
   ],
   "source": [
    "options = Options()\n",
    "options.add_argument('--headless') \n",
    "browser = webdriver.Chrome(chrome_options=options)\n",
    "DB_HEAD='../data/database/'\n",
    "\n",
    "road_dbname=f'{DB_HEAD}1105_review_of_bakawall7.db'\n",
    "low_dbname=f'{DB_HEAD}1122_low_rate_bakawall_nolimit_prodcuts.db'\n",
    "high_dbname=f'{DB_HEAD}1122_high_rate_bakawall_nolimit_prodcuts.db'\n",
    "\n",
    "def main(start_num=0):\n",
    "    Rconn,Rc=get_db_conn(road_dbname)\n",
    "    low_select_Rdb=f'''select date,rate,url from reviews where rate<3'''\n",
    "    high_select_Rdb=f'''select date,rate,url from reviews where rate>3'''\n",
    "    \n",
    "    \n",
    "    Hconn,Hc=get_db_conn(high_dbname)\n",
    "    Lconn,Lc=get_db_conn(low_dbname)\n",
    "    head='https://www.amazon.co.jp'\n",
    "    \n",
    "#     create_table = '''create table products (id,name,rate,url,review,text,pn)'''\n",
    "#     Hc.execute(create_table)\n",
    "#     Lc.execute(create_table)\n",
    "    \n",
    "    get_one_people_each_products_url(Rconn,Rc,Hconn,Hc,high_select_Rdb,start_num)\n",
    "    get_one_people_each_products_url(Rconn,Rc,Lconn,Lc,low_select_Rdb,start_num)"
   ]
  },
  {
   "cell_type": "code",
   "execution_count": null,
   "metadata": {},
   "outputs": [],
   "source": [
    "road_dbname=f'{DB_HEAD}1105_review_of_bakawall7.db'\n",
    "Rconn,Rc=get_db_conn(road_dbname)\n",
    "low_select_Rdb=f'''select date,rate,url from reviews where rate<3'''\n",
    "# Hc2.execute('''select * from sqlite_master''')\n",
    "for i,row in enumerate(Rc.execute('''select * from sqlite_master''')):\n",
    "    print(i,row)\n",
    "    if i==10:\n",
    "        break"
   ]
  },
  {
   "cell_type": "code",
   "execution_count": 31,
   "metadata": {},
   "outputs": [],
   "source": [
    "Rc.execute('''select * from sqlite_master''')\n",
    "for row in Rc:\n",
    "    print(row)"
   ]
  },
  {
   "cell_type": "code",
   "execution_count": null,
   "metadata": {},
   "outputs": [],
   "source": [
    "url='https://www.amazon.co.jp/gp/profile/amzn1.account.AHXU2TX6WIQFKLQWKOZBP322S76Q/ref=cm_cr_dp_d_gw_tr?ie=UTF8'\n",
    "browser,review_number,review_url,products_name=helper_get_producu_url(url)\n",
    "print(products_name)"
   ]
  },
  {
   "cell_type": "code",
   "execution_count": 19,
   "metadata": {},
   "outputs": [
    {
     "name": "stdout",
     "output_type": "stream",
     "text": [
      "総レビュー数:304件\n",
      "1回目のループ\n",
      "130件のレビューを取得しました。\n",
      "2回目のループ\n",
      "302件のレビューを取得しました。\n",
      "3回目のループ\n",
      "302件のレビューを取得しました。\n",
      "break!\n",
      "302 302\n"
     ]
    }
   ],
   "source": [
    "from DB import *\n",
    "url='https://www.amazon.co.jp/gp/profile/amzn1.account.AHXU2TX6WIQFKLQWKOZBP322S76Q/ref=cm_cr_dp_d_gw_tr?ie=UTF8'\n",
    "review_url2,products_name2=scroll_and_get_100_Products_url(url,max_num=500)\n",
    "print(len(review_url2),len(products_name2))"
   ]
  },
  {
   "cell_type": "code",
   "execution_count": null,
   "metadata": {},
   "outputs": [],
   "source": []
  },
  {
   "cell_type": "code",
   "execution_count": null,
   "metadata": {},
   "outputs": [
    {
     "name": "stdout",
     "output_type": "stream",
     "text": [
      "10人目、街道を行くさんのレビューを取得中です\n",
      "総レビュー数:5467件\n",
      "1回目のループ\n",
      "180件のレビューを取得しました。\n",
      "2回目のループ\n",
      "380件のレビューを取得しました。\n",
      "3回目のループ\n",
      "11人目、walkerさんのレビューを取得中です\n",
      "総レビュー数:1件\n",
      "12人目、坂さんのレビューを取得中です\n",
      "総レビュー数:13件\n",
      "1回目のループ\n",
      "13件のレビューを取得しました。\n",
      "2回目のループ\n",
      "13件のレビューを取得しました。\n",
      "break!\n",
      "13人目、オフィスパオさんのレビューを取得中です\n",
      "総レビュー数:137件\n",
      "1回目のループ\n",
      "110件のレビューを取得しました。\n",
      "2回目のループ\n",
      "137件のレビューを取得しました。\n",
      "3回目のループ\n",
      "137件のレビューを取得しました。\n",
      "break!\n",
      "14人目、amoteniaさんのレビューを取得中です\n",
      "総レビュー数:9999999999件\n",
      "1回目のループ\n",
      "100件のレビューを取得しました。\n",
      "2回目のループ\n",
      "184件のレビューを取得しました。\n",
      "3回目のループ\n",
      "184件のレビューを取得しました。\n",
      "break!\n",
      "15人目、fwie4838さんのレビューを取得中です\n",
      "総レビュー数:9件\n",
      "1回目のループ\n",
      "9件のレビューを取得しました。\n",
      "break!\n",
      "16人目、あひるさんのレビューを取得中です\n",
      "総レビュー数:85件\n",
      "1回目のループ\n",
      "85件のレビューを取得しました。\n",
      "2回目のループ\n",
      "85件のレビューを取得しました。\n",
      "break!\n",
      "17人目、柴崎　武宏さんのレビューを取得中です\n",
      "総レビュー数:359件\n"
     ]
    }
   ],
   "source": [
    "main(start_num=10)"
   ]
  },
  {
   "cell_type": "code",
   "execution_count": null,
   "metadata": {},
   "outputs": [],
   "source": []
  }
 ],
 "metadata": {
  "kernelspec": {
   "display_name": "Python 3",
   "language": "python",
   "name": "python3"
  },
  "language_info": {
   "codemirror_mode": {
    "name": "ipython",
    "version": 3
   },
   "file_extension": ".py",
   "mimetype": "text/x-python",
   "name": "python",
   "nbconvert_exporter": "python",
   "pygments_lexer": "ipython3",
   "version": "3.7.1"
  }
 },
 "nbformat": 4,
 "nbformat_minor": 2
}
