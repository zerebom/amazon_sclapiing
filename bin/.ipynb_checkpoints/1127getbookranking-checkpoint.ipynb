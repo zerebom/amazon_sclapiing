{
 "cells": [
  {
   "cell_type": "markdown",
   "metadata": {},
   "source": [
    "本のタイトルを取得する。  \n",
    "すでにあるURLDBを使う。  \n",
    "本しか必要ないのでcategory='本'で絞って書く。  \n",
    "DBに格納するとき、あまりたくさんデータをスタックしないように気を付ける。  "
   ]
  },
  {
   "cell_type": "code",
   "execution_count": null,
   "metadata": {},
   "outputs": [],
   "source": [
    "import sys;sys.path.append('./src')\n",
    "import sqlite3\n",
    "import re\n",
    "from DB import *\n",
    "from NLP import *\n",
    "import urllib.request as urllib\n",
    "from bs4 import BeautifulSoup\n",
    "import sqlite3\n",
    "from contextlib import closing"
   ]
  },
  {
   "cell_type": "code",
   "execution_count": null,
   "metadata": {},
   "outputs": [],
   "source": [
    "options = Options()\n",
    "options.add_argument('--headless') \n",
    "browser = webdriver.Chrome(chrome_options=options)\n",
    "DB_HEAD='../data/database/'"
   ]
  },
  {
   "cell_type": "code",
   "execution_count": null,
   "metadata": {},
   "outputs": [],
   "source": [
    "def commit_DB(c,conn,row,title,insert_sql):\n",
    "    c.execute(insert_sql,(row,title))\n",
    "    conn.commit()\n",
    "\n",
    "    "
   ]
  },
  {
   "cell_type": "code",
   "execution_count": null,
   "metadata": {},
   "outputs": [],
   "source": [
    "#highコード\n",
    "road_dbname=f'{DB_HEAD}1112_high_prodcuts_text_category.db'\n",
    "road_dbname2=f'{DB_HEAD}1112_low_prodcuts_text_category.db'\n",
    "write_dbname=f'{DB_HEAD}1126_high_prodcuts_title.db'\n",
    "write_dbname2=f'{DB_HEAD}1126_low_prodcuts_title.db'\n",
    "\n",
    "Rconn,Rc=get_db_conn(road_dbname)\n",
    "Wconn,Wc=get_db_conn(write_dbname)\n",
    "Rconn2,Rc2=get_db_conn(road_dbname2)\n",
    "Wconn2,Wc2=get_db_conn(write_dbname2)\n",
    "\n",
    "\n",
    "select_Rdb=f'''select id,pd_url from product_text where category1='本' '''\n",
    "insert_sql=f' insert into product_text (id,pd_name) values(?,?)'\n"
   ]
  },
  {
   "cell_type": "code",
   "execution_count": null,
   "metadata": {},
   "outputs": [],
   "source": [
    "HOGE=Rc.execute(select_Rdb)    \n",
    "for i,row in enumerate(HOGE):\n",
    "    print(i,end=' ')\n",
    "    browser.get(row[1])\n",
    "    soup = BeautifulSoup(browser.page_source, 'html.parser')\n",
    "    try:\n",
    "        title=soup.select('.a-text-ellipsis > a')[0].text\n",
    "    except:\n",
    "        title='no_title'\n",
    "        time.sleep(1)\n",
    "    print(title)\n",
    "    commit_DB(Wc,Wconn,row[0],title,insert_sql)"
   ]
  },
  {
   "cell_type": "code",
   "execution_count": null,
   "metadata": {},
   "outputs": [],
   "source": [
    "Wc2.execute('''create table product_text (id,pd_name)''')\n",
    "\n",
    "HOGE2=Rc2.execute(select_Rdb)    \n",
    "for i,row in enumerate(HOGE2):\n",
    "    print(i,end=' ')\n",
    "    browser.get(row[1])\n",
    "    soup = BeautifulSoup(browser.page_source, 'html.parser')\n",
    "    try:   \n",
    "        title=soup.select('.a-text-ellipsis > a')[0].text\n",
    "    except:\n",
    "        title='no_title'\n",
    "        time.sleep(1)\n",
    "    print(title)\n",
    "    commit_DB(Wc2,Wconn2,row[0],title,insert_sql)"
   ]
  },
  {
   "cell_type": "code",
   "execution_count": null,
   "metadata": {},
   "outputs": [],
   "source": [
    "#実験コード\n",
    "url='https://www.amazon.co.jp/gp/customer-reviews/R2J45IH3KEN1T?ref=pf_vv_at_pdctrvw_srp'\n",
    "browser.get(url)\n",
    "soup = BeautifulSoup(browser.page_source, 'html.parser')\n",
    "try:\n",
    "    title=soup.select('.a-text-ellipsis > a')[0].text\n",
    "except:\n",
    "    title='no_title'\n",
    "\n",
    "print(title)"
   ]
  },
  {
   "cell_type": "code",
   "execution_count": 52,
   "metadata": {},
   "outputs": [
    {
     "name": "stdout",
     "output_type": "stream",
     "text": [
      "('小さなことに左右されない 「本当の自信」を手に入れる9つのステップ',)\n",
      "('決定版 トート・タロット入門 (エルブックス・シリーズ)',)\n",
      "('崖っぷち高齢独身者 (光文社新書)',)\n",
      "('暗黒館の殺人 (上) (講談社ノベルス)',)\n",
      "('マダム・クロード愛の法則―パリ高級娼婦館女主人の告白 (知恵の森文庫)',)\n",
      "('前田義子の迷わない強運哲学',)\n",
      "('負け犬の遠吠え',)\n",
      "('リセットダイエット―覚悟を決めて1週間!',)\n",
      "('マレ-鉄道の謎 (講談社ノベルス)',)\n",
      "('マリー・アントワネットの遺言 (朝日文庫)',)\n",
      "('46番目の密室 (講談社文庫)',)\n",
      "('ペルシャ猫の謎 (講談社ノベルス)',)\n",
      "('おとな二人の午後 (角川文庫)',)\n",
      "('フェイササイズ―自分でできるフェイシャル・エクササイズ',)\n",
      "('新本格謎夜会(ミステリー・ナイト) (講談社ノベルス)',)\n",
      "('漱石と倫敦ミイラ殺人事件 (光文社文庫)',)\n",
      "('暗い宿 (文芸シリーズ)',)\n",
      "('六枚のとんかつ (講談社文庫)',)\n",
      "('十角館の殺人 (講談社文庫)',)\n",
      "('絃の聖域',)\n",
      "('緋色の囁き (講談社文庫)',)\n",
      "('英国庭園の謎 (講談社文庫)',)\n",
      "('スウェーデン館の謎 (講談社文庫)',)\n",
      "('山伏地蔵坊の放浪 (創元推理文庫)',)\n",
      "('商売心得帖 (PHP文庫)',)\n",
      "('バカの壁 (新潮新書)',)\n",
      "('アロマテラピーの事典',)\n",
      "('本格ミステリー館 (角川文庫)',)\n",
      "('花のある人 花になる人―ゆっくり輝くための100話',)\n",
      "(\"月光ゲーム―Yの悲劇'88 (創元推理文庫)\",)\n",
      "('恋する宝石〈下〉 (新潮文庫)',)\n",
      "('恋する宝石〈上〉 (新潮文庫)',)\n",
      "('双頭の悪魔 (創元推理文庫)',)\n",
      "('綺麗の福音',)\n",
      "('田崎真也のサービスの極意―お客様にお楽しみいただくヒント',)\n",
      "('ロシア紅茶の謎 (講談社ノベルス)',)\n",
      "('知性の磨きかた (PHP新書)',)\n",
      "('京の骨董は使うもんどすえ',)\n",
      "('セレブ100の言葉',)\n",
      "('ディズニー千年王国の始まり―メディア制覇の野望',)\n",
      "('水車館の殺人 (講談社文庫)',)\n",
      "('サービスが伝説になる時―「顧客満足」はリーダーシップで決まる',)\n",
      "('ディズニー7つの法則',)\n",
      "('美肌',)\n",
      "('金雀枝(えにしだ)荘の殺人 (講談社ノベルス)',)\n",
      "('時計館の殺人 (講談社文庫)',)\n",
      "('迷路館の殺人 (講談社文庫)',)\n",
      "('霧越邸殺人事件 (新潮ミステリー倶楽部)',)\n",
      "('スイス時計の謎 (講談社ノベルス)',)\n",
      "('人生のすべては、取り返しがつく!―ネビン先生から自分の壁を超えたいあなたへ10通の手紙',)\n",
      "('EDIUS Neo3.5 マスターガイド (グリーン・プレスデジタルライブラリー)',)\n",
      "('いちばんやさしいAI〈人工知能〉超入門',)\n",
      "('ソニー開発のNeural Network Console入門 ―数式なし、コーディングなしのディープラーニング',)\n",
      "('3ステップでしっかり学ぶ Python 入門',)\n",
      "('大人もおどろく「夏休み子ども科学電話相談」 鋭い質問、かわいい疑問、難問奇問に各界の個性あふれる専門家が回答! (サイエンス・アイ新書)',)\n",
      "('本当によくわかるJavaScriptの教科書 はじめての人も、挫折した人も、基礎力が必ず身に付く',)\n",
      "('送り火 (文春e-book)',)\n",
      "('世界でバカにされる日本人 - 今すぐ知っておきたい本当のこと - (ワニブックスPLUS新書)',)\n",
      "('バカの壁 (新潮新書)',)\n",
      "('黒笑小説 (集英社文庫)',)\n",
      "('「カゲロウデイズ」で中学数学が面白いほどわかる本',)\n",
      "('バカの壁 (新潮新書)',)\n",
      "('変わらないために変わり続ける マンハッタンで見つけた科学と芸術',)\n",
      "('バカの壁 (新潮新書)',)\n",
      "('死体は語る',)\n",
      "('美人はコレを食べている。~食べるほど綺麗になる食事法',)\n",
      "('人は誰でも間違える―より安全な医療システムを目指して',)\n",
      "('バカの壁 (新潮新書)',)\n",
      "('バカの壁 (新潮新書)',)\n",
      "('るろうに剣心 2 ─明治剣客浪漫譚─ (集英社文庫(コミック版))',)\n",
      "('Banana fish (11) (小学館文庫)',)\n",
      "('Medusa (8) (小学館文庫)',)\n",
      "('Medusa (7) (小学館文庫)',)\n",
      "('極道くん (6) (講談社漫画文庫)',)\n",
      "('るろうに剣心 1 ─明治剣客浪漫譚─ (集英社文庫(コミック版))',)\n",
      "('Banana fish (10) (小学館文庫)',)\n",
      "('Banana fish (9) (小学館文庫)',)\n",
      "('Banana fish (8) (小学館文庫)',)\n",
      "('Medusa (6) (小学館文庫)',)\n",
      "('Banana fish (7) (小学館文庫)',)\n",
      "('Banana fish (6) (小学館文庫)',)\n",
      "('Banana fish (5) (小学館文庫)',)\n",
      "('Medusa (5) (小学館文庫)',)\n",
      "('DEATH NOTE 1 (集英社文庫―コミック版)',)\n",
      "('極道くん (5) (講談社漫画文庫)',)\n",
      "('Banana fish (4) (小学館文庫)',)\n",
      "('踊る警官 (小学館文庫―浦沢直樹短編集)',)\n",
      "('Yellow 3 闇と炎 (ビッグコミックス)',)\n",
      "('ピンポン (1) (Big spirits comics special)',)\n",
      "('Medusa (4) (小学館文庫)',)\n",
      "('Banana fish (3) (小学館文庫)',)\n",
      "('Medusa (2) (小学館文庫)',)\n",
      "('Yellow 2 焦土から… (ビッグコミックス)',)\n",
      "('Medusa (1) (小学館文庫)',)\n",
      "('Banana fish (2) (小学館文庫)',)\n",
      "('Yellow 1 上海に立つ (ビッグコミックス)',)\n",
      "('極道くん (4) (講談社漫画文庫)',)\n",
      "('アクター (9) (講談社漫画文庫)',)\n",
      "('Banana fish (1) (小学館文庫)',)\n",
      "('極道くん (3) (講談社漫画文庫)',)\n",
      "('アクター (8) (講談社漫画文庫)',)\n",
      "(4,)\n"
     ]
    },
    {
     "ename": "TypeError",
     "evalue": "expected string or bytes-like object",
     "output_type": "error",
     "traceback": [
      "\u001b[1;31m---------------------------------------------------------------------------\u001b[0m",
      "\u001b[1;31mTypeError\u001b[0m                                 Traceback (most recent call last)",
      "\u001b[1;32m<ipython-input-52-f8c2bf810971>\u001b[0m in \u001b[0;36m<module>\u001b[1;34m\u001b[0m\n\u001b[0;32m      3\u001b[0m \u001b[1;32mfor\u001b[0m \u001b[0mrow\u001b[0m \u001b[1;32min\u001b[0m \u001b[0mWc\u001b[0m\u001b[1;33m:\u001b[0m\u001b[1;33m\u001b[0m\u001b[1;33m\u001b[0m\u001b[0m\n\u001b[0;32m      4\u001b[0m     \u001b[0mprint\u001b[0m\u001b[1;33m(\u001b[0m\u001b[0mrow\u001b[0m\u001b[1;33m)\u001b[0m\u001b[1;33m\u001b[0m\u001b[1;33m\u001b[0m\u001b[0m\n\u001b[1;32m----> 5\u001b[1;33m     \u001b[0mtext\u001b[0m\u001b[1;33m=\u001b[0m\u001b[0mre\u001b[0m\u001b[1;33m.\u001b[0m\u001b[0msub\u001b[0m\u001b[1;33m(\u001b[0m\u001b[1;34mr'\\(.+?\\)'\u001b[0m\u001b[1;33m,\u001b[0m\u001b[1;34m''\u001b[0m\u001b[1;33m,\u001b[0m\u001b[0mrow\u001b[0m\u001b[1;33m[\u001b[0m\u001b[1;36m0\u001b[0m\u001b[1;33m]\u001b[0m\u001b[1;33m)\u001b[0m\u001b[1;33m\u001b[0m\u001b[1;33m\u001b[0m\u001b[0m\n\u001b[0m\u001b[0;32m      6\u001b[0m     \u001b[0mtext\u001b[0m\u001b[1;33m=\u001b[0m\u001b[0mre\u001b[0m\u001b[1;33m.\u001b[0m\u001b[0msub\u001b[0m\u001b[1;33m(\u001b[0m\u001b[1;34mr'\\u3000'\u001b[0m\u001b[1;33m,\u001b[0m\u001b[1;34m''\u001b[0m\u001b[1;33m,\u001b[0m\u001b[0mtext\u001b[0m\u001b[1;33m)\u001b[0m\u001b[1;33m\u001b[0m\u001b[1;33m\u001b[0m\u001b[0m\n\u001b[0;32m      7\u001b[0m     \u001b[0mcounter\u001b[0m\u001b[1;33m.\u001b[0m\u001b[0mupdate\u001b[0m\u001b[1;33m(\u001b[0m\u001b[1;33m[\u001b[0m\u001b[0mtext\u001b[0m\u001b[1;33m]\u001b[0m\u001b[1;33m)\u001b[0m\u001b[1;33m\u001b[0m\u001b[1;33m\u001b[0m\u001b[0m\n",
      "\u001b[1;32mc:\\users\\k-higuchi\\appdata\\local\\programs\\python\\python37\\lib\\re.py\u001b[0m in \u001b[0;36msub\u001b[1;34m(pattern, repl, string, count, flags)\u001b[0m\n\u001b[0;32m    190\u001b[0m     \u001b[0ma\u001b[0m \u001b[0mcallable\u001b[0m\u001b[1;33m,\u001b[0m \u001b[0mit\u001b[0m\u001b[0;31m'\u001b[0m\u001b[0ms\u001b[0m \u001b[0mpassed\u001b[0m \u001b[0mthe\u001b[0m \u001b[0mMatch\u001b[0m \u001b[0mobject\u001b[0m \u001b[1;32mand\u001b[0m \u001b[0mmust\u001b[0m \u001b[1;32mreturn\u001b[0m\u001b[1;33m\u001b[0m\u001b[1;33m\u001b[0m\u001b[0m\n\u001b[0;32m    191\u001b[0m     a replacement string to be used.\"\"\"\n\u001b[1;32m--> 192\u001b[1;33m     \u001b[1;32mreturn\u001b[0m \u001b[0m_compile\u001b[0m\u001b[1;33m(\u001b[0m\u001b[0mpattern\u001b[0m\u001b[1;33m,\u001b[0m \u001b[0mflags\u001b[0m\u001b[1;33m)\u001b[0m\u001b[1;33m.\u001b[0m\u001b[0msub\u001b[0m\u001b[1;33m(\u001b[0m\u001b[0mrepl\u001b[0m\u001b[1;33m,\u001b[0m \u001b[0mstring\u001b[0m\u001b[1;33m,\u001b[0m \u001b[0mcount\u001b[0m\u001b[1;33m)\u001b[0m\u001b[1;33m\u001b[0m\u001b[1;33m\u001b[0m\u001b[0m\n\u001b[0m\u001b[0;32m    193\u001b[0m \u001b[1;33m\u001b[0m\u001b[0m\n\u001b[0;32m    194\u001b[0m \u001b[1;32mdef\u001b[0m \u001b[0msubn\u001b[0m\u001b[1;33m(\u001b[0m\u001b[0mpattern\u001b[0m\u001b[1;33m,\u001b[0m \u001b[0mrepl\u001b[0m\u001b[1;33m,\u001b[0m \u001b[0mstring\u001b[0m\u001b[1;33m,\u001b[0m \u001b[0mcount\u001b[0m\u001b[1;33m=\u001b[0m\u001b[1;36m0\u001b[0m\u001b[1;33m,\u001b[0m \u001b[0mflags\u001b[0m\u001b[1;33m=\u001b[0m\u001b[1;36m0\u001b[0m\u001b[1;33m)\u001b[0m\u001b[1;33m:\u001b[0m\u001b[1;33m\u001b[0m\u001b[1;33m\u001b[0m\u001b[0m\n",
      "\u001b[1;31mTypeError\u001b[0m: expected string or bytes-like object"
     ]
    }
   ],
   "source": [
    "Wc.execute('''select id pd_name from product_text''')\n",
    "counter=Counter()\n",
    "for row in Wc:\n",
    "    print(row)\n",
    "    text=re.sub(r'\\(.+?\\)','',str(row[0])\n",
    "    text=re.sub(r'\\u3000','',text)\n",
    "    counter.update([text])\n",
    "print(counter)\n",
    "    "
   ]
  },
  {
   "cell_type": "code",
   "execution_count": null,
   "metadata": {},
   "outputs": [],
   "source": []
  },
  {
   "cell_type": "code",
   "execution_count": null,
   "metadata": {},
   "outputs": [],
   "source": [
    "Wc2.execute('''select pd_name from product_text''')\n",
    "counter2=Counter()\n",
    "for row in Wc2:\n",
    "    text=re.sub(r'\\(.+?\\)','',row[0])\n",
    "    text=re.sub(r'\\u3000','',text)\n",
    "\n",
    "    counter2.update([text])\n",
    "    \n",
    "print(counter2)\n",
    "    \n"
   ]
  },
  {
   "cell_type": "code",
   "execution_count": null,
   "metadata": {},
   "outputs": [],
   "source": []
  }
 ],
 "metadata": {
  "kernelspec": {
   "display_name": "Python 3",
   "language": "python",
   "name": "python3"
  },
  "language_info": {
   "codemirror_mode": {
    "name": "ipython",
    "version": 3
   },
   "file_extension": ".py",
   "mimetype": "text/x-python",
   "name": "python",
   "nbconvert_exporter": "python",
   "pygments_lexer": "ipython3",
   "version": "3.7.1"
  }
 },
 "nbformat": 4,
 "nbformat_minor": 2
}
