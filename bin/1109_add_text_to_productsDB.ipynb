{
 "cells": [
  {
   "cell_type": "code",
   "execution_count": 19,
   "metadata": {},
   "outputs": [
    {
     "name": "stderr",
     "output_type": "stream",
     "text": [
      "c:\\users\\icech\\appdata\\local\\programs\\python\\python36\\lib\\site-packages\\ipykernel_launcher.py:13: DeprecationWarning: use options instead of chrome_options\n",
      "  del sys.path[0]\n"
     ]
    }
   ],
   "source": [
    "import urllib.request as urllib\n",
    "from bs4 import BeautifulSoup\n",
    "import re\n",
    "from contextlib import closing\n",
    "import sqlite3\n",
    "import time\n",
    "from selenium.webdriver.chrome.options import Options\n",
    "from selenium import webdriver\n",
    "from selenium.webdriver.support.ui import WebDriverWait\n",
    "options = Options()\n",
    "options.add_argument('--headless')\n",
    " \n",
    "browser = webdriver.Chrome(chrome_options=options)"
   ]
  },
  {
   "cell_type": "code",
   "execution_count": 43,
   "metadata": {},
   "outputs": [],
   "source": [
    "def get_db_conn(name):\n",
    "    '''\n",
    "    sql文を何度も書きたくなかったので書いた\n",
    "    '''\n",
    "    conn=sqlite3.connect(name)\n",
    "    c=conn.cursor()\n",
    "    return(conn,c)\n",
    "\n",
    "def get_category(product_url):\n",
    "    browser.get(product_url)\n",
    "    soup = BeautifulSoup(browser.page_source, 'html.parser')\n",
    "    category=soup.select('.a-unordered-list')[0].text\n",
    "    category=re.sub('›','',category)\n",
    "    category=re.sub('\\n','',category)\n",
    "    category=category.strip()\n",
    "    category=category.split()\n",
    "    \n",
    "    return(category)\n",
    "\n",
    "def get_each_product_info():\n",
    "    '''\n",
    "    レビュー詳細URLから必要な情報を手に入れるコード\n",
    "    SQLに紐づけて必要な部分を後から埋めるでもいいかもしれない。\n",
    "    categoryの数が変動するので注意\n",
    "    '''\n",
    "    url2='https://www.amazon.co.jp/gp/customer-reviews/R1JYHF8TMEKK3J?ref=pf_vv_at_pdctrvw_srp'\n",
    "    browser.get(url2)\n",
    "    soup = BeautifulSoup(browser.page_source, 'html.parser')\n",
    "    \n",
    "    review_title=soup.select('.review-title')[0].text\n",
    "    star=float(re.sub('5つ星のうち','',soup.select('.a-icon-alt')[0].text))\n",
    "    text=soup.select('.review-text')[0].text\n",
    "    \n",
    "    product_url='https://www.amazon.co.jp'+soup.select('.a-text-ellipsis > a')[0].get('href')\n",
    "    category=get_category(product_url)\n",
    "    \n",
    "    info_list=[]\n",
    "    info_list.extend([star,review_title,text])\n",
    "    info_list.extend(category)\n",
    "    info_list.extend(['']*(13-len(info_list)))\n",
    "    \n",
    "    return(tuple(info_list))"
   ]
  },
  {
   "cell_type": "code",
   "execution_count": 44,
   "metadata": {},
   "outputs": [
    {
     "data": {
      "text/plain": [
       "(4.0,\n",
       " '以前はシート状のつめみがき&艶出しをたまにしようしていました。この製品は磨き方だけで磨きとツヤ出し両方できるので楽ですし確実に早いです。またしっかりとツヤがでてくれて長期間続きます。男性で少し爪をきれいにしておきたいという人にもいいのではないでしょうか。',\n",
       " '簡単にピカピカになります',\n",
       " 'ビューティー',\n",
       " 'ネイル',\n",
       " 'ネイル道具・ケアツール',\n",
       " '爪やすり',\n",
       " '',\n",
       " '',\n",
       " '',\n",
       " '',\n",
       " '',\n",
       " '')"
      ]
     },
     "execution_count": 44,
     "metadata": {},
     "output_type": "execute_result"
    }
   ],
   "source": [
    "get_each_product_info()"
   ]
  },
  {
   "cell_type": "code",
   "execution_count": 32,
   "metadata": {},
   "outputs": [],
   "source": [
    "low_dbname='1107_low_rate_bakawall_each_prodcuts.db'\n",
    "high_dbname='1107_high_rate_bakawall_each_prodcuts.db'\n",
    "Hconn,Hc=get_db_conn(high_dbname)\n",
    "Lconn,Lc=get_db_conn(low_dbname)\n",
    "\n"
   ]
  },
  {
   "cell_type": "code",
   "execution_count": 14,
   "metadata": {},
   "outputs": [
    {
     "name": "stdout",
     "output_type": "stream",
     "text": [
      "('table', 'products', 'products', 2, 'CREATE TABLE products (id,name,rate,url,review,text, category, product_name)')\n"
     ]
    }
   ],
   "source": [
    "Hc.execute('''select * from sqlite_master''')\n",
    "Hc.execute('''create tabel product_text (id integer primary key,username,baka_star,each_id,pd_url,pd_star,pd_title,pd_text)''')\n",
    "for i in range(1,11):\n",
    "    Hc.execute(f'alter table product_text add column category{i}')\n",
    "\n",
    "Hc.exectute('insert into product_text(username,baka_star,each_id,pd_url) select name,id,rate,url from products')\n",
    "\n",
    "\n",
    "\n",
    "\n",
    "Lc.execute('''select * from sqlite_master''')\n",
    "Lc.execute('''create tabel product_text (id integer primary key,username,baka_star,each_id,pd_url,pd_star,pd_title,pd_text)''')\n",
    "for i in range(1,11):\n",
    "    Lc.execute(f'alter table product_text add column category{i}')\n",
    "\n",
    "Lc.exectute('insert into product_text(username,baka_star,each_id,pd_url) select name,id,rate,url from products')\n",
    "\n",
    "# for h in Hc:\n",
    "#     print(h)"
   ]
  },
  {
   "cell_type": "code",
   "execution_count": 46,
   "metadata": {},
   "outputs": [
    {
     "name": "stdout",
     "output_type": "stream",
     "text": [
      "(5.0, 'ぽんちゃん', 1, 'https://www.amazon.co.jp/gp/customer-reviews/R1JYHF8TMEKK3J?ref=pf_vv_at_pdctrvw_srp', None, None, None, None)\n",
      "(5.0, 'ぽんちゃん', 2, 'https://www.amazon.co.jp/gp/customer-reviews/R2MHFHH3DKVKC0?ref=pf_vv_at_pdctrvw_srp', None, None, None, None)\n",
      "(5.0, 'ぽんちゃん', 3, 'https://www.amazon.co.jp/gp/customer-reviews/R7D1ABOQPG1VQ?ref=pf_vv_at_pdctrvw_srp', None, None, None, None)\n",
      "(5.0, 'ぽんちゃん', 4, 'https://www.amazon.co.jp/gp/customer-reviews/R3MZVX5CX8ILJ?ref=pf_vv_at_pdctrvw_srp', None, None, None, None)\n",
      "(5.0, 'ぽんちゃん', 5, 'https://www.amazon.co.jp/gp/customer-reviews/R2CQ2PTLNGEV6O?ref=pf_vv_at_pdctrvw_srp', None, None, None, None)\n",
      "(5.0, 'ぽんちゃん', 6, 'https://www.amazon.co.jp/gp/customer-reviews/RS35YP90IBJKK?ref=pf_vv_at_pdctrvw_srp', None, None, None, None)\n",
      "(5.0, 'ぽんちゃん', 7, 'https://www.amazon.co.jp/gp/customer-reviews/R1Q9FT2VKIQ16J?ref=pf_vv_at_pdctrvw_srp', None, None, None, None)\n",
      "(5.0, 'ぽんちゃん', 8, 'https://www.amazon.co.jp/gp/customer-reviews/R2B2H0N9CGAV85?ref=pf_vv_at_pdctrvw_srp', None, None, None, None)\n",
      "(5.0, 'ぽんちゃん', 9, 'https://www.amazon.co.jp/gp/customer-reviews/R1PLO82UT5R3LG?ref=pf_vv_at_pdctrvw_srp', None, None, None, None)\n",
      "(5.0, 'ぽんちゃん', 10, 'https://www.amazon.co.jp/gp/customer-reviews/R38XGZJO4D84AG?ref=pf_vv_at_pdctrvw_srp', None, None, None, None)\n"
     ]
    }
   ],
   "source": [
    "#idとrateが逆になっている\n",
    "# Hc.execute('alter table products add column category')\n",
    "# Hc.execute('alter table products add column product_name')\n",
    "\n",
    "\n",
    "Hc.execute('''select distinct * from products where rate<101 ''')\n",
    "j=0\n",
    "for h in Hc:\n",
    "    print(h)\n",
    "    j+=1\n",
    "    if j==10:\n",
    "        break\n",
    "    \n"
   ]
  },
  {
   "cell_type": "code",
   "execution_count": null,
   "metadata": {},
   "outputs": [],
   "source": []
  }
 ],
 "metadata": {
  "kernelspec": {
   "display_name": "Python 3",
   "language": "python",
   "name": "python3"
  },
  "language_info": {
   "codemirror_mode": {
    "name": "ipython",
    "version": 3
   },
   "file_extension": ".py",
   "mimetype": "text/x-python",
   "name": "python",
   "nbconvert_exporter": "python",
   "pygments_lexer": "ipython3",
   "version": "3.6.6"
  }
 },
 "nbformat": 4,
 "nbformat_minor": 2
}
