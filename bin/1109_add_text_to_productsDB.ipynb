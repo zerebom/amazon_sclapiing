{
 "cells": [
  {
   "cell_type": "code",
   "execution_count": 1,
   "metadata": {},
   "outputs": [
    {
     "name": "stderr",
     "output_type": "stream",
     "text": [
      "c:\\users\\icech\\appdata\\local\\programs\\python\\python36\\lib\\site-packages\\ipykernel_launcher.py:13: DeprecationWarning: use options instead of chrome_options\n",
      "  del sys.path[0]\n"
     ]
    }
   ],
   "source": [
    "import urllib.request as urllib\n",
    "from bs4 import BeautifulSoup\n",
    "import re\n",
    "from contextlib import closing\n",
    "import sqlite3\n",
    "import time\n",
    "from selenium.webdriver.chrome.options import Options\n",
    "from selenium import webdriver\n",
    "from selenium.webdriver.support.ui import WebDriverWait\n",
    "options = Options()\n",
    "options.add_argument('--headless')\n",
    " \n",
    "browser = webdriver.Chrome(chrome_options=options)\n"
   ]
  },
  {
   "cell_type": "code",
   "execution_count": 2,
   "metadata": {},
   "outputs": [],
   "source": []
  },
  {
   "cell_type": "code",
   "execution_count": 44,
   "metadata": {},
   "outputs": [
    {
     "data": {
      "text/plain": [
       "(4.0,\n",
       " '以前はシート状のつめみがき&艶出しをたまにしようしていました。この製品は磨き方だけで磨きとツヤ出し両方できるので楽ですし確実に早いです。またしっかりとツヤがでてくれて長期間続きます。男性で少し爪をきれいにしておきたいという人にもいいのではないでしょうか。',\n",
       " '簡単にピカピカになります',\n",
       " 'ビューティー',\n",
       " 'ネイル',\n",
       " 'ネイル道具・ケアツール',\n",
       " '爪やすり',\n",
       " '',\n",
       " '',\n",
       " '',\n",
       " '',\n",
       " '',\n",
       " '')"
      ]
     },
     "execution_count": 44,
     "metadata": {},
     "output_type": "execute_result"
    }
   ],
   "source": [
    "get_each_product_info()"
   ]
  },
  {
   "cell_type": "code",
   "execution_count": 3,
   "metadata": {},
   "outputs": [],
   "source": [
    "low_dbname='1107_low_rate_bakawall_each_prodcuts.db'\n",
    "high_dbname='1107_high_rate_bakawall_each_prodcuts.db'\n",
    "Hconn,Hc=get_db_conn(high_dbname)\n",
    "Lconn,Lc=get_db_conn(low_dbname)\n",
    "\n"
   ]
  },
  {
   "cell_type": "code",
   "execution_count": 4,
   "metadata": {},
   "outputs": [
    {
     "ename": "OperationalError",
     "evalue": "database is locked",
     "output_type": "error",
     "traceback": [
      "\u001b[1;31m---------------------------------------------------------------------------\u001b[0m",
      "\u001b[1;31mOperationalError\u001b[0m                          Traceback (most recent call last)",
      "\u001b[1;32m<ipython-input-4-8f4529ff6bac>\u001b[0m in \u001b[0;36m<module>\u001b[1;34m()\u001b[0m\n\u001b[0;32m      1\u001b[0m \u001b[1;31m# Hc.execute('''select * from sqlite_master''')\u001b[0m\u001b[1;33m\u001b[0m\u001b[1;33m\u001b[0m\u001b[0m\n\u001b[1;32m----> 2\u001b[1;33m \u001b[0mHc\u001b[0m\u001b[1;33m.\u001b[0m\u001b[0mexecute\u001b[0m\u001b[1;33m(\u001b[0m\u001b[1;34m'''create table product_text(id integer primary key,username,baka_star,each_id,pd_url,pd_star,pd_title,pd_text)'''\u001b[0m\u001b[1;33m)\u001b[0m\u001b[1;33m\u001b[0m\u001b[0m\n\u001b[0m\u001b[0;32m      3\u001b[0m \u001b[1;32mfor\u001b[0m \u001b[0mi\u001b[0m \u001b[1;32min\u001b[0m \u001b[0mrange\u001b[0m\u001b[1;33m(\u001b[0m\u001b[1;36m1\u001b[0m\u001b[1;33m,\u001b[0m\u001b[1;36m11\u001b[0m\u001b[1;33m)\u001b[0m\u001b[1;33m:\u001b[0m\u001b[1;33m\u001b[0m\u001b[0m\n\u001b[0;32m      4\u001b[0m     \u001b[0mHc\u001b[0m\u001b[1;33m.\u001b[0m\u001b[0mexecute\u001b[0m\u001b[1;33m(\u001b[0m\u001b[1;34mf'alter table product_text add column category{i}'\u001b[0m\u001b[1;33m)\u001b[0m\u001b[1;33m\u001b[0m\u001b[0m\n\u001b[0;32m      5\u001b[0m \u001b[1;33m\u001b[0m\u001b[0m\n",
      "\u001b[1;31mOperationalError\u001b[0m: database is locked"
     ]
    }
   ],
   "source": [
    "# Hc.execute('''select * from sqlite_master''')\n",
    "Hc.execute('''create table product_text(id integer primary key,username,baka_star,each_id,pd_url,pd_star,pd_title,pd_text)''')\n",
    "for i in range(1,11):\n",
    "    Hc.execute(f'alter table product_text add column category{i}')\n",
    "\n",
    "Hc.exectute('insert into product_text(username,baka_star,each_id,pd_url) select name,id,rate,url from products')\n",
    "\n",
    "\n",
    "\n",
    "\n",
    "# Lc.execute('''select * from sqlite_master''')\n",
    "Lc.execute('''create table product_text(id integer primary key,username,baka_star,each_id,pd_url,pd_star,pd_title,pd_text)''')\n",
    "for i in range(1,11):\n",
    "    Lc.execute(f'alter table product_text add column category{i}')\n",
    "\n",
    "Lc.exectute('insert into product_text(username,baka_star,each_id,pd_url) select name,id,rate,url from products')\n",
    "\n",
    "for h in Hc:\n",
    "    print(h)"
   ]
  },
  {
   "cell_type": "code",
   "execution_count": 12,
   "metadata": {},
   "outputs": [
    {
     "name": "stdout",
     "output_type": "stream",
     "text": [
      "('table', 'products', 'products', 2, 'CREATE TABLE products (id,name,rate,url,review,text, category, product_name)')\n"
     ]
    }
   ],
   "source": [
    "#idとrateが逆になっている\n",
    "# Hc.execute('alter table products add column category')\n",
    "# Hc.execute('alter table products add column product_name')\n",
    "\n",
    "\n",
    "# Hc.execute('''select distinct * from product_text ''')\n",
    "Hc.execute('''select * from sqlite_master''')\n",
    "    \n"
   ]
  },
  {
   "cell_type": "code",
   "execution_count": null,
   "metadata": {},
   "outputs": [],
   "source": []
  }
 ],
 "metadata": {
  "kernelspec": {
   "display_name": "Python 3",
   "language": "python",
   "name": "python3"
  },
  "language_info": {
   "codemirror_mode": {
    "name": "ipython",
    "version": 3
   },
   "file_extension": ".py",
   "mimetype": "text/x-python",
   "name": "python",
   "nbconvert_exporter": "python",
   "pygments_lexer": "ipython3",
   "version": "3.6.6"
  }
 },
 "nbformat": 4,
 "nbformat_minor": 2
}
