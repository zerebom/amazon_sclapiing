{
 "cells": [
  {
   "cell_type": "markdown",
   "metadata": {},
   "source": [
    "国会会議録と同じように、csvを機械学習にかける。\n",
    "前回は使用比率によって色々変えたけど、とりあえず一つのパターンでやってみる。\n",
    "可能であれば関数化もする。"
   ]
  },
  {
   "cell_type": "code",
   "execution_count": 61,
   "metadata": {},
   "outputs": [],
   "source": [
    "import sys;sys.path.append('./src')\n",
    "import sqlite3\n",
    "import re\n",
    "from DB import *\n",
    "from NLP import *\n",
    "import matplotlib.pyplot as plt\n",
    "import matplotlib.cm as cm\n",
    "import numpy as np\n",
    "import re \n",
    "from collections import Counter\n",
    "import urllib.request as urllib\n",
    "from bs4 import BeautifulSoup\n",
    "import sqlite3\n",
    "import time\n",
    "from contextlib import closing\n",
    "import sklearn\n",
    "import seaborn as sns\n",
    "# import matplotlib as plt\n",
    "import matplotlib.pyplot as plt\n",
    "from sklearn.model_selection import cross_val_score\n",
    "from sklearn.model_selection import cross_val_predict\n",
    "import matplotlib.pyplot as plt\n",
    "from sklearn.naive_bayes import MultinomialNB\n",
    "from sklearn.ensemble import RandomForestClassifier\n",
    "from sklearn.feature_extraction.text import TfidfTransformer\n",
    "import warnings\n",
    "warnings.filterwarnings('ignore')\n",
    "from sklearn.metrics import confusion_matrix\n",
    "from sklearn.metrics import classification_report\n",
    "from sklearn.metrics import f1_score"
   ]
  },
  {
   "cell_type": "code",
   "execution_count": 62,
   "metadata": {},
   "outputs": [],
   "source": [
    "ldf=pd.read_csv('./1121low_mor.csv')\n",
    "hdf=pd.read_csv('./1121high_mor.csv')"
   ]
  },
  {
   "cell_type": "code",
   "execution_count": 63,
   "metadata": {},
   "outputs": [],
   "source": [
    "LABEL_NAME=['高評価','低評価']\n",
    "CLASIFFIER={'RandomForest':RandomForestClassifier(random_state=1),\n",
    "                    'NB':MultinomialNB()}\n",
    "DF_LIST={'高評価':hdf,\n",
    "                '低評価':ldf}\n",
    "\n",
    "USE_PERCENTS=[0.001,0.0004,0.0001,0.00001]"
   ]
  },
  {
   "cell_type": "code",
   "execution_count": null,
   "metadata": {},
   "outputs": [],
   "source": []
  },
  {
   "cell_type": "code",
   "execution_count": 64,
   "metadata": {},
   "outputs": [
    {
     "data": {
      "text/html": [
       "<div>\n",
       "<style scoped>\n",
       "    .dataframe tbody tr th:only-of-type {\n",
       "        vertical-align: middle;\n",
       "    }\n",
       "\n",
       "    .dataframe tbody tr th {\n",
       "        vertical-align: top;\n",
       "    }\n",
       "\n",
       "    .dataframe thead th {\n",
       "        text-align: right;\n",
       "    }\n",
       "</style>\n",
       "<table border=\"1\" class=\"dataframe\">\n",
       "  <thead>\n",
       "    <tr style=\"text-align: right;\">\n",
       "      <th></th>\n",
       "      <th>Unnamed: 0</th>\n",
       "      <th>0_x</th>\n",
       "      <th>1_x</th>\n",
       "      <th>2_x</th>\n",
       "      <th>3_x</th>\n",
       "      <th>4_x</th>\n",
       "      <th>5_x</th>\n",
       "      <th>6_x</th>\n",
       "      <th>7_x</th>\n",
       "      <th>8_x</th>\n",
       "      <th>...</th>\n",
       "      <th>1148_y</th>\n",
       "      <th>1149_y</th>\n",
       "      <th>1150_y</th>\n",
       "      <th>1151_y</th>\n",
       "      <th>1152_y</th>\n",
       "      <th>1153_y</th>\n",
       "      <th>1154_y</th>\n",
       "      <th>1155_y</th>\n",
       "      <th>1156_y</th>\n",
       "      <th>sum</th>\n",
       "    </tr>\n",
       "  </thead>\n",
       "  <tbody>\n",
       "    <tr>\n",
       "      <th>0</th>\n",
       "      <td>する</td>\n",
       "      <td>31.0</td>\n",
       "      <td>32.0</td>\n",
       "      <td>28.0</td>\n",
       "      <td>27.0</td>\n",
       "      <td>26.0</td>\n",
       "      <td>16.0</td>\n",
       "      <td>21.0</td>\n",
       "      <td>22.0</td>\n",
       "      <td>12.0</td>\n",
       "      <td>...</td>\n",
       "      <td>13.0</td>\n",
       "      <td>21.0</td>\n",
       "      <td>22.0</td>\n",
       "      <td>34.0</td>\n",
       "      <td>19.0</td>\n",
       "      <td>13.0</td>\n",
       "      <td>24.0</td>\n",
       "      <td>24.0</td>\n",
       "      <td>16.0</td>\n",
       "      <td>60938.0</td>\n",
       "    </tr>\n",
       "    <tr>\n",
       "      <th>1</th>\n",
       "      <td>いる</td>\n",
       "      <td>15.0</td>\n",
       "      <td>26.0</td>\n",
       "      <td>16.0</td>\n",
       "      <td>16.0</td>\n",
       "      <td>23.0</td>\n",
       "      <td>17.0</td>\n",
       "      <td>11.0</td>\n",
       "      <td>15.0</td>\n",
       "      <td>16.0</td>\n",
       "      <td>...</td>\n",
       "      <td>8.0</td>\n",
       "      <td>12.0</td>\n",
       "      <td>23.0</td>\n",
       "      <td>15.0</td>\n",
       "      <td>17.0</td>\n",
       "      <td>20.0</td>\n",
       "      <td>21.0</td>\n",
       "      <td>24.0</td>\n",
       "      <td>12.0</td>\n",
       "      <td>37840.0</td>\n",
       "    </tr>\n",
       "    <tr>\n",
       "      <th>2</th>\n",
       "      <td>こと</td>\n",
       "      <td>2.0</td>\n",
       "      <td>3.0</td>\n",
       "      <td>2.0</td>\n",
       "      <td>4.0</td>\n",
       "      <td>10.0</td>\n",
       "      <td>9.0</td>\n",
       "      <td>4.0</td>\n",
       "      <td>5.0</td>\n",
       "      <td>7.0</td>\n",
       "      <td>...</td>\n",
       "      <td>2.0</td>\n",
       "      <td>5.0</td>\n",
       "      <td>2.0</td>\n",
       "      <td>6.0</td>\n",
       "      <td>4.0</td>\n",
       "      <td>1.0</td>\n",
       "      <td>7.0</td>\n",
       "      <td>11.0</td>\n",
       "      <td>9.0</td>\n",
       "      <td>20153.0</td>\n",
       "    </tr>\n",
       "    <tr>\n",
       "      <th>3</th>\n",
       "      <td>れる</td>\n",
       "      <td>4.0</td>\n",
       "      <td>4.0</td>\n",
       "      <td>3.0</td>\n",
       "      <td>2.0</td>\n",
       "      <td>7.0</td>\n",
       "      <td>2.0</td>\n",
       "      <td>8.0</td>\n",
       "      <td>7.0</td>\n",
       "      <td>3.0</td>\n",
       "      <td>...</td>\n",
       "      <td>2.0</td>\n",
       "      <td>7.0</td>\n",
       "      <td>5.0</td>\n",
       "      <td>3.0</td>\n",
       "      <td>2.0</td>\n",
       "      <td>7.0</td>\n",
       "      <td>18.0</td>\n",
       "      <td>8.0</td>\n",
       "      <td>4.0</td>\n",
       "      <td>18098.0</td>\n",
       "    </tr>\n",
       "    <tr>\n",
       "      <th>4</th>\n",
       "      <td>ある</td>\n",
       "      <td>9.0</td>\n",
       "      <td>11.0</td>\n",
       "      <td>14.0</td>\n",
       "      <td>9.0</td>\n",
       "      <td>18.0</td>\n",
       "      <td>10.0</td>\n",
       "      <td>7.0</td>\n",
       "      <td>4.0</td>\n",
       "      <td>5.0</td>\n",
       "      <td>...</td>\n",
       "      <td>2.0</td>\n",
       "      <td>2.0</td>\n",
       "      <td>8.0</td>\n",
       "      <td>12.0</td>\n",
       "      <td>5.0</td>\n",
       "      <td>4.0</td>\n",
       "      <td>10.0</td>\n",
       "      <td>9.0</td>\n",
       "      <td>5.0</td>\n",
       "      <td>17253.0</td>\n",
       "    </tr>\n",
       "  </tbody>\n",
       "</table>\n",
       "<p>5 rows × 2320 columns</p>\n",
       "</div>"
      ],
      "text/plain": [
       "  Unnamed: 0   0_x   1_x   2_x   3_x   4_x   5_x   6_x   7_x   8_x   ...     \\\n",
       "0         する  31.0  32.0  28.0  27.0  26.0  16.0  21.0  22.0  12.0   ...      \n",
       "1         いる  15.0  26.0  16.0  16.0  23.0  17.0  11.0  15.0  16.0   ...      \n",
       "2         こと   2.0   3.0   2.0   4.0  10.0   9.0   4.0   5.0   7.0   ...      \n",
       "3         れる   4.0   4.0   3.0   2.0   7.0   2.0   8.0   7.0   3.0   ...      \n",
       "4         ある   9.0  11.0  14.0   9.0  18.0  10.0   7.0   4.0   5.0   ...      \n",
       "\n",
       "   1148_y  1149_y  1150_y  1151_y  1152_y  1153_y  1154_y  1155_y  1156_y  \\\n",
       "0    13.0    21.0    22.0    34.0    19.0    13.0    24.0    24.0    16.0   \n",
       "1     8.0    12.0    23.0    15.0    17.0    20.0    21.0    24.0    12.0   \n",
       "2     2.0     5.0     2.0     6.0     4.0     1.0     7.0    11.0     9.0   \n",
       "3     2.0     7.0     5.0     3.0     2.0     7.0    18.0     8.0     4.0   \n",
       "4     2.0     2.0     8.0    12.0     5.0     4.0    10.0     9.0     5.0   \n",
       "\n",
       "       sum  \n",
       "0  60938.0  \n",
       "1  37840.0  \n",
       "2  20153.0  \n",
       "3  18098.0  \n",
       "4  17253.0  \n",
       "\n",
       "[5 rows x 2320 columns]"
      ]
     },
     "execution_count": 64,
     "metadata": {},
     "output_type": "execute_result"
    }
   ],
   "source": [
    "mdf=pd.DataFrame()\n",
    "mdf=pd.merge(hdf,ldf,on='Unnamed: 0',how='outer')\n",
    "mdf['sum']=mdf['sum_x']+mdf['sum_y']\n",
    "mdf.drop(columns=['sum_x','sum_y'],inplace=True)\n",
    "label=[0]*(hdf.shape[1]-2)+[1]*(ldf.shape[1]-2)\n",
    "mdf.head()\n",
    "\n"
   ]
  },
  {
   "cell_type": "code",
   "execution_count": 92,
   "metadata": {},
   "outputs": [
    {
     "name": "stdout",
     "output_type": "stream",
     "text": [
      "Index(['Unnamed: 0', '0_x', '1_x', '2_x', '3_x', '4_x', '5_x', '6_x', '7_x',\n",
      "       '8_x',\n",
      "       ...\n",
      "       '1150_y', '1151_y', '1152_y', '1153_y', '1154_y', '1155_y', '1156_y',\n",
      "       'sum', 'kouseihi', 'ruisekihi'],\n",
      "      dtype='object', length=2322)\n"
     ]
    }
   ],
   "source": [
    "df,word_df=preproDF(mdf,0.04)\n",
    "X=df.values\n",
    "Y=label\n",
    "\n",
    "# CLF=RandomForestClassifier(random_state=1)\n",
    "CLF=MultinomialNB()\n",
    "CLF.fit(X,Y)\n",
    "y_pred=cross_val_predict(CLF,X,Y,cv=50)"
   ]
  },
  {
   "cell_type": "code",
   "execution_count": 93,
   "metadata": {},
   "outputs": [
    {
     "name": "stdout",
     "output_type": "stream",
     "text": [
      "0.500862812769629\n"
     ]
    }
   ],
   "source": [
    "print(f1_score(Y,y_pred,average='micro'))"
   ]
  },
  {
   "cell_type": "code",
   "execution_count": 94,
   "metadata": {},
   "outputs": [],
   "source": [
    "def confmat(y_values,y_pred,target_name,threshold=0.25):\n",
    "    if f1_score(y_values,y_pred,average='micro')>threshold:\n",
    "        print (classification_report(y_values,y_pred,target_names=target_name)) \n",
    "        confmat=confusion_matrix(y_true=y_values,y_pred=y_pred)\n",
    "        fig,ax=plt.subplots(figsize=(2.5,2.5))\n",
    "        ax.matshow(confmat,cmap=plt.cm.Blues,alpha=0.3)\n",
    "        for i in range(confmat.shape[0]):\n",
    "            for j in range(confmat.shape[1]):\n",
    "                ax.text(x=j,y=i,s=confmat[i,j],va='center',ha='center')\n",
    "        plt.xlabel('predicted label')       \n",
    "        plt.ylabel('true label')     \n",
    "        plt.tight_layout()\n",
    "        plt.show()"
   ]
  },
  {
   "cell_type": "code",
   "execution_count": 95,
   "metadata": {},
   "outputs": [
    {
     "name": "stdout",
     "output_type": "stream",
     "text": [
      "              precision    recall  f1-score   support\n",
      "\n",
      "         高評価       0.50      1.00      0.67      1161\n",
      "         低評価       0.00      0.00      0.00      1157\n",
      "\n",
      "   micro avg       0.50      0.50      0.50      2318\n",
      "   macro avg       0.25      0.50      0.33      2318\n",
      "weighted avg       0.25      0.50      0.33      2318\n",
      "\n"
     ]
    },
    {
     "data": {
      "image/png": "[encoded data removed]",
      "text/plain": [
       "<Figure size 180x180 with 1 Axes>"
      ]
     },
     "metadata": {
      "needs_background": "light"
     },
     "output_type": "display_data"
    }
   ],
   "source": [
    "confmat(Y,y_pred,LABEL_NAME)"
   ]
  },
  {
   "cell_type": "code",
   "execution_count": null,
   "metadata": {},
   "outputs": [],
   "source": []
  }
 ],
 "metadata": {
  "kernelspec": {
   "display_name": "Python 3",
   "language": "python",
   "name": "python3"
  },
  "language_info": {
   "codemirror_mode": {
    "name": "ipython",
    "version": 3
   },
   "file_extension": ".py",
   "mimetype": "text/x-python",
   "name": "python",
   "nbconvert_exporter": "python",
   "pygments_lexer": "ipython3",
   "version": "3.7.1"
  }
 },
 "nbformat": 4,
 "nbformat_minor": 2
}
