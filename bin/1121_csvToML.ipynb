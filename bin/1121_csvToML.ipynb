{
 "cells": [
  {
   "cell_type": "markdown",
   "metadata": {},
   "source": [
    "国会会議録と同じように、csvを機械学習にかける。\n",
    "前回は使用比率によって色々変えたけど、とりあえず一つのパターンでやってみる。\n",
    "可能であれば関数化もする。"
   ]
  },
  {
   "cell_type": "code",
   "execution_count": 4,
   "metadata": {},
   "outputs": [],
   "source": [
    "import sys;sys.path.append('./src')\n",
    "import sqlite3\n",
    "import re\n",
    "from control_db import *\n",
    "from NLP import *\n",
    "import matplotlib.pyplot as plt\n",
    "import matplotlib.cm as cm\n",
    "import numpy as np\n",
    "import re \n",
    "from collections import Counter\n",
    "import urllib.request as urllib\n",
    "from bs4 import BeautifulSoup\n",
    "import sqlite3\n",
    "import time\n",
    "from contextlib import closing\n",
    "import sklearn\n",
    "import seaborn as sns\n",
    "# import matplotlib as plt\n",
    "import matplotlib.pyplot as plt\n",
    "from sklearn.model_selection import cross_val_score\n",
    "from sklearn.model_selection import cross_val_predict\n",
    "import matplotlib.pyplot as plt\n",
    "from sklearn.naive_bayes import MultinomialNB\n",
    "from sklearn.ensemble import RandomForestClassifier\n",
    "from sklearn.feature_extraction.text import TfidfTransformer\n",
    "import warnings\n",
    "warnings.filterwarnings('ignore')\n",
    "from sklearn.metrics import confusion_matrix\n",
    "from sklearn.metrics import classification_report\n",
    "from sklearn.metrics import f1_score"
   ]
  },
  {
   "cell_type": "code",
   "execution_count": 5,
   "metadata": {},
   "outputs": [],
   "source": [
    "ldf=pd.read_csv('./1121low_mor_goiword.csv')\n",
    "hdf=pd.read_csv('./1121high_mor_goiword.csv')\n"
   ]
  },
  {
   "cell_type": "code",
   "execution_count": 7,
   "metadata": {},
   "outputs": [],
   "source": [
    "LABEL_NAME=['高評価','低評価']\n",
    "CLASIFFIER={'RandomForest':RandomForestClassifier(random_state=1),\n",
    "                    'NB':MultinomialNB()}\n",
    "DF_LIST={'高評価':hdf,\n",
    "                '低評価':ldf}\n",
    "\n",
    "USE_PERCENTS=[0.001,0.0004,0.0001,0.00001]"
   ]
  },
  {
   "cell_type": "code",
   "execution_count": null,
   "metadata": {},
   "outputs": [],
   "source": [
    "def preproDF2(df,PERCENT):\n",
    "    fdf=pd.DataFrame()\n",
    "    fdf['sum_word']=fdf.sum(axis=1).astype(int)\n",
    "    fdf=fdf.sort_values('sum_word',ascending=False)\n",
    "    fdf['kouseihi']=fdf['sum_word']/fdf['sum_word'].sum()\n",
    "    fdf['ruisekihi']=fdf['sum_word'].cumsum()/fdf['sum_word'].sum()\n",
    "\n",
    "    fdf=fdf.reset_index(drop=True)\n",
    "    fdf=fdf[fdf['kouseihi']>PERCENT]\n",
    "    \n",
    "    wordcouttdf=fdf[['Unnamed: 0','sum_word','kouseihi','ruisekihi']]\n",
    "    fdf.drop(columns=['Unnamed: 0','sum_word','kouseihi','ruisekihi'],inplace=True)\n",
    "\n",
    "    fdf=fdf.T\n",
    "    wordcouttdf=wordcouttdf.T\n",
    "\n",
    "    fdf['label']=1\n",
    "    fdf.loc[fdf.index.str.contains(word+'減'),'label']=0\n",
    "    \n",
    "    target=fdf['label']\n",
    "    fdf=fdf.drop(columns=['label'])\n",
    "#     fdf=fdf.reset_index(drop=True)\n",
    "    return(fdf,target,wordcouttdf)"
   ]
  }
 ],
 "metadata": {
  "kernelspec": {
   "display_name": "Python 3",
   "language": "python",
   "name": "python3"
  },
  "language_info": {
   "codemirror_mode": {
    "name": "ipython",
    "version": 3
   },
   "file_extension": ".py",
   "mimetype": "text/x-python",
   "name": "python",
   "nbconvert_exporter": "python",
   "pygments_lexer": "ipython3",
   "version": "3.7.1"
  }
 },
 "nbformat": 4,
 "nbformat_minor": 2
}
