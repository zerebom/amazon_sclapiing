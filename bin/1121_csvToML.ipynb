{
 "cells": [
  {
   "cell_type": "markdown",
   "metadata": {},
   "source": [
    "国会会議録と同じように、csvを機械学習にかける。\n",
    "前回は使用比率によって色々変えたけど、とりあえず一つのパターンでやってみる。\n",
    "可能であれば関数化もする。"
   ]
  },
  {
   "cell_type": "code",
   "execution_count": 1,
   "metadata": {},
   "outputs": [],
   "source": [
    "import sys;sys.path.append('./src')\n",
    "import sqlite3\n",
    "import re\n",
    "from DB import *\n",
    "from NLP import *\n",
    "from ML import *\n",
    "\n",
    "import matplotlib.pyplot as plt\n",
    "import matplotlib.cm as cm\n",
    "import numpy as np\n",
    "import re \n",
    "from collections import Counter\n",
    "import urllib.request as urllib\n",
    "from bs4 import BeautifulSoup\n",
    "import sqlite3\n",
    "import time\n",
    "from contextlib import closing\n",
    "import sklearn\n",
    "import seaborn as sns\n",
    "# import matplotlib as plt\n",
    "import matplotlib.pyplot as plt\n",
    "from sklearn.model_selection import cross_val_score\n",
    "from sklearn.model_selection import cross_val_predict\n",
    "import matplotlib.pyplot as plt\n",
    "from sklearn.naive_bayes import MultinomialNB\n",
    "from sklearn.ensemble import RandomForestClassifier\n",
    "from sklearn.feature_extraction.text import TfidfTransformer\n",
    "import warnings\n",
    "warnings.filterwarnings('ignore')\n",
    "from sklearn.metrics import confusion_matrix\n",
    "from sklearn.metrics import classification_report\n",
    "from sklearn.metrics import f1_score"
   ]
  },
  {
   "cell_type": "code",
   "execution_count": 2,
   "metadata": {},
   "outputs": [],
   "source": [
    "def confmat(y_values,y_pred,target_name,threshold=0.25):\n",
    "    if f1_score(y_values,y_pred,average='micro')>threshold:\n",
    "        print (classification_report(y_values,y_pred,target_names=target_name)) \n",
    "        confmat=confusion_matrix(y_true=y_values,y_pred=y_pred)\n",
    "        fig,ax=plt.subplots(figsize=(2.5,2.5))\n",
    "        ax.matshow(confmat,cmap=plt.cm.Blues,alpha=0.3)\n",
    "        for i in range(confmat.shape[0]):\n",
    "            for j in range(confmat.shape[1]):\n",
    "                ax.text(x=j,y=i,s=confmat[i,j],va='center',ha='center')\n",
    "        plt.xlabel('predicted label')       \n",
    "        plt.ylabel('true label')     \n",
    "        plt.tight_layout()\n",
    "        plt.show()"
   ]
  },
  {
   "cell_type": "code",
   "execution_count": 3,
   "metadata": {},
   "outputs": [],
   "source": [
    "LABEL_NAME=['高評価','低評価']\n",
    "CLASIFFIER={'RandomForest':RandomForestClassifier(random_state=1),\n",
    "                    'NB':MultinomialNB()}\n",
    "USE_PERCENTS=[0.001,0.0004,0.0001,0.00001]\n",
    "PATH_HEAD='../data/csv/'\n",
    "\n",
    "\n",
    "# ldf=pd.read_csv(f'{PATH_HEAD}1121low_mor.csv')\n",
    "# hdf=pd.read_csv(f'{PATH_HEAD}1121high_mor.csv')\n",
    "\n",
    "ldf=pd.read_csv(f'{PATH_HEAD}1121low_mor_goiword.csv')\n",
    "hdf=pd.read_csv(f'{PATH_HEAD}1121high_mor_goiword.csv')\n",
    "\n",
    "DF_LIST={'高評価':hdf,\n",
    "                '低評価':ldf}\n",
    "\n"
   ]
  },
  {
   "cell_type": "code",
   "execution_count": null,
   "metadata": {},
   "outputs": [],
   "source": []
  },
  {
   "cell_type": "code",
   "execution_count": 4,
   "metadata": {},
   "outputs": [],
   "source": [
    "mdf=pd.DataFrame()\n",
    "mdf=pd.merge(hdf,ldf,on='Unnamed: 0',how='outer')\n",
    "mdf['sum']=mdf['sum_x']+mdf['sum_y']\n",
    "mdf.drop(columns=['sum_x','sum_y'],inplace=True)\n",
    "label=[0]*(hdf.shape[1]-2)+[1]*(ldf.shape[1]-2)\n",
    "\n"
   ]
  },
  {
   "cell_type": "code",
   "execution_count": 5,
   "metadata": {},
   "outputs": [],
   "source": [
    "df,word_df=preproDF(mdf,0.04)\n",
    "X=df.values\n",
    "Y=label\n",
    "\n",
    "# CLF=RandomForestClassifier(random_state=1)\n",
    "CLF=MultinomialNB()\n",
    "CLF.fit(X,Y)\n",
    "y_pred=cross_val_predict(CLF,X,Y,cv=50)"
   ]
  },
  {
   "cell_type": "code",
   "execution_count": 6,
   "metadata": {},
   "outputs": [
    {
     "name": "stdout",
     "output_type": "stream",
     "text": [
      "0.5194132873166523\n"
     ]
    }
   ],
   "source": [
    "print(f1_score(Y,y_pred,average='micro'))"
   ]
  },
  {
   "cell_type": "code",
   "execution_count": 7,
   "metadata": {},
   "outputs": [
    {
     "name": "stdout",
     "output_type": "stream",
     "text": [
      "              precision    recall  f1-score   support\n",
      "\n",
      "         高評価       0.52      0.52      0.52      1161\n",
      "         低評価       0.52      0.52      0.52      1157\n",
      "\n",
      "   micro avg       0.52      0.52      0.52      2318\n",
      "   macro avg       0.52      0.52      0.52      2318\n",
      "weighted avg       0.52      0.52      0.52      2318\n",
      "\n"
     ]
    },
    {
     "data": {
      "image/png": "[encoded data removed]",
      "text/plain": [
       "<Figure size 180x180 with 1 Axes>"
      ]
     },
     "metadata": {
      "needs_background": "light"
     },
     "output_type": "display_data"
    }
   ],
   "source": [
    "confmat(Y,y_pred,LABEL_NAME)"
   ]
  },
  {
   "cell_type": "code",
   "execution_count": 9,
   "metadata": {},
   "outputs": [
    {
     "name": "stdout",
     "output_type": "stream",
     "text": [
      "0.001でRandomForestを使用。\n",
      "要素数は(2318, 107)\n",
      "              precision    recall  f1-score   support\n",
      "\n",
      "         高評価       0.50      0.63      0.56      1161\n",
      "         低評価       0.51      0.38      0.44      1157\n",
      "\n",
      "   micro avg       0.51      0.51      0.51      2318\n",
      "   macro avg       0.51      0.50      0.50      2318\n",
      "weighted avg       0.51      0.51      0.50      2318\n",
      "\n"
     ]
    },
    {
     "data": {
      "image/png": "[encoded data removed]",
      "text/plain": [
       "<Figure size 180x180 with 1 Axes>"
      ]
     },
     "metadata": {
      "needs_background": "light"
     },
     "output_type": "display_data"
    },
    {
     "name": "stdout",
     "output_type": "stream",
     "text": [
      "\n",
      "0.001でNBを使用。\n",
      "要素数は(2318, 107)\n",
      "              precision    recall  f1-score   support\n",
      "\n",
      "         高評価       0.50      0.49      0.50      1161\n",
      "         低評価       0.50      0.50      0.50      1157\n",
      "\n",
      "   micro avg       0.50      0.50      0.50      2318\n",
      "   macro avg       0.50      0.50      0.50      2318\n",
      "weighted avg       0.50      0.50      0.50      2318\n",
      "\n"
     ]
    },
    {
     "data": {
      "image/png": "[encoded data removed]",
      "text/plain": [
       "<Figure size 180x180 with 1 Axes>"
      ]
     },
     "metadata": {
      "needs_background": "light"
     },
     "output_type": "display_data"
    },
    {
     "name": "stdout",
     "output_type": "stream",
     "text": [
      "\n",
      "0.0004でRandomForestを使用。\n",
      "要素数は(2318, 382)\n",
      "              precision    recall  f1-score   support\n",
      "\n",
      "         高評価       0.52      0.66      0.58      1161\n",
      "         低評価       0.54      0.40      0.46      1157\n",
      "\n",
      "   micro avg       0.53      0.53      0.53      2318\n",
      "   macro avg       0.53      0.53      0.52      2318\n",
      "weighted avg       0.53      0.53      0.52      2318\n",
      "\n"
     ]
    },
    {
     "data": {
      "image/png": "[encoded data removed]",
      "text/plain": [
       "<Figure size 180x180 with 1 Axes>"
      ]
     },
     "metadata": {
      "needs_background": "light"
     },
     "output_type": "display_data"
    },
    {
     "name": "stdout",
     "output_type": "stream",
     "text": [
      "\n",
      "0.0004でNBを使用。\n",
      "要素数は(2318, 382)\n",
      "              precision    recall  f1-score   support\n",
      "\n",
      "         高評価       0.56      0.52      0.54      1161\n",
      "         低評価       0.55      0.59      0.57      1157\n",
      "\n",
      "   micro avg       0.56      0.56      0.56      2318\n",
      "   macro avg       0.56      0.56      0.56      2318\n",
      "weighted avg       0.56      0.56      0.56      2318\n",
      "\n"
     ]
    },
    {
     "data": {
      "image/png": "[encoded data removed]",
      "text/plain": [
       "<Figure size 180x180 with 1 Axes>"
      ]
     },
     "metadata": {
      "needs_background": "light"
     },
     "output_type": "display_data"
    },
    {
     "name": "stdout",
     "output_type": "stream",
     "text": [
      "\n",
      "0.0001でRandomForestを使用。\n",
      "要素数は(2318, 1609)\n",
      "              precision    recall  f1-score   support\n",
      "\n",
      "         高評価       0.53      0.64      0.58      1161\n",
      "         低評価       0.54      0.42      0.47      1157\n",
      "\n",
      "   micro avg       0.53      0.53      0.53      2318\n",
      "   macro avg       0.53      0.53      0.53      2318\n",
      "weighted avg       0.53      0.53      0.53      2318\n",
      "\n"
     ]
    },
    {
     "data": {
      "image/png": "[encoded data removed]",
      "text/plain": [
       "<Figure size 180x180 with 1 Axes>"
      ]
     },
     "metadata": {
      "needs_background": "light"
     },
     "output_type": "display_data"
    },
    {
     "name": "stdout",
     "output_type": "stream",
     "text": [
      "\n",
      "0.0001でNBを使用。\n",
      "要素数は(2318, 1609)\n",
      "              precision    recall  f1-score   support\n",
      "\n",
      "         高評価       0.56      0.53      0.54      1161\n",
      "         低評価       0.55      0.58      0.57      1157\n",
      "\n",
      "   micro avg       0.56      0.56      0.56      2318\n",
      "   macro avg       0.56      0.56      0.56      2318\n",
      "weighted avg       0.56      0.56      0.56      2318\n",
      "\n"
     ]
    },
    {
     "data": {
      "image/png": "[encoded data removed]",
      "text/plain": [
       "<Figure size 180x180 with 1 Axes>"
      ]
     },
     "metadata": {
      "needs_background": "light"
     },
     "output_type": "display_data"
    },
    {
     "name": "stdout",
     "output_type": "stream",
     "text": [
      "\n",
      "1e-05でRandomForestを使用。\n",
      "要素数は(2318, 7212)\n",
      "              precision    recall  f1-score   support\n",
      "\n",
      "         高評価       0.53      0.64      0.58      1161\n",
      "         低評価       0.54      0.43      0.48      1157\n",
      "\n",
      "   micro avg       0.53      0.53      0.53      2318\n",
      "   macro avg       0.54      0.53      0.53      2318\n",
      "weighted avg       0.54      0.53      0.53      2318\n",
      "\n"
     ]
    },
    {
     "data": {
      "image/png": "[encoded data removed]",
      "text/plain": [
       "<Figure size 180x180 with 1 Axes>"
      ]
     },
     "metadata": {
      "needs_background": "light"
     },
     "output_type": "display_data"
    },
    {
     "name": "stdout",
     "output_type": "stream",
     "text": [
      "\n",
      "1e-05でNBを使用。\n",
      "要素数は(2318, 7212)\n",
      "              precision    recall  f1-score   support\n",
      "\n",
      "         高評価       0.56      0.53      0.55      1161\n",
      "         低評価       0.56      0.59      0.57      1157\n",
      "\n",
      "   micro avg       0.56      0.56      0.56      2318\n",
      "   macro avg       0.56      0.56      0.56      2318\n",
      "weighted avg       0.56      0.56      0.56      2318\n",
      "\n"
     ]
    },
    {
     "data": {
      "image/png": "[encoded data removed]",
      "text/plain": [
       "<Figure size 180x180 with 1 Axes>"
      ]
     },
     "metadata": {
      "needs_background": "light"
     },
     "output_type": "display_data"
    },
    {
     "name": "stdout",
     "output_type": "stream",
     "text": [
      "\n"
     ]
    }
   ],
   "source": [
    "for PERCENT in USE_PERCENTS:\n",
    "    df,word_df=preproDF(mdf,PERCENT)\n",
    "    for CLFN,CLF in CLASIFFIER.items():\n",
    "        X=df.values\n",
    "        Y=label\n",
    "        CLF.fit(X,Y)\n",
    "        y_pred=cross_val_predict(CLF,X,Y,cv=50)\n",
    "        if f1_score(Y,y_pred,average='micro')>0.3:\n",
    "            print(f'{PERCENT}で{CLFN}を使用。')\n",
    "            print(f'要素数は{df.shape}')\n",
    "            confmat(Y,y_pred,LABEL_NAME)\n",
    "            print()"
   ]
  },
  {
   "cell_type": "code",
   "execution_count": null,
   "metadata": {},
   "outputs": [],
   "source": []
  }
 ],
 "metadata": {
  "kernelspec": {
   "display_name": "Python 3",
   "language": "python",
   "name": "python3"
  },
  "language_info": {
   "codemirror_mode": {
    "name": "ipython",
    "version": 3
   },
   "file_extension": ".py",
   "mimetype": "text/x-python",
   "name": "python",
   "nbconvert_exporter": "python",
   "pygments_lexer": "ipython3",
   "version": "3.7.1"
  }
 },
 "nbformat": 4,
 "nbformat_minor": 2
}
