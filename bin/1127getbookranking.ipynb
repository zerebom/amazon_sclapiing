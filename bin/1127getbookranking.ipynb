{
 "cells": [
  {
   "cell_type": "markdown",
   "metadata": {},
   "source": [
    "本のタイトルを取得する。  \n",
    "すでにあるURLDBを使う。  \n",
    "本しか必要ないのでcategory='本'で絞って書く。  \n",
    "DBに格納するとき、あまりたくさんデータをスタックしないように気を付ける。  "
   ]
  },
  {
   "cell_type": "code",
   "execution_count": null,
   "metadata": {},
   "outputs": [],
   "source": [
    "import sys;sys.path.append('./src')\n",
    "import sqlite3\n",
    "import re\n",
    "from DB import *\n",
    "from NLP import *\n",
    "import urllib.request as urllib\n",
    "from bs4 import BeautifulSoup\n",
    "import sqlite3\n",
    "from contextlib import closing"
   ]
  },
  {
   "cell_type": "code",
   "execution_count": null,
   "metadata": {},
   "outputs": [],
   "source": [
    "options = Options()\n",
    "options.add_argument('--headless') \n",
    "browser = webdriver.Chrome(chrome_options=options)\n",
    "DB_HEAD='../data/database/'"
   ]
  },
  {
   "cell_type": "code",
   "execution_count": null,
   "metadata": {},
   "outputs": [],
   "source": [
    "def commit_DB(c,conn,row,title,insert_sql):\n",
    "    c.execute(insert_sql,(row,title))\n",
    "    conn.commit()\n",
    "\n",
    "    "
   ]
  },
  {
   "cell_type": "code",
   "execution_count": null,
   "metadata": {},
   "outputs": [],
   "source": [
    "#highコード\n",
    "road_dbname=f'{DB_HEAD}1112_high_prodcuts_text_category.db'\n",
    "road_dbname2=f'{DB_HEAD}1112_low_prodcuts_text_category.db'\n",
    "write_dbname=f'{DB_HEAD}1126_high_prodcuts_title.db'\n",
    "write_dbname2=f'{DB_HEAD}1126_low_prodcuts_title.db'\n",
    "\n",
    "Rconn,Rc=get_db_conn(road_dbname)\n",
    "Wconn,Wc=get_db_conn(write_dbname)\n",
    "Rconn2,Rc2=get_db_conn(road_dbname2)\n",
    "Wconn2,Wc2=get_db_conn(write_dbname2)\n",
    "\n",
    "\n",
    "select_Rdb=f'''select id,pd_url from product_text where category1='本' '''\n",
    "insert_sql=f' insert into product_text (id,pd_name) values(?,?)'\n"
   ]
  },
  {
   "cell_type": "code",
   "execution_count": null,
   "metadata": {},
   "outputs": [],
   "source": [
    "# #収拾コード\n",
    "# HOGE=Rc.execute(select_Rdb)    \n",
    "# for i,row in enumerate(HOGE):\n",
    "#     print(i,end=' ')\n",
    "#     browser.get(row[1])\n",
    "#     soup = BeautifulSoup(browser.page_source, 'html.parser')\n",
    "#     try:\n",
    "#         title=soup.select('.a-text-ellipsis > a')[0].text\n",
    "#     except:\n",
    "#         title='no_title'\n",
    "#         time.sleep(1)\n",
    "#     print(title)\n",
    "#     commit_DB(Wc,Wconn,row[0],title,insert_sql)"
   ]
  },
  {
   "cell_type": "code",
   "execution_count": null,
   "metadata": {},
   "outputs": [],
   "source": [
    "# #収拾コード２\n",
    "# Wc2.execute('''create table product_text (id,pd_name)''')\n",
    "\n",
    "# HOGE2=Rc2.execute(select_Rdb)    \n",
    "# for i,row in enumerate(HOGE2):\n",
    "#     print(i,end=' ')\n",
    "#     browser.get(row[1])\n",
    "#     soup = BeautifulSoup(browser.page_source, 'html.parser')\n",
    "#     try:   \n",
    "#         title=soup.select('.a-text-ellipsis > a')[0].text\n",
    "#     except:\n",
    "#         title='no_title'\n",
    "#         time.sleep(1)\n",
    "#     print(title)\n",
    "#     commit_DB(Wc2,Wconn2,row[0],title,insert_sql)"
   ]
  },
  {
   "cell_type": "code",
   "execution_count": null,
   "metadata": {},
   "outputs": [],
   "source": []
  },
  {
   "cell_type": "code",
   "execution_count": null,
   "metadata": {},
   "outputs": [],
   "source": [
    "# Wc.execute('''select pd_name id from product_text''')\n",
    "# counter=Counter()\n",
    "# for row in Wc:\n",
    "#     print(row[0])\n",
    "#     text=re.sub(r' (\\(.+?\\)\\Z)+?','',row[0])\n",
    "#     text=re.sub(r'\\[雑誌\\]','',text)\n",
    "#     text=re.sub(r'\\u3000','',text)\n",
    "#     print(text)\n",
    "\n",
    "#     counter.update([text])\n"
   ]
  },
  {
   "cell_type": "code",
   "execution_count": 10,
   "metadata": {},
   "outputs": [],
   "source": [
    "Wc.execute('''select pd_name id from product_text''')\n",
    "counter=Counter()\n",
    "for row in Wc:\n",
    "    text=row[0]\n",
    "\n",
    "    \n",
    "    a=re.findall(r'\\(.+?\\)', text)\n",
    "    if len(a)>=1:\n",
    "        try:\n",
    "            text=re.sub(rf'\\({a[-1]}\\)','',text)\n",
    "        except:\n",
    "            pass\n",
    "\n",
    "#     text=re.sub(r' (\\(.+?\\)\\Z)+?','',text)\n",
    "    text=re.sub(r'\\[雑誌\\]','',text)\n",
    "    text=re.sub(r'\\u3000','',text)\n",
    "    counter.update([text])"
   ]
  },
  {
   "cell_type": "code",
   "execution_count": 11,
   "metadata": {},
   "outputs": [],
   "source": [
    "Wc2.execute('''select pd_name id from product_text''')\n",
    "counter2=Counter()\n",
    "for row in Wc2:\n",
    "    text=row[0]    \n",
    "    a=re.findall(r'\\(.+?\\)', text)\n",
    "    if len(a)>=1:\n",
    "        try:\n",
    "            text=re.sub(rf'\\({a[-1]}\\)','',text)\n",
    "        except:\n",
    "            pass\n",
    "\n",
    "#     text=re.sub(r' (\\(.+?\\)\\Z)+?','',text)\n",
    "    text=re.sub(r'\\[雑誌\\]','',text)\n",
    "    text=re.sub(r'\\u3000','',text)\n",
    "    counter2.update([text])\n",
    "    \n"
   ]
  },
  {
   "cell_type": "code",
   "execution_count": 13,
   "metadata": {},
   "outputs": [
    {
     "name": "stdout",
     "output_type": "stream",
     "text": [
      "('バカの壁 ', '頭がいい人、悪い人の話し方 ', '超バカの壁 (新潮新書 (149))', '13歳のハローワーク', 'ごんぎつね ', '金持ち父さん貧乏父さん', '下流社会 新たな階層集団の出現 ', '頭がいい人、悪い人の<言い訳>術 ', '大人のスピード読書法―時間がない人の53の具体例', '人は見た目が9割 ', '唯脳論 ', '「自分」の壁 ', 'ノルウェイの森 下 ', '記憶力を強くする―最新脳科学が語る記憶のしくみと鍛え方 ', 'プチ哲学 ', '死の壁 ', '99・9%は仮説 思いこみで判断しないための考え方 ', 'TVクイズ番組攻略マニュアル〈2〉', '英文法を撫でる ', 'ウェブ進化論 本当の大変化はこれから始まる ', '博士の愛した数式', 'きたきた うずまき ', 'はしれ、きたかぜ号 ', 'そらまめくんのベッド ', 'オオカミのごちそう', 'しろくまちゃんのほっとけーき ', 'マンガ嫌韓流', '文庫版 姑獲鳥の夏 ', '心にエンジンがかかる50の小さな習慣', '陰日向に咲く', '人を動かす新装版', '世界の中心で、愛をさけぶ', '新版 悪魔の飽食―日本細菌戦部隊の恐怖の実像! ', 'リラックマ生活―だらだらまいにちのススメ', 'からだを読む ', '王様の速読術', '「原因」と「結果」の法則', 'ユダヤ人大富豪の教え', '神との対話 普及版〈4〉世界的な真実について', 'プリンシプルのない日本 ', '海辺のカフカ (下) ', 'ノルウェイの森 上 ', 'ねじまき鳥クロニクル〈第1部〉泥棒かささぎ編 ', '嫌われる勇気―――自己啓発の源流「アドラー」の教え', '王道の日本、覇道の中国、火道の米国', 'LIFE SHIFT', '読書力 ', '養老孟司の“逆さメガネ” ', '秘密 ', 'ビーンズ!') (176, 14, 6, 6, 6, 5, 5, 5, 5, 5, 4, 4, 4, 4, 4, 4, 4, 4, 4, 4, 4, 4, 4, 4, 4, 4, 4, 4, 4, 4, 4, 4, 3, 3, 3, 3, 3, 3, 3, 3, 3, 3, 3, 3, 3, 3, 3, 3, 3, 3)\n",
      "('バカの壁 ', '読書力 ', '13歳のハローワーク', '新ゴーマニズム宣言SPECIAL 戦争論〈3〉', '「社会調査」のウソ―リサーチ・リテラシーのすすめ ', 'ノルウェイの森 上 ', '99・9%は仮説 思いこみで判断しないための考え方 ', '「頭がよい」って何だろう―名作パズル、ひらめきクイズで探る ', '7つの習慣-成功には原則があった!', 'スイス人銀行家の教え―お金と幸せの知恵を学ぶ12のレッスン', 'デミアン ', '風の歌を聴け ', '金持ち父さん貧乏父さん', 'こころ ', 'マンガ嫌韓流', 'ウェブ進化論 本当の大変化はこれから始まる ', '食品の裏側―みんな大好きな食品添加物', 'ルポ 貧困大国アメリカ ', '逆説の日本史5 中世動乱編: 源氏勝利の奇蹟の謎', '世界の中心で、愛をさけぶ', 'キャッチャー・イン・ザ・ライ', '武士道 ', '国家の品格 ', '人は見た目が9割 ', '西の魔女が死んだ ', '医者が教える食事術 最強の教科書――20万人を診てわかった医学的に正しい食べ方68', '論理思考力を鍛える本―問題演習', '知って役立つキリスト教大研究 ', '吸血鬼のおしごと―The Style of Vampires ', 'タイタニックは沈められた', 'HUNTER X HUNTER21 ', '思考の整理学 ', 'なぜか相手が説得されてしまう対話術―「話させ上手」は人の心をつかむのがうまい', 'ヤクザに学ぶ交渉術 ', 'バキ特別編saga ', '成功者の告白 5年間の起業ノウハウを3時間で学べる物語', 'ビジネスの極意は、インドの露天商に学べ! ', 'オバケの英語', '加速成功―願望を短期間で達成する魔術', 'ツイてる！ ', '面白いほど成功するツキの大原則―ツイてツイてツキまくる頭の使い方教えます', '100億稼ぐ仕事術 ', '成功はゴミ箱の中に レイ・クロック自伝―世界一、億万長者を生んだ男 マクドナルド創業者 ', '街道をゆく〈35〉オランダ紀行 ', '英語は「論理」 ', 'アメリカ居すわり一人旅 ', '介入?―人間の権利と国家の論理', '働くことがイヤな人のための本―仕事とは何だろうか', '哲学入門 ', 'イデーン―純粋現象学と現象学的哲学のための諸構想 ') (99, 6, 5, 4, 4, 4, 4, 3, 3, 3, 3, 3, 3, 3, 3, 3, 3, 3, 3, 3, 3, 3, 3, 3, 2, 2, 2, 2, 2, 2, 2, 2, 2, 2, 2, 2, 2, 2, 2, 2, 2, 2, 2, 2, 2, 2, 2, 2, 2, 2)\n"
     ]
    }
   ],
   "source": [
    "Hvalues,Hcounts=list(zip(*counter.most_common(50)))\n",
    "Lvalues,Lcounts=list(zip(*counter2.most_common(50)))\n",
    "\n",
    "print(Hvalues,Hcounts)\n",
    "print(Lvalues,Lcounts)"
   ]
  },
  {
   "cell_type": "code",
   "execution_count": 17,
   "metadata": {},
   "outputs": [],
   "source": [
    "import pandas as pd \n",
    "df1=pd.Series(Hcounts,index=Hvalues)\n",
    "df2=pd.Series(Lcounts,index=Lvalues)"
   ]
  },
  {
   "cell_type": "markdown",
   "metadata": {},
   "source": [
    "実験コードした"
   ]
  },
  {
   "cell_type": "code",
   "execution_count": 27,
   "metadata": {},
   "outputs": [
    {
     "name": "stderr",
     "output_type": "stream",
     "text": [
      "c:\\users\\k-higuchi\\appdata\\local\\programs\\python\\python37\\lib\\site-packages\\ipykernel_launcher.py:1: FutureWarning: Sorting because non-concatenation axis is not aligned. A future version\n",
      "of pandas will change to not sort by default.\n",
      "\n",
      "To accept the future behavior, pass 'sort=False'.\n",
      "\n",
      "To retain the current behavior and silence the warning, pass 'sort=True'.\n",
      "\n",
      "  \"\"\"Entry point for launching an IPython kernel.\n"
     ]
    }
   ],
   "source": [
    "df3=pd.concat([df1,df2],axis=1,ignore_index=True)\n",
    "df3=df3.fillna(0)\n",
    "\n",
    "df3.to_csv('bookranking.csv',encoding='shift-jis')"
   ]
  },
  {
   "cell_type": "code",
   "execution_count": null,
   "metadata": {},
   "outputs": [],
   "source": [
    "word='TV(テレビ)ゲーム怪物(モンスター)イラスト大事典 (ファミコン必勝本)'\n",
    "print(re.sub(' \\(.+?\\){1}','',word))"
   ]
  },
  {
   "cell_type": "code",
   "execution_count": null,
   "metadata": {},
   "outputs": [],
   "source": [
    "word='Banana fish (10) (小学館文庫)'\n",
    "# word='TV(テレビ)ゲーム怪物(モンスター)イラスト大事典 (ファミコン必勝本)'\n",
    "print(re.sub(r'(\\(.+?\\)\\Z)+?','',word))\n"
   ]
  },
  {
   "cell_type": "code",
   "execution_count": null,
   "metadata": {},
   "outputs": [],
   "source": [
    "word='Banana fish(小学館文庫)'\n",
    "word='TV(テレビ)ゲーム怪物(モンスター)イラスト大事典 (ファミコン必勝本)'\n",
    "\n",
    "\n",
    "a=re.findall(r'\\(.+?\\)', word)\n",
    "if len(a) >=1 :\n",
    "    print(a)\n",
    "    word=re.sub(rf'\\({a[-1]}\\)','',word)\n",
    "    \n",
    "print(word)"
   ]
  },
  {
   "cell_type": "code",
   "execution_count": null,
   "metadata": {},
   "outputs": [],
   "source": []
  }
 ],
 "metadata": {
  "kernelspec": {
   "display_name": "Python 3",
   "language": "python",
   "name": "python3"
  },
  "language_info": {
   "codemirror_mode": {
    "name": "ipython",
    "version": 3
   },
   "file_extension": ".py",
   "mimetype": "text/x-python",
   "name": "python",
   "nbconvert_exporter": "python",
   "pygments_lexer": "ipython3",
   "version": "3.7.1"
  }
 },
 "nbformat": 4,
 "nbformat_minor": 2
}
