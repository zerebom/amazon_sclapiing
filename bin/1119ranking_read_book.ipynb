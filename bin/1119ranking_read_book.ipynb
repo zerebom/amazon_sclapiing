{
 "cells": [
  {
   "cell_type": "code",
   "execution_count": 1,
   "metadata": {},
   "outputs": [],
   "source": [
    "import sys;sys.path.append('./src')\n",
    "import sqlite3\n",
    "import re\n",
    "from control_db import *\n",
    "import matplotlib.pyplot as plt\n",
    "import matplotlib.cm as cm\n",
    "import numpy as np\n",
    "import re \n",
    "from collections import Counter\n",
    "import urllib.request as urllib\n",
    "from bs4 import BeautifulSoup\n",
    "import sqlite3\n",
    "import time\n",
    "from selenium.webdriver.chrome.options import Options\n",
    "from selenium import webdriver\n",
    "from selenium.webdriver.support.ui import WebDriverWait\n",
    "from contextlib import closing\n"
   ]
  },
  {
   "cell_type": "code",
   "execution_count": 2,
   "metadata": {},
   "outputs": [],
   "source": [
    "low_category_db='../data/database/1112_low_prodcuts_text_category.db'\n",
    "high_category_db='../data/database/1112_high_prodcuts_text_category.db'\n",
    "Hconn2,Hc2=get_db_conn(high_category_db)\n",
    "Lconn2,Lc2=get_db_conn(low_category_db)"
   ]
  },
  {
   "cell_type": "code",
   "execution_count": 3,
   "metadata": {},
   "outputs": [
    {
     "name": "stdout",
     "output_type": "stream",
     "text": [
      "('table', 'product_text', 'product_text', 2, 'CREATE TABLE product_text(id integer primary key,username,baka_star,each_id,pd_url,pd_star,pd_title,text_len,pd_text, category1, category2, category3, category4, category5, category6, category7, category8, category9, category10, pd_name)')\n"
     ]
    }
   ],
   "source": [
    "Hc2.execute('''select * from sqlite_master''')\n",
    "for row in Hc2:\n",
    "    print(row)"
   ]
  },
  {
   "cell_type": "code",
   "execution_count": 4,
   "metadata": {},
   "outputs": [
    {
     "name": "stderr",
     "output_type": "stream",
     "text": [
      "c:\\users\\k-higuchi\\appdata\\local\\programs\\python\\python37\\lib\\site-packages\\ipykernel_launcher.py:6: DeprecationWarning: use options instead of chrome_options\n",
      "  \n"
     ]
    }
   ],
   "source": [
    "Hc2.execute('''select distinct username ,pd_url from product_text where category1='本' ''')\n",
    "Lc2.execute('''select distinct id,username,pd_url from product_text where category1='本' ''')\n",
    "\n",
    "options = Options()\n",
    "options.add_argument('--headless') \n",
    "browser = webdriver.Chrome(chrome_options=options)"
   ]
  },
  {
   "cell_type": "code",
   "execution_count": 5,
   "metadata": {},
   "outputs": [],
   "source": [
    "# Hc2.execute('alter table product_text add column pd_name')\n",
    "# Lc2.execute('alter table product_text add column pd_name')"
   ]
  },
  {
   "cell_type": "code",
   "execution_count": null,
   "metadata": {},
   "outputs": [
    {
     "name": "stdout",
     "output_type": "stream",
     "text": [
      "i=0,id=4 i=1,id=7 i=2,id=10 i=3,id=14 i=4,id=20 i=5,id=21 i=6,id=23 i=7,id=24 i=8,id=25 i=9,id=26 i=10,id=27 i=11,id=28 i=12,id=29 i=13,id=30 i=14,id=31 i=15,id=32 i=16,id=33 i=17,id=34 i=18,id=40 i=19,id=41 i=20,id=42 i=21,id=45 i=22,id=46 i=23,id=47 i=24,id=53 i=25,id=62 i=26,id=65 i=27,id=68 i=28,id=70 i=29,id=82 i=30,id=95 i=31,id=97 i=32,id=101 i=33,id=102 i=34,id=103 i=35,id=104 i=36,id=105 i=37,id=106 i=38,id=107 i=39,id=108 i=40,id=109 i=41,id=110 i=42,id=111 i=43,id=114 i=44,id=115 i=45,id=116 i=46,id=117 i=47,id=118 i=48,id=119 i=49,id=120 i=50,id=121 i=51,id=123 i=52,id=124 i=53,id=125 i=54,id=126 i=55,id=127 i=56,id=128 i=57,id=129 i=58,id=130 i=59,id=131 i=60,id=132 i=61,id=136 i=62,id=139 i=63,id=140 i=64,id=141 i=65,id=142 i=66,id=143 i=67,id=144 i=68,id=145 i=69,id=146 i=70,id=147 i=71,id=148 i=72,id=149 i=73,id=150 i=74,id=151 i=75,id=152 i=76,id=153 i=77,id=154 i=78,id=155 i=79,id=156 i=80,id=157 i=81,id=159 i=82,id=160 i=83,id=162 i=84,id=163 i=85,id=164 i=86,id=165 i=87,id=166 i=88,id=167 i=89,id=168 i=90,id=169 i=91,id=170 i=92,id=172 i=93,id=173 i=94,id=174 i=95,id=175 i=96,id=176 i=97,id=177 i=98,id=178 i=99,id=179 i=100,id=180 i=101,id=181 i=102,id=182 i=103,id=183 i=104,id=185 i=105,id=186 i=106,id=187 i=107,id=188 i=108,id=189 i=109,id=190 i=110,id=191 i=111,id=192 i=112,id=193 i=113,id=194 i=114,id=195 i=115,id=196 i=116,id=197 i=117,id=198 i=118,id=199 i=119,id=200 i=120,id=201 i=121,id=202 i=122,id=203 i=123,id=204 i=124,id=205 i=125,id=206 i=126,id=207 i=127,id=208 i=128,id=209 i=129,id=210 i=130,id=211 i=131,id=213 i=132,id=215 i=133,id=225 i=134,id=227 i=135,id=230 i=136,id=234 i=137,id=239 i=138,id=241 i=139,id=242 i=140,id=246 i=141,id=248 i=142,id=253 i=143,id=264 i=144,id=270 i=145,id=271 i=146,id=281 i=147,id=298 i=148,id=313 i=149,id=365 i=150,id=368 i=151,id=374 i=152,id=403 i=153,id=404 i=154,id=405 i=155,id=407 i=156,id=408 i=157,id=410 i=158,id=413 i=159,id=415 i=160,id=416 i=161,id=417 i=162,id=420 i=163,id=421 i=164,id=422 i=165,id=424 i=166,id=425 i=167,id=426 i=168,id=427 i=169,id=428 i=170,id=429 i=171,id=434 i=172,id=435 i=173,id=439 i=174,id=444 i=175,id=445 i=176,id=446 i=177,id=447 i=178,id=456 i=179,id=458 i=180,id=463 i=181,id=465 i=182,id=466 i=183,id=471 i=184,id=472 i=185,id=473 i=186,id=474 i=187,id=475 i=188,id=476 i=189,id=477 i=190,id=478 i=191,id=480 i=192,id=481 i=193,id=487 i=194,id=488 i=195,id=492 i=196,id=493 i=197,id=495 i=198,id=500 i=199,id=501 i=200,id=502 i=201,id=505 i=202,id=509 i=203,id=511 i=204,id=512 i=205,id=518 i=206,id=519 i=207,id=520 i=208,id=521 i=209,id=523 i=210,id=528 i=211,id=538 i=212,id=542 i=213,id=543 i=214,id=544 i=215,id=545 i=216,id=547 i=217,id=548 i=218,id=549 i=219,id=569 i=220,id=601 i=221,id=644 i=222,id=649 i=223,id=650 i=224,id=651 i=225,id=655 i=226,id=656 i=227,id=657 i=228,id=658 i=229,id=659 i=230,id=660 i=231,id=661 i=232,id=662 i=233,id=663 i=234,id=664 i=235,id=665 i=236,id=666 i=237,id=667 i=238,id=668 i=239,id=671 i=240,id=672 i=241,id=673 i=242,id=675 i=243,id=677 i=244,id=679 i=245,id=680 i=246,id=681 i=247,id=682 i=248,id=683 i=249,id=684 i=250,id=686 i=251,id=687 i=252,id=688 i=253,id=689 i=254,id=690 i=255,id=691 i=256,id=694 i=257,id=695 i=258,id=696 i=259,id=698 i=260,id=700 i=261,id=701 i=262,id=702 i=263,id=703 i=264,id=704 i=265,id=711 i=266,id=712 i=267,id=713 i=268,id=714 i=269,id=717 i=270,id=718 i=271,id=719 i=272,id=720 i=273,id=721 i=274,id=722 i=275,id=723 i=276,id=725 i=277,id=726 i=278,id=727 i=279,id=728 i=280,id=730 i=281,id=731 i=282,id=732 i=283,id=733 i=284,id=734 i=285,id=735 i=286,id=737 i=287,id=738 i=288,id=739 i=289,id=740 i=290,id=741 i=291,id=742 i=292,id=743 i=293,id=744 i=294,id=745 i=295,id=746 i=296,id=747 i=297,id=748 i=298,id=749 i=299,id=750 i=300,id=751 i=301,id=752 i=302,id=753 i=303,id=754 i=304,id=756 i=305,id=757 i=306,id=758 i=307,id=760 i=308,id=761 i=309,id=762 i=310,id=764 i=311,id=768 i=312,id=769 i=313,id=770 i=314,id=771 i=315,id=782 i=316,id=783 i=317,id=791 i=318,id=792 i=319,id=793 i=320,id=794 i=321,id=796 i=322,id=797 i=323,id=798 i=324,id=800 i=325,id=801 i=326,id=807 i=327,id=808 i=328,id=810 i=329,id=814 i=330,id=823 i=331,id=824 i=332,id=836 i=333,id=842 i=334,id=844 i=335,id=845 i=336,id=846 i=337,id=848 i=338,id=849 i=339,id=853 i=340,id=857 i=341,id=863 i=342,id=864 i=343,id=874 i=344,id=875 i=345,id=876 i=346,id=880 i=347,id=885 i=348,id=886 i=349,id=887 i=350,id=888 i=351,id=889 i=352,id=891 i=353,id=894 i=354,id=895 i=355,id=898 i=356,id=899 i=357,id=901 i=358,id=903 i=359,id=904 i=360,id=908 i=361,id=926 i=362,id=929 i=363,id=943 i=364,id=947 i=365,id=949 i=366,id=958 i=367,id=966 i=368,id=969 i=369,id=976 i=370,id=979 i=371,id=980 i=372,id=981 i=373,id=984 i=374,id=987 i=375,id=988 i=376,id=993 i=377,id=996 i=378,id=997 i=379,id=998 i=380,id=1002 i=381,id=1008 i=382,id=1009 i=383,id=1010 i=384,id=1017 i=385,id=1018 i=386,id=1019 i=387,id=1020 i=388,id=1021 i=389,id=1022 i=390,id=1023 i=391,id=1024 i=392,id=1025 i=393,id=1026 i=394,id=1027 i=395,id=1028 i=396,id=1029 i=397,id=1030 i=398,id=1031 i=399,id=1032 i=400,id=1033 i=401,id=1034 i=402,id=1045 i=403,id=1046 i=404,id=1047 i=405,id=1062 i=406,id=1063 i=407,id=1065 i=408,id=1068 i=409,id=1070 i=410,id=1071 i=411,id=1072 i=412,id=1073 i=413,id=1075 i=414,id=1076 i=415,id=1077 i=416,id=1078 i=417,id=1079 i=418,id=1080 i=419,id=1081 i=420,id=1082 i=421,id=1083 i=422,id=1084 i=423,id=1085 i=424,id=1086 i=425,id=1087 i=426,id=1089 i=427,id=1090 i=428,id=1091 i=429,id=1092 i=430,id=1093 i=431,id=1094 i=432,id=1095 i=433,id=1096 i=434,id=1097 i=435,id=1098 i=436,id=1099 i=437,id=1100 i=438,id=1101 i=439,id=1102 i=440,id=1103 i=441,id=1104 i=442,id=1105 i=443,id=1106 i=444,id=1107 i=445,id=1108 i=446,id=1109 i=447,id=1110 i=448,id=1111 i=449,id=1112 i=450,id=1113 i=451,id=1114 i=452,id=1115 i=453,id=1116 i=454,id=1117 i=455,id=1118 i=456,id=1119 i=457,id=1120 i=458,id=1121 i=459,id=1122 i=460,id=1123 i=461,id=1124 i=462,id=1125 i=463,id=1126 i=464,id=1127 i=465,id=1128 i=466,id=1129 i=467,id=1130 i=468,id=1131 i=469,id=1132 i=470,id=1133 i=471,id=1134 i=472,id=1135 i=473,id=1136 i=474,id=1137 i=475,id=1138 i=476,id=1139 i=477,id=1140 i=478,id=1141 i=479,id=1142 i=480,id=1143 i=481,id=1144 i=482,id=1145 i=483,id=1146 i=484,id=1147 i=485,id=1148 i=486,id=1149 i=487,id=1150 i=488,id=1151 i=489,id=1152 i=490,id=1153 i=491,id=1154 i=492,id=1155 i=493,id=1157 i=494,id=1158 i=495,id=1159 i=496,id=1160 i=497,id=1161 i=498,id=1162 i=499,id=1163 i=500,id=1164 i=501,id=1165 i=502,id=1166 i=503,id=1167 i=504,id=1168 i=505,id=1169 i=506,id=1170 i=507,id=1171 i=508,id=1172 i=509,id=1173 i=510,id=1174 i=511,id=1175 i=512,id=1176 i=513,id=1177 i=514,id=1178 i=515,id=1179 i=516,id=1180 i=517,id=1181 i=518,id=1182 i=519,id=1183 i=520,id=1184 i=521,id=1185 i=522,id=1186 i=523,id=1187 i=524,id=1188 i=525,id=1189 i=526,id=1190 i=527,id=1191 i=528,id=1192 i=529,id=1193 i=530,id=1194 i=531,id=1195 i=532,id=1196 i=533,id=1197 i=534,id=1198 i=535,id=1199 i=536,id=1213 i=537,id=1220 i=538,id=1221 i=539,id=1222 i=540,id=1225 i=541,id=1226 i=542,id=1227 i=543,id=1228 i=544,id=1229 i=545,id=1230 i=546,id=1231 i=547,id=1232 i=548,id=1233 i=549,id=1234 i=550,id=1235 i=551,id=1236 i=552,id=1237 i=553,id=1238 i=554,id=1239 i=555,id=1243 i=556,id=1248 i=557,id=1274 i=558,id=1278 i=559,id=1284 i=560,id=1319 i=561,id=1323 i=562,id=1332 i=563,id=1343 i=564,id=1358 i=565,id=1359 i=566,id=1360 i=567,id=1373 i=568,id=1374 i=569,id=1376 i=570,id=1379 i=571,id=1381 i=572,id=1382 i=573,id=1383 i=574,id=1384 i=575,id=1385 i=576,id=1388 i=577,id=1392 i=578,id=1393 i=579,id=1396 i=580,id=1397 i=581,id=1398 i=582,id=1399 i=583,id=1401 i=584,id=1402 i=585,id=1403 i=586,id=1404 i=587,id=1405 i=588,id=1406 i=589,id=1407 i=590,id=1408 i=591,id=1409 i=592,id=1410 i=593,id=1411 i=594,id=1412 i=595,id=1413 i=596,id=1414 i=597,id=1417 i=598,id=1418 i=599,id=1419 i=600,id=1420 i=601,id=1421 i=602,id=1422 i=603,id=1425 i=604,id=1426 i=605,id=1427 i=606,id=1428 i=607,id=1429 i=608,id=1430 i=609,id=1432 i=610,id=1433 i=611,id=1434 i=612,id=1436 i=613,id=1437 i=614,id=1438 i=615,id=1439 i=616,id=1440 i=617,id=1444 i=618,id=1445 i=619,id=1446 i=620,id=1447 i=621,id=1448 i=622,id=1449 i=623,id=1450 i=624,id=1451 i=625,id=1452 i=626,id=1453 i=627,id=1454 i=628,id=1455 i=629,id=1456 i=630,id=1457 i=631,id=1458 i=632,id=1459 i=633,id=1460 i=634,id=1461 i=635,id=1462 i=636,id=1463 i=637,id=1464 i=638,id=1465 i=639,id=1466 i=640,id=1467 i=641,id=1468 i=642,id=1469 i=643,id=1470 i=644,id=1471 i=645,id=1472 i=646,id=1473 i=647,id=1474 i=648,id=1475 i=649,id=1476 i=650,id=1477 i=651,id=1478 i=652,id=1479 i=653,id=1480 i=654,id=1481 i=655,id=1482 i=656,id=1483 i=657,id=1484 i=658,id=1485 i=659,id=1486 i=660,id=1487 i=661,id=1488 i=662,id=1489 i=663,id=1490 i=664,id=1491 i=665,id=1492 i=666,id=1493 i=667,id=1494 i=668,id=1495 i=669,id=1496 i=670,id=1497 i=671,id=1498 i=672,id=1499 i=673,id=1500 i=674,id=1501 i=675,id=1502 i=676,id=1503 i=677,id=1504 i=678,id=1505 i=679,id=1506 i=680,id=1507 i=681,id=1508 i=682,id=1509 i=683,id=1510 i=684,id=1511 i=685,id=1512 i=686,id=1513 i=687,id=1514 i=688,id=1515 i=689,id=1516 i=690,id=1517 i=691,id=1518 i=692,id=1519 i=693,id=1520 i=694,id=1521 i=695,id=1522 i=696,id=1523 i=697,id=1525 i=698,id=1526 i=699,id=1527 i=700,id=1528 i=701,id=1529 i=702,id=1530 i=703,id=1531 i=704,id=1532 i=705,id=1533 i=706,id=1534 i=707,id=1535 i=708,id=1536 i=709,id=1537 i=710,id=1538 i=711,id=1539 i=712,id=1540 i=713,id=1541 i=714,id=1542 i=715,id=1543 i=716,id=1544 i=717,id=1545 i=718,id=1546 i=719,id=1547 i=720,id=1548 i=721,id=1549 i=722,id=1550 i=723,id=1551 i=724,id=1552 i=725,id=1553 i=726,id=1554 i=727,id=1555 i=728,id=1556 i=729,id=1557 i=730,id=1558 i=731,id=1559 i=732,id=1560 i=733,id=1561 i=734,id=1562 i=735,id=1563 i=736,id=1564 i=737,id=1565 i=738,id=1566 i=739,id=1567 i=740,id=1568 i=741,id=1569 i=742,id=1570 i=743,id=1571 i=744,id=1572 i=745,id=1573 i=746,id=1574 i=747,id=1575 i=748,id=1576 i=749,id=1577 i=750,id=1578 i=751,id=1579 i=752,id=1580 i=753,id=1581 i=754,id=1582 i=755,id=1584 i=756,id=1585 i=757,id=1586 i=758,id=1587 i=759,id=1591 i=760,id=1593 i=761,id=1595 i=762,id=1599 i=763,id=1600 i=764,id=1601 i=765,id=1603 i=766,id=1607 i=767,id=1609 i=768,id=1610 i=769,id=1613 i=770,id=1614 i=771,id=1623 i=772,id=1629 i=773,id=1636 i=774,id=1639 i=775,id=1654 i=776,id=1657 i=777,id=1663 i=778,id=1665 i=779,id=1667 i=780,id=1668 i=781,id=1669 i=782,id=1671 i=783,id=1675 i=784,id=1677 i=785,id=1678 i=786,id=1685 i=787,id=1703 i=788,id=1704 i=789,id=1705 i=790,id=1708 i=791,id=1710 i=792,id=1746 i=793,id=1753 i=794,id=1756 i=795,id=1757 i=796,id=1758 i=797,id=1759 i=798,id=1760 i=799,id=1761 i=800,id=1762 i=801,id=1763 i=802,id=1764 i=803,id=1766 i=804,id=1768 i=805,id=1769 i=806,id=1770 i=807,id=1773 i=808,id=1775 i=809,id=1776 i=810,id=1777 i=811,id=1779 i=812,id=1780 i=813,id=1781 i=814,id=1782 i=815,id=1783 i=816,id=1785 i=817,id=1786 i=818,id=1787 i=819,id=1789 i=820,id=1790 i=821,id=1791 i=822,id=1792 i=823,id=1794 i=824,id=1797 i=825,id=1799 i=826,id=1800 i=827,id=1801 i=828,id=1804 i=829,id=1806 i=830,id=1810 i=831,id=1811 i=832,id=1813 i=833,id=1815 i=834,id=1816 i=835,id=1820 i=836,id=1821 i=837,id=1822 i=838,id=1824 i=839,id=1828 i=840,id=1830 i=841,id=1831 i=842,id=1832 i=843,id=1835 i=844,id=1836 i=845,id=1837 i=846,id=1839 i=847,id=1840 i=848,id=1841 i=849,id=1842 i=850,id=1843 i=851,id=1845 i=852,id=1846 i=853,id=1848 i=854,id=1849 i=855,id=1850 i=856,id=1851 i=857,id=1852 i=858,id=1853 i=859,id=1854 i=860,id=1855 i=861,id=1856 i=862,id=1858 i=863,id=1859 i=864,id=1862 i=865,id=1864 i=866,id=1865 i=867,id=1866 i=868,id=1867 i=869,id=1868 i=870,id=1869 i=871,id=1870 i=872,id=1871 i=873,id=1872 i=874,id=1873 i=875,id=1874 i=876,id=1875 i=877,id=1876 i=878,id=1877 i=879,id=1878 i=880,id=1879 i=881,id=1880 i=882,id=1881 i=883,id=1882 i=884,id=1883 i=885,id=1884 i=886,id=1885 i=887,id=1886 i=888,id=1887 i=889,id=1888 i=890,id=1890 i=891,id=1891 i=892,id=1892 i=893,id=1893 i=894,id=1894 i=895,id=1895 i=896,id=1896 i=897,id=1898 i=898,id=1899 i=899,id=1900 i=900,id=1901 i=901,id=1903 i=902,id=1904 i=903,id=1905 i=904,id=1907 i=905,id=1908 i=906,id=1909 i=907,id=1910 i=908,id=1911 i=909,id=1914 i=910,id=1915 i=911,id=1919 i=912,id=1925 i=913,id=1927 i=914,id=1928 i=915,id=1929 i=916,id=1933 i=917,id=1934 i=918,id=1936 i=919,id=1937 i=920,id=1939 i=921,id=1940 i=922,id=1941 i=923,id=1943 i=924,id=1944 i=925,id=1950 i=926,id=1951 i=927,id=1954 i=928,id=1955 i=929,id=1956 i=930,id=1959 i=931,id=1960 i=932,id=1961 i=933,id=1962 i=934,id=1965 i=935,id=1966 i=936,id=1969 i=937,id=1972 i=938,id=1974 i=939,id=1975 i=940,id=1977 i=941,id=1978 i=942,id=1981 i=943,id=1992 i=944,id=1995 i=945,id=1996 i=946,id=1997 i=947,id=1999 i=948,id=2000 i=949,id=2001 i=950,id=2002 i=951,id=2003 i=952,id=2005 i=953,id=2006 i=954,id=2007 i=955,id=2009 i=956,id=2010 i=957,id=2012 i=958,id=2013 i=959,id=2014 i=960,id=2015 i=961,id=2016 i=962,id=2017 i=963,id=2018 i=964,id=2019 i=965,id=2020 i=966,id=2021 i=967,id=2022 i=968,id=2023 i=969,id=2024 i=970,id=2025 i=971,id=2026 i=972,id=2027 i=973,id=2028 i=974,id=2029 i=975,id=2030 i=976,id=2031 i=977,id=2032 i=978,id=2033 i=979,id=2034 i=980,id=2035 i=981,id=2036 i=982,id=2037 i=983,id=2038 i=984,id=2039 i=985,id=2040 i=986,id=2041 i=987,id=2042 i=988,id=2043 i=989,id=2044 i=990,id=2045 i=991,id=2046 i=992,id=2047 i=993,id=2048 i=994,id=2049 i=995,id=2050 i=996,id=2051 i=997,id=2052 i=998,id=2053 i=999,id=2054 i=1000,id=2055 i=1001,id=2056 i=1002,id=2057 i=1003,id=2059 i=1004,id=2060 i=1005,id=2061 i=1006,id=2062 i=1007,id=2063 i=1008,id=2064 i=1009,id=2065 i=1010,id=2066 i=1011,id=2067 i=1012,id=2068 i=1013,id=2069 i=1014,id=2070 i=1015,id=2071 i=1016,id=2072 i=1017,id=2073 i=1018,id=2074 i=1019,id=2075 i=1020,id=2076 i=1021,id=2077 i=1022,id=2078 i=1023,id=2079 i=1024,id=2080 i=1025,id=2081 i=1026,id=2082 i=1027,id=2083 i=1028,id=2084 i=1029,id=2085 i=1030,id=2086 i=1031,id=2087 i=1032,id=2088 i=1033,id=2090 i=1034,id=2097 i=1035,id=2098 i=1036,id=2099 i=1037,id=2100 i=1038,id=2101 i=1039,id=2102 i=1040,id=2103 i=1041,id=2106 i=1042,id=2108 i=1043,id=2109 i=1044,id=2110 i=1045,id=2111 i=1046,id=2112 i=1047,id=2113 i=1048,id=2114 i=1049,id=2117 i=1050,id=2119 i=1051,id=2122 i=1052,id=2123 i=1053,id=2124 i=1054,id=2125 i=1055,id=2126 i=1056,id=2127 i=1057,id=2128 i=1058,id=2129 i=1059,id=2130 i=1060,id=2131 i=1061,id=2132 i=1062,id=2134 i=1063,id=2137 i=1064,id=2138 i=1065,id=2139 i=1066,id=2140 i=1067,id=2141 i=1068,id=2142 i=1069,id=2143 i=1070,id=2159 i=1071,id=2160 i=1072,id=2161 i=1073,id=2162 i=1074,id=2163 i=1075,id=2164 i=1076,id=2169 i=1077,id=2170 i=1078,id=2171 i=1079,id=2172 i=1080,id=2173 i=1081,id=2174 i=1082,id=2175 i=1083,id=2176 i=1084,id=2177 i=1085,id=2178 i=1086,id=2179 i=1087,id=2180 i=1088,id=2181 i=1089,id=2183 i=1090,id=2184 i=1091,id=2185 i=1092,id=2186 i=1093,id=2187 i=1094,id=2188 i=1095,id=2189 i=1096,id=2190 i=1097,id=2191 i=1098,id=2192 i=1099,id=2193 i=1100,id=2194 i=1101,id=2195 i=1102,id=2196 i=1103,id=2197 i=1104,id=2198 i=1105,id=2199 i=1106,id=2200 i=1107,id=2201 i=1108,id=2202 i=1109,id=2203 i=1110,id=2204 i=1111,id=2205 i=1112,id=2206 i=1113,id=2207 i=1114,id=2208 i=1115,id=2209 i=1116,id=2210 i=1117,id=2211 i=1118,id=2212 i=1119,id=2213 i=1120,id=2214 i=1121,id=2216 i=1122,id=2217 i=1123,id=2218 i=1124,id=2219 i=1125,id=2220 i=1126,id=2221 i=1127,id=2222 i=1128,id=2223 i=1129,id=2224 i=1130,id=2225 i=1131,id=2226 i=1132,id=2227 i=1133,id=2228 i=1134,id=2230 i=1135,id=2231 i=1136,id=2232 i=1137,id=2233 i=1138,id=2234 i=1139,id=2235 i=1140,id=2236 i=1141,id=2237 i=1142,id=2238 i=1143,id=2239 i=1144,id=2240 i=1145,id=2241 i=1146,id=2242 i=1147,id=2243 i=1148,id=2244 i=1149,id=2245 i=1150,id=2246 i=1151,id=2248 i=1152,id=2249 i=1153,id=2250 i=1154,id=2251 i=1155,id=2252 i=1156,id=2253 i=1157,id=2254 i=1158,id=2256 i=1159,id=2257 i=1160,id=2258 i=1161,id=2259 i=1162,id=2260 i=1163,id=2261 i=1164,id=2262 i=1165,id=2263 i=1166,id=2264 i=1167,id=2265 i=1168,id=2266 i=1169,id=2267 i=1170,id=2268 i=1171,id=2269 i=1172,id=2270 i=1173,id=2271 i=1174,id=2272 i=1175,id=2273 i=1176,id=2274 i=1177,id=2275 i=1178,id=2276 i=1179,id=2277 i=1180,id=2278 i=1181,id=2279 i=1182,id=2280 i=1183,id=2281 i=1184,id=2282 i=1185,id=2283 i=1186,id=2284 i=1187,id=2285 i=1188,id=2286 i=1189,id=2288 i=1190,id=2289 i=1191,id=2291 i=1192,id=2293 i=1193,id=2294 i=1194,id=2297 i=1195,id=2298 i=1196,id=2299 i=1197,id=2302 i=1198,id=2303 i=1199,id=2304 i=1200,id=2305 i=1201,id=2306 i=1202,id=2307 i=1203,id=2308 i=1204,id=2309 i=1205,id=2310 i=1206,id=2311 i=1207,id=2312 i=1208,id=2313 i=1209,id=2314 i=1210,id=2315 i=1211,id=2316 i=1212,id=2317 i=1213,id=2318 i=1214,id=2319 i=1215,id=2320 i=1216,id=2321 i=1217,id=2322 i=1218,id=2323 i=1219,id=2324 i=1220,id=2325 i=1221,id=2326 i=1222,id=2327 i=1223,id=2328 i=1224,id=2329 i=1225,id=2330 i=1226,id=2331 i=1227,id=2332 i=1228,id=2333 i=1229,id=2334 i=1230,id=2335 i=1231,id=2336 i=1232,id=2337 i=1233,id=2338 i=1234,id=2339 i=1235,id=2340 i=1236,id=2341 i=1237,id=2342 i=1238,id=2343 i=1239,id=2344 i=1240,id=2345 i=1241,id=2346 i=1242,id=2347 i=1243,id=2348 i=1244,id=2349 i=1245,id=2350 i=1246,id=2351 i=1247,id=2352 i=1248,id=2353 i=1249,id=2354 i=1250,id=2355 i=1251,id=2356 i=1252,id=2357 i=1253,id=2358 i=1254,id=2359 i=1255,id=2361 i=1256,id=2364 i=1257,id=2365 i=1258,id=2366 i=1259,id=2367 i=1260,id=2370 i=1261,id=2371 i=1262,id=2372 i=1263,id=2373 i=1264,id=2374 i=1265,id=2375 i=1266,id=2377 i=1267,id=2378 i=1268,id=2379 i=1269,id=2380 i=1270,id=2381 i=1271,id=2382 i=1272,id=2383 i=1273,id=2384 i=1274,id=2385 i=1275,id=2386 i=1276,id=2388 i=1277,id=2390 i=1278,id=2391 i=1279,id=2392 i=1280,id=2393 i=1281,id=2394 i=1282,id=2395 i=1283,id=2396 i=1284,id=2397 i=1285,id=2398 i=1286,id=2399 i=1287,id=2400 i=1288,id=2401 i=1289,id=2402 i=1290,id=2408 i=1291,id=2409 i=1292,id=2411 i=1293,id=2413 i=1294,id=2415 i=1295,id=2416 i=1296,id=2417 i=1297,id=2418 i=1298,id=2419 i=1299,id=2425 i=1300,id=2429 i=1301,id=2430 i=1302,id=2431 i=1303,id=2432 i=1304,id=2434 i=1305,id=2435 i=1306,id=2437 i=1307,id=2438 i=1308,id=2441 i=1309,id=2442 i=1310,id=2443 i=1311,id=2444 i=1312,id=2446 i=1313,id=2447 i=1314,id=2448 i=1315,id=2452 i=1316,id=2455 i=1317,id=2458 i=1318,id=2465 i=1319,id=2466 i=1320,id=2467 i=1321,id=2470 i=1322,id=2472 i=1323,id=2473 i=1324,id=2474 i=1325,id=2478 i=1326,id=2479 i=1327,id=2480 i=1328,id=2481 i=1329,id=2482 i=1330,id=2486 i=1331,id=2487 i=1332,id=2488 i=1333,id=2492 i=1334,id=2493 i=1335,id=2494 i=1336,id=2495 i=1337,id=2496 i=1338,id=2499 i=1339,id=2501 i=1340,id=2502 i=1341,id=2503 i=1342,id=2505 i=1343,id=2506 i=1344,id=2507 i=1345,id=2508 i=1346,id=2509 i=1347,id=2510 i=1348,id=2512 i=1349,id=2514 i=1350,id=2517 i=1351,id=2520 i=1352,id=2521 i=1353,id=2522 i=1354,id=2523 i=1355,id=2524 i=1356,id=2525 i=1357,id=2526 i=1358,id=2527 i=1359,id=2528 i=1360,id=2529 i=1361,id=2530 i=1362,id=2531 i=1363,id=2532 i=1364,id=2533 i=1365,id=2534 i=1366,id=2535 i=1367,id=2536 i=1368,id=2540 i=1369,id=2541 i=1370,id=2543 i=1371,id=2544 i=1372,id=2545 i=1373,id=2546 i=1374,id=2547 i=1375,id=2548 i=1376,id=2549 i=1377,id=2550 i=1378,id=2551 i=1379,id=2552 i=1380,id=2553 i=1381,id=2554 i=1382,id=2555 i=1383,id=2556 i=1384,id=2557 i=1385,id=2558 i=1386,id=2559 i=1387,id=2560 i=1388,id=2561 i=1389,id=2562 i=1390,id=2563 i=1391,id=2564 i=1392,id=2565 i=1393,id=2566 i=1394,id=2567 i=1395,id=2568 i=1396,id=2569 i=1397,id=2570 i=1398,id=2571 i=1399,id=2572 i=1400,id=2573 i=1401,id=2574 i=1402,id=2575 i=1403,id=2576 i=1404,id=2577 i=1405,id=2578 i=1406,id=2579 i=1407,id=2580 i=1408,id=2581 i=1409,id=2582 i=1410,id=2583 i=1411,id=2584 i=1412,id=2585 i=1413,id=2586 i=1414,id=2587 i=1415,id=2588 i=1416,id=2589 i=1417,id=2590 i=1418,id=2591 i=1419,id=2592 i=1420,id=2593 i=1421,id=2595 i=1422,id=2596 i=1423,id=2597 i=1424,id=2598 i=1425,id=2599 i=1426,id=2600 i=1427,id=2601 i=1428,id=2602 i=1429,id=2603 i=1430,id=2604 i=1431,id=2605 i=1432,id=2607 i=1433,id=2608 i=1434,id=2609 i=1435,id=2610 i=1436,id=2611 i=1437,id=2612 i=1438,id=2613 i=1439,id=2614 i=1440,id=2615 i=1441,id=2616 i=1442,id=2617 i=1443,id=2618 i=1444,id=2620 i=1445,id=2621 "
     ]
    }
   ],
   "source": [
    "Lc2.execute('''select distinct id,username,pd_url from product_text where category1='本' ''')\n",
    "textlist=[]\n",
    "i=0\n",
    "for row in Lc2:\n",
    "    time.sleep(0.5)\n",
    "    id_=row[0]\n",
    "    url=row[2]\n",
    "    browser.get(url)\n",
    "    soup = BeautifulSoup(browser.page_source, 'html.parser')\n",
    "    book_name=soup.select('.a-spacing-top-mini > a')[0].text\n",
    "    textlist.append((book_name,id_))\n",
    "#     Lc2.execute(f'update product_text set pd_name=? where id=?',(book_name,id_))\n",
    "    \n",
    "    print(f'i={i},id={id_}',end=' ')\n",
    "    i+=1\n"
   ]
  },
  {
   "cell_type": "code",
   "execution_count": 9,
   "metadata": {},
   "outputs": [],
   "source": [
    "url='https://www.amazon.co.jp/gp/customer-reviews/RBSX65NW8JCNA?ref=pf_vv_at_pdctrvw_srp'\n"
   ]
  },
  {
   "cell_type": "code",
   "execution_count": 10,
   "metadata": {},
   "outputs": [
    {
     "name": "stderr",
     "output_type": "stream",
     "text": [
      "c:\\users\\k-higuchi\\appdata\\local\\programs\\python\\python37\\lib\\site-packages\\ipykernel_launcher.py:3: DeprecationWarning: use options instead of chrome_options\n",
      "  This is separate from the ipykernel package so we can avoid doing imports until\n"
     ]
    }
   ],
   "source": []
  },
  {
   "cell_type": "code",
   "execution_count": 13,
   "metadata": {},
   "outputs": [],
   "source": [
    "\n"
   ]
  },
  {
   "cell_type": "code",
   "execution_count": 18,
   "metadata": {},
   "outputs": [
    {
     "name": "stdout",
     "output_type": "stream",
     "text": [
      "銀座ママが教える「できる男」「できない男」の見分け方\n"
     ]
    }
   ],
   "source": []
  },
  {
   "cell_type": "code",
   "execution_count": null,
   "metadata": {},
   "outputs": [],
   "source": []
  }
 ],
 "metadata": {
  "kernelspec": {
   "display_name": "Python 3",
   "language": "python",
   "name": "python3"
  },
  "language_info": {
   "codemirror_mode": {
    "name": "ipython",
    "version": 3
   },
   "file_extension": ".py",
   "mimetype": "text/x-python",
   "name": "python",
   "nbconvert_exporter": "python",
   "pygments_lexer": "ipython3",
   "version": "3.7.1"
  }
 },
 "nbformat": 4,
 "nbformat_minor": 2
}
