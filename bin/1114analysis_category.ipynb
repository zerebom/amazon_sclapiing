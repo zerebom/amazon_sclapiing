{
 "cells": [
  {
   "cell_type": "code",
   "execution_count": null,
   "metadata": {},
   "outputs": [],
   "source": [
    "import sys;sys.path.append('./src')\n",
    "import sqlite3\n",
    "import re\n",
    "from control_db import *\n",
    "import matplotlib.pyplot as plt\n",
    "import matplotlib.cm as cm\n",
    "import numpy as np\n",
    "import re \n",
    "from collections import Counter"
   ]
  },
  {
   "cell_type": "code",
   "execution_count": null,
   "metadata": {},
   "outputs": [],
   "source": [
    "low_category_db='../data/database/1112_low_prodcuts_text_category.db'\n",
    "high_category_db='../data/database/1112_high_prodcuts_text_category.db'\n",
    "Hconn2,Hc2=get_db_conn(high_category_db)\n",
    "Lconn2,Lc2=get_db_conn(low_category_db)\n",
    "Lc2.execute('''select * from sqlite_master''')\n",
    "for row in Lc2:\n",
    "    print(row)"
   ]
  },
  {
   "cell_type": "code",
   "execution_count": null,
   "metadata": {},
   "outputs": [],
   "source": [
    "Hc2.execute('''select distinct id,category1,category2,category3,category4,category5,category6,category7 from product_text where category6!='' ''')\n",
    "i=0\n",
    "for row in Hc2:\n",
    "    print(row)\n",
    "    i+=1\n",
    "    if i==100:\n",
    "        break\n"
   ]
  },
  {
   "cell_type": "code",
   "execution_count": null,
   "metadata": {},
   "outputs": [],
   "source": [
    "Lc2.execute('''\n",
    "select distinct id,category1,category2,category3,category4,category5,category6,category7\n",
    "from product_text\n",
    "where category1!='プ'  ''')\n",
    "\n",
    "\n",
    "i=0\n",
    "for row in Lc2:\n",
    "    print(row)\n",
    "    i+=1\n",
    "    if i==100:\n",
    "        break\n"
   ]
  },
  {
   "cell_type": "code",
   "execution_count": null,
   "metadata": {},
   "outputs": [],
   "source": [
    "Lc2.execute('''select distinct category1,category2,category3,category4 from product_text ''')\n",
    "Hc2.execute('''select distinct category1,category2,category3,category4 from product_text ''')\n",
    "\n",
    "low_category=[x[0] for x in Lc2]\n",
    "high_category=[x[0] for x in Hc2]\n",
    "\n",
    "low_counter=Counter(low_category)\n",
    "high_counter=Counter(high_category)\n"
   ]
  },
  {
   "cell_type": "code",
   "execution_count": null,
   "metadata": {},
   "outputs": [],
   "source": [
    "import matplotlib as mpl\n",
    "mpl.matplotlib_fname()\n",
    "mpl.font_manager._rebuild()"
   ]
  },
  {
   "cell_type": "code",
   "execution_count": null,
   "metadata": {},
   "outputs": [],
   "source": [
    "Lvalues,Lcounts=list(zip(*low_counter.most_common(30)))\n",
    "\n",
    "#20字以上のラベルは除去している\n",
    "Lvalues=[x[:20] for x in Lvalues]\n",
    "\n",
    "plt.style.use('ggplot')\n",
    "plt.rcParams.update({'font.size':18})\n",
    "#日本語対応FONT\n",
    "plt.rcParams['font.family'] = 'IPAPGothic'\n",
    "\n",
    "size=(8,8)\n",
    "col=cm.Spectral(np.arange(len(Lcounts))/float(len(Lcounts))) #color指定はcolormapから好みのものを。\n",
    "\n",
    "plt.figure(figsize=size,dpi=200)\n",
    "plt.pie(Lcounts,colors=col,counterclock=False,startangle=90,autopct=lambda p:'{:.1f}%'.format(p) if p>=5 else '')\n",
    "plt.subplots_adjust(left=0,right=0.9)\n",
    "plt.legend(Lvalues,fancybox=True,loc='center left',bbox_to_anchor=(0.9,0.5))\n",
    "plt.axis('equal') \n",
    "plt.savefig('低評価category1.png',bbox_inches='tight',pad_inches=0.05)"
   ]
  },
  {
   "cell_type": "code",
   "execution_count": null,
   "metadata": {},
   "outputs": [],
   "source": [
    "Hvalues,Hcounts=list(zip(*high_counter.most_common(30)))\n",
    "\n",
    "#20字以上のラベルは除去している\n",
    "Hvalues=[x[:20] for x in Hvalues]\n",
    "\n",
    "plt.style.use('ggplot')\n",
    "plt.rcParams.update({'font.size':18})\n",
    "#日本語対応FONT\n",
    "plt.rcParams['font.family'] = 'IPAPGothic'\n",
    "\n",
    "size=(8,8)\n",
    "col=cm.Spectral(np.arange(len(Hcounts))/float(len(Hcounts))) #color指定はcolormapから好みのものを。\n",
    "\n",
    "plt.figure(figsize=size,dpi=200)\n",
    "plt.pie(Hcounts,colors=col,counterclock=False,startangle=90,autopct=lambda p:'{:.1f}%'.format(p) if p>=5 else '')\n",
    "plt.subplots_adjust(left=0,right=0.9)\n",
    "plt.legend(Hvalues,fancybox=True,loc='center left',bbox_to_anchor=(0.9,0.5))\n",
    "plt.axis('equal') \n",
    "plt.savefig('高評価category1.png',bbox_inches='tight',pad_inches=0.05)"
   ]
  },
  {
   "cell_type": "code",
   "execution_count": null,
   "metadata": {},
   "outputs": [],
   "source": [
    "def sql_to_value_count(c,sql_text,category_len=20,category_num=30):\n",
    "    c.execute(sql_text)\n",
    "    category=[x[0] for x in c]\n",
    "    counter=Counter(category)\n",
    "    values,counts=list(zip(*counter.most_common(category_num)))\n",
    "    values=[x[:20] for x in values]\n",
    "    return(values,counts)"
   ]
  },
  {
   "cell_type": "code",
   "execution_count": null,
   "metadata": {},
   "outputs": [],
   "source": [
    "create_pie_fig(Hcounts,Hvalues,'高評価category1.png')"
   ]
  },
  {
   "cell_type": "code",
   "execution_count": null,
   "metadata": {},
   "outputs": [],
   "source": [
    "book_category_txt='''\n",
    "select distinct category2,id from product_text\n",
    "where category1=='本' \n",
    "'''\n",
    "\n",
    "l_book_values,l_book_counts=sql_to_value_count(Lc2,book_category_txt,category_num=20)\n",
    "h_book_values,h_book_counts=sql_to_value_count(Hc2,book_category_txt,category_num=20)"
   ]
  },
  {
   "cell_type": "code",
   "execution_count": null,
   "metadata": {},
   "outputs": [],
   "source": [
    "create_pie_fig(h_book_counts,h_book_values,'高評価category2.png')\n",
    "create_pie_fig(l_book_counts,l_book_values,'低評価category2.png')\n"
   ]
  },
  {
   "cell_type": "code",
   "execution_count": null,
   "metadata": {},
   "outputs": [],
   "source": [
    "print(l_book_values)\n",
    "print(l_book_counts)\n",
    "print(h_book_values)\n",
    "print(h_book_counts)\n"
   ]
  },
  {
   "cell_type": "code",
   "execution_count": null,
   "metadata": {},
   "outputs": [],
   "source": [
    "Hc2.execute('''select distinct baka_star,category2,id from product_text where category1=='本' ''')\n",
    "\n",
    "i=0\n",
    "for row in Hc2:\n",
    "    print(row)\n",
    "    i+=1\n",
    "    if i==1000:\n",
    "        break\n"
   ]
  },
  {
   "cell_type": "code",
   "execution_count": null,
   "metadata": {},
   "outputs": [],
   "source": [
    "book_category_txt='''\n",
    "select distinct category3,id from product_text\n",
    "where category1=='本' \n",
    "'''\n",
    "\n",
    "l2_book_values,l2_book_counts=sql_to_value_count(Lc2,book_category_txt,category_num=20)\n",
    "h2_book_values,h2_book_counts=sql_to_value_count(Hc2,book_category_txt,category_num=20)\n",
    "\n",
    "create_pie_fig(h2_book_counts,h2_book_values,'高評価category3.png')\n",
    "create_pie_fig(l2_book_counts,l2_book_values,'低評価category3.png')"
   ]
  },
  {
   "cell_type": "code",
   "execution_count": null,
   "metadata": {},
   "outputs": [],
   "source": []
  }
 ],
 "metadata": {
  "kernelspec": {
   "display_name": "Python 3",
   "language": "python",
   "name": "python3"
  },
  "language_info": {
   "codemirror_mode": {
    "name": "ipython",
    "version": 3
   },
   "file_extension": ".py",
   "mimetype": "text/x-python",
   "name": "python",
   "nbconvert_exporter": "python",
   "pygments_lexer": "ipython3",
   "version": "3.7.1"
  }
 },
 "nbformat": 4,
 "nbformat_minor": 2
}
