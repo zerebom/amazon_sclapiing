{
 "cells": [
  {
   "cell_type": "code",
   "execution_count": null,
   "metadata": {},
   "outputs": [],
   "source": [
    "import urllib.request as urllib\n",
    "from bs4 import BeautifulSoup\n",
    "import re\n",
    "from contextlib import closing\n",
    "import sqlite3\n",
    "import time\n",
    "from selenium.webdriver.chrome.options import Options\n",
    "from selenium import webdriver\n",
    "from selenium.webdriver.support.ui import WebDriverWait\n",
    "\n"
   ]
  },
  {
   "cell_type": "markdown",
   "metadata": {},
   "source": [
    "階層構造にしないので、レビューDBは巨大なものにする。  \n",
    "全部一つにまとめる  \n",
    "レヴュアーカラムはレビューの数だけ同じものを入れる  \n",
    "\n",
    "このあとやること\n",
    "HTML検索はbs4でやる\n",
    "スクロールはseleniumでやる\n",
    "\n",
    "参考URL\n",
    "https://shotanuki.com/%E5%8B%95%E7%9A%84%E3%83%9A%E3%83%BC%E3%82%B8%E3%81%AE%E3%82%B9%E3%82%AF%E3%83%AC%E3%82%A4%E3%83%94%E3%83%B3%E3%82%B0%E3%82%92selenium%E3%81%A7%E3%82%84%E3%81%A3%E3%81%A6%E3%81%BF%E3%81%9F/"
   ]
  },
  {
   "cell_type": "code",
   "execution_count": null,
   "metadata": {},
   "outputs": [],
   "source": [
    "url='https://www.amazon.co.jp/gp/profile/amzn1.account.AFBR6VVHA2M3PXU5V24TNBMUWYOA/ref=cm_cr_getr_d_gw_btm?ie=UTF8'\n",
    "options = Options()\n",
    "options.add_argument('--headless')\n",
    " \n",
    "browser = webdriver.Chrome(chrome_options=options) \n"
   ]
  },
  {
   "cell_type": "code",
   "execution_count": null,
   "metadata": {},
   "outputs": [],
   "source": [
    "def scroll_and_get_100_Products_url(url):\n",
    "    '''\n",
    "    レビュアー詳細URLからその人の全レビューURLを取得するコード\n",
    "    その人の獲得した星の数や、レビュー数もその気になれば手に入れられる\n",
    "    100件以上は収集しない\n",
    "    '''\n",
    "    browser.get(url)\n",
    "    time.sleep(0.3) \n",
    "    soup = BeautifulSoup(browser.page_source, 'html.parser')\n",
    "    review_number=soup.select('.dashboard-desktop-stat-value')\n",
    "    print(review_number)\n",
    "    review_box=soup.select('.profile-at-card')\n",
    "    review_url=['https://www.amazon.co.jp'+x.select('.profile-at-review-link')[0].get('href') for x in review_box]\n",
    "    i=0\n",
    "    try:\n",
    "        print(review_number[1].text)\n",
    "    except:\n",
    "        browser.execute_script('scroll(0, document.body.scrollHeight)')\n",
    "        time.sleep(0.3)\n",
    "        soup = BeautifulSoup(browser.page_source, 'html.parser')\n",
    "        review_number=soup.select('.dashboard-desktop-stat-value')\n",
    "        print(review_number)\n",
    "        review_box=soup.select('.profile-at-card')\n",
    "        review_url=['https://www.amazon.co.jp'+x.select('.profile-at-review-link')[0].get('href') for x in review_box]\n",
    "    \n",
    "    while(int(review_number[1].text)!=len(review_url)):\n",
    "        i+=1\n",
    "        if(len(review_url)>=100):\n",
    "            break\n",
    "        if i==10:\n",
    "            break\n",
    "        browser.execute_script('scroll(0, document.body.scrollHeight)')\n",
    "        time.sleep(0.3) \n",
    "        soup = BeautifulSoup(browser.page_source, 'html.parser')\n",
    "        review_number=soup.select('.a-size-large.a-color-base')\n",
    "        review_box=soup.select('.profile-at-card')\n",
    "        review_url=['https://www.amazon.co.jp'+x.select('.profile-at-review-link')[0].get('href') for x in review_box]\n",
    "        print(f'{len(review_url)}件のレビューを取得しました。')\n",
    "    \n",
    "    return(review_url)\n",
    "\n",
    "#商品レビューURLから商品URLに行き、カテゴリーをリスト型にして持ってきてくれる\n",
    "def get_category(product_url):\n",
    "    browser.get(product_url)\n",
    "    soup = BeautifulSoup(browser.page_source, 'html.parser')\n",
    "    category=soup.select('.a-unordered-list')[0].text\n",
    "    category=re.sub('›','',category)\n",
    "    category=re.sub('\\n','',category)\n",
    "    \n",
    "    category.split()\n",
    "    return(category)\n",
    "\n",
    "\n"
   ]
  },
  {
   "cell_type": "code",
   "execution_count": null,
   "metadata": {},
   "outputs": [],
   "source": [
    "def get_each_product_info(url):\n",
    "    '''\n",
    "    レビュー詳細URLから必要な情報を手に入れるコード\n",
    "    SQLに紐づけて必要な部分を後から埋めるでもいいかもしれない。\n",
    "    categoryの数が変動するので注意\n",
    "    '''\n",
    "    url2='https://www.amazon.co.jp/gp/customer-reviews/R1JYHF8TMEKK3J?ref=pf_vv_at_pdctrvw_srp'\n",
    "    browser.get(url2)\n",
    "    soup = BeautifulSoup(browser.page_source, 'html.parser')\n",
    "    title=soup.select('.review-title')[0].text\n",
    "    star=float(re.sub('5つ星のうち','',soup.select('.a-icon-alt')[0].text))\n",
    "    review=soup.select('.review-text')[0].text\n",
    "    product_url='https://www.amazon.co.jp'+soup.select('.a-text-ellipsis > a')[0].get('href')\n",
    "    category=get_category(product_url)\n",
    "    return(title,star,review,category)\n",
    "\n",
    "def get_db_conn(name):\n",
    "    '''\n",
    "    sql文を何度も書きたくなかったので書いた\n",
    "    '''\n",
    "    conn=sqlite3.connect(name)\n",
    "    c=conn.cursor()\n",
    "    return(conn,c)\n",
    "\n",
    "def get_one_people_each_products_url(Rconn,Rc,Wconn,Wc,select_sql):\n",
    "    '''\n",
    "    レビュワーURLを一気に受け取り、一つずつfor文を回す。\n",
    "    その後一度にレビューURLを取得し、新しいDBに格納する\n",
    "    '''\n",
    "    for i,row in enumerate(Rc.execute(select_sql)):\n",
    "        print(f'{i}人目、{row[0]}さんのレビューを取得中です')\n",
    "\n",
    "        product_url=scroll_and_get_100_Products_url('https://www.amazon.co.jp'+row[2])\n",
    "        name_list=[row[0]]*len(product_url)\n",
    "        rate_list=[row[1]]*len(product_url)\n",
    "        id_=[x for x in range(1,len(product_url)+1)]\n",
    "        datas=[(n,r,i,p) for n,r,i,p in zip(name_list,rate_list,id_,product_url)]\n",
    "\n",
    "        insert_sql = 'insert into products (name,id,rate,url) values (?,?,?,?)'\n",
    "        #↑順番が違う\n",
    "        Wc.executemany(insert_sql, datas)\n",
    "        Wconn.commit()\n",
    "\n"
   ]
  },
  {
   "cell_type": "code",
   "execution_count": null,
   "metadata": {},
   "outputs": [],
   "source": [
    "#ある人のレビュワーページから全部のレビュー詳細URLを手に入れるコード。\n",
    "url='https://www.amazon.co.jp/gp/profile/amzn1.account.AHXU2TX6WIQFKLQWKOZBP322S76Q/ref=cm_cr_dp_d_gw_tr?ie=UTF8'\n",
    "road_dbname='1105_review_of_bakawall7.db'\n",
    "low_dbname='1107_low_rate_bakawall_each_prodcuts.db'\n",
    "high_dbname='1107_high_rate_bakawall_each_prodcuts.db'\n",
    "\n",
    "    \n",
    "\n",
    "def main():\n",
    "    Rconn,Rc=get_db_conn(road_dbname)\n",
    "    low_select_Rdb=f'''select date,rate,url from reviews where rate<3'''\n",
    "    high_select_Rdb=f'''select date,rate,url from reviews where rate>3'''\n",
    "    \n",
    "    \n",
    "    Hconn,Hc=get_db_conn(high_dbname)\n",
    "    Lconn,Lc=get_db_conn(low_dbname)\n",
    "    head='https://www.amazon.co.jp'\n",
    "    \n",
    "#     create_table = '''create table products (id,name,rate,url,review,text)'''\n",
    "#     Hc.execute(create_table)\n",
    "#     Lc.execute(create_table)\n",
    "    \n",
    "    get_one_people_each_products_url(Rconn,Rc,Hconn,Hc,high_select_Rdb)\n",
    "    get_one_people_each_products_url(Rconn,Rc,Lconn,Lc,low_select_Rdb)\n",
    "\n",
    "\n",
    "\n",
    "\n",
    "# soup = BeautifulSoup(browser.page_source, 'html.parser')\n",
    "# review_number=soup.select('.a-size-large.a-color-base')\n",
    "# review_box=soup.select('.profile-at-card')\n",
    "# review_url=['https://www.amazon.co.jp'+x.select('.profile-at-review-link')[0].get('href') for x in review_box]\n",
    "# print(int(review_number[1].text))\n",
    "# print(review_url)"
   ]
  },
  {
   "cell_type": "code",
   "execution_count": null,
   "metadata": {},
   "outputs": [],
   "source": [
    "main()"
   ]
  },
  {
   "cell_type": "markdown",
   "metadata": {},
   "source": [
    "これより下実験コード↓"
   ]
  },
  {
   "cell_type": "code",
   "execution_count": null,
   "metadata": {},
   "outputs": [],
   "source": [
    "Rconn,Rc=get_db_conn(road_dbname)\n",
    "Rc.execute('''select * from sqlite_master''')\n",
    "for r in Rc:\n",
    "    print(r)\n",
    "Rc.execute('''select * from reviews''')\n",
    "for r in Rc:\n",
    "    print(r)\n",
    "    "
   ]
  },
  {
   "cell_type": "code",
   "execution_count": null,
   "metadata": {},
   "outputs": [],
   "source": [
    "url='https://www.amazon.co.jp/gp/profile/amzn1.account.AFBR6VVHA2M3PXU5V24TNBMUWYOA/ref=cm_cr_getr_d_gw_btm?ie=UTF8'\n",
    "headers = {\n",
    "        \"User-Agent\": \"Mozilla/5.0 (X11; Ubuntu; Linux x86_64; rv:47.0) Gecko/20100101 Firefox/47.0\",\n",
    "        }\n",
    "request = urllib.Request(url,headers=headers)\n",
    "html = urllib.urlopen(request)\n",
    "\n",
    "soup = BeautifulSoup(html,'lxml')\n",
    "print(soup)\n",
    "# review_number=soup.select('.a-size-large.a-color-base')\n",
    "# print(review_number)\n",
    "        "
   ]
  },
  {
   "cell_type": "code",
   "execution_count": null,
   "metadata": {},
   "outputs": [],
   "source": [
    "#レビューカラム数が最初のレビュー数に一致したらbreakする\n",
    "\n",
    "url='https://www.amazon.co.jp/gp/profile/amzn1.account.AFBR6VVHA2M3PXU5V24TNBMUWYOA/ref=cm_cr_getr_d_gw_btm?ie=UTF8'\n",
    "browser.execute_script('window.scrollBy(0,160)', '')\n",
    "options = Options()\n",
    "options.add_argument('--headless')\n",
    " \n",
    "browser = webdriver.Chrome(chrome_options=options) \n",
    "\n",
    "def scroll_down(url):\n",
    "    browser.get(url)\n",
    "    scroll_count=0\n",
    "    for i in range(0, 200):\n",
    "        if scroll_count == 0:\n",
    "            time.sleep(1)\n",
    "        link_list = []\n",
    "        soup = BeautifulSoup(browser.page_source, 'html.parser')\n",
    "        soup.find_all()\n",
    "\n",
    "\n",
    "    \n",
    "\n",
    "\n",
    "browser.close()"
   ]
  },
  {
   "cell_type": "code",
   "execution_count": null,
   "metadata": {},
   "outputs": [],
   "source": [
    "#DB使ってfor文でまとめて行う。、その前に一つだけ使って考える↑\n"
   ]
  },
  {
   "cell_type": "code",
   "execution_count": null,
   "metadata": {},
   "outputs": [],
   "source": [
    "\n"
   ]
  },
  {
   "cell_type": "code",
   "execution_count": null,
   "metadata": {},
   "outputs": [],
   "source": []
  }
 ],
 "metadata": {
  "kernelspec": {
   "display_name": "Python 3",
   "language": "python",
   "name": "python3"
  },
  "language_info": {
   "codemirror_mode": {
    "name": "ipython",
    "version": 3
   },
   "file_extension": ".py",
   "mimetype": "text/x-python",
   "name": "python",
   "nbconvert_exporter": "python",
   "pygments_lexer": "ipython3",
   "version": "3.7.1"
  }
 },
 "nbformat": 4,
 "nbformat_minor": 2
}
