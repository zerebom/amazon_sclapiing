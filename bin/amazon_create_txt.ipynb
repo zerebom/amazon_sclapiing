{
 "cells": [
  {
   "cell_type": "code",
   "execution_count": 1,
   "metadata": {},
   "outputs": [],
   "source": [
    "import matplotlib.pyplot as plt\n",
    "plt.style.use('ggplot')\n",
    "import datetime\n",
    "import sys\n",
    "import os\n",
    "import re\n",
    "from robobrowser import RoboBrowser\n",
    "import re\n",
    "import pandas as pd \n",
    "import sqlite3\n",
    "from contextlib import closing\n",
    "import preprocessing\n",
    "browser = RoboBrowser(\n",
    "    parser='html.parser',  # Beautiful Soupで使用するパーサーを指定する。\n",
    "    # Cookieが使用できないと表示されてログインできない問題を回避するため、\n",
    "    # 通常のブラウザーのUser-Agent（ここではFirefoxのもの）を使う。\n",
    "    user_agent='Mozilla/5.0 (Macintosh; Intel Mac OS X 10.10; rv:45.0) Gecko/20100101 Firefox/45.0')\n",
    "\n",
    "def main():\n",
    "    df2=pd.DataFrame()\n",
    "\n",
    "    # 注文履歴のページを開く。\n",
    "    print('Navigating...', file=sys.stderr)\n",
    " \n",
    "    # browser.open('https://www.amazon.co.jp/gp/product/4873116554/ref=s9_acsd_simh_hd_bw_b1x4K_c_x_3_w?pf_rd_m=AN1VRQENFRJN5&pf_rd_s=merchandised-search-4&pf_rd_r=GGPKJ52QZZAWFHSKR0RF&pf_rd_t=101&pf_rd_p=84c28d47-4e2f-5adb-b380-a7b7809ae8ee&pf_rd_i=465392')\n",
    "#     browser.open('https://www.amazon.co.jp/Python%E3%81%AB%E3%82%88%E3%82%8B%E3%83%87%E3%83%BC%E3%82%BF%E5%88%86%E6%9E%90%E5%85%A5%E9%96%80-%E2%80%95NumPy%E3%80%81pandas%E3%82%92%E4%BD%BF%E3%81%A3%E3%81%9F%E3%83%87%E3%83%BC%E3%82%BF%E5%87%A6%E7%90%86-Wes-McKinney/product-reviews/4873116554/ref=cm_cr_getr_d_paging_btm_prev_1?ie=UTF8&reviewerType=all_reviews&pageNumber=1')\n",
    "    browser.open('https://www.amazon.co.jp/%E3%83%90%E3%82%AB%E3%81%AE%E5%A3%81-%E6%96%B0%E6%BD%AE%E6%96%B0%E6%9B%B8-%E9%A4%8A%E8%80%81-%E5%AD%9F%E5%8F%B8/product-reviews/4106100037/ref=cm_cr_dp_d_show_all_btm?ie=UTF8&reviewerType=all_reviews')\n",
    "\n",
    "\n",
    "    # ページャーをたどる。\n",
    "    while True:\n",
    "        df=pd.DataFrame()\n",
    "#         assert 'Python' in browser.parsed.title.string  # 注文履歴画面が表示されていることを確認する。\n",
    "        print(browser.parsed.title.string)\n",
    "        # print(browser.parsed.prettify())\n",
    "        df=print_order_history()\n",
    "        \n",
    "        df2=pd.concat([df2,df],axis=0,ignore_index=True)\n",
    "\n",
    "        link_to_next = browser.get_link('次へ')  # 「次へ」というテキストを持つリンクを取得する。\n",
    "        if not link_to_next:\n",
    "            return(df2)\n",
    "\n",
    "        print('Following link to next page...', file=sys.stderr)\n",
    "        browser.follow_link(link_to_next)  # 「次へ」というリンクをたどる。\n",
    "\n",
    "def print_order_history():\n",
    "\n",
    "    # ページ内のすべての注文履歴について反復する。ブラウザーの開発者ツールでclass属性の値を確認できる。\n",
    "    for i,line_item in enumerate(browser.select('.a-section.celwidget')):\n",
    "        review_rank=line_item.select('.a-icon-alt')\n",
    "        review_date=line_item.select('.review-date')\n",
    "        review_text=line_item.select('.review-text')\n",
    "#         review_vote=line_item.select('.cr-vote-text')\n",
    "        \n",
    "        if i>0:\n",
    "            review_rank=[x.get_text() for x in review_rank]\n",
    "            review_rank=[float(re.sub('5つ星のうち','',x)) for x in review_rank]\n",
    "#             review_vote=[x.get_text() for x in review_vote]\n",
    "#             review_vote=[float(re.sub('人のお客様がこれが役に立ったと考えています','',x)) for x in review_vote]\n",
    "            review_text=[x.get_text() for x in review_text]\n",
    "            \n",
    "            review_len_text=[len(x) for x in review_text]\n",
    "            date_formated=[datetime.datetime.strptime(x.get_text(),'%Y年%m月%d日').strftime('%Y-%m-%d') for x in review_date]\n",
    "            df=pd.DataFrame({\n",
    "\t\t\t\t'date':date_formated,\n",
    "\t\t\t\t'rank':review_rank,\n",
    "# \t\t\t\t'vote':review_vote,\n",
    "\t\t\t\t'len_text':review_len_text,\n",
    "                'text':review_text\n",
    "\t\t\t})\t\n",
    "            \n",
    "            return(df)"
   ]
  },
  {
   "cell_type": "code",
   "execution_count": null,
   "metadata": {},
   "outputs": [],
   "source": [
    "df3=main()\n"
   ]
  },
  {
   "cell_type": "code",
   "execution_count": null,
   "metadata": {},
   "outputs": [],
   "source": [
    "df3"
   ]
  },
  {
   "cell_type": "code",
   "execution_count": null,
   "metadata": {},
   "outputs": [],
   "source": [
    "# df3['date'] =df3['date'].astype()\n",
    "datas=[row for row in df3.itertuples(name=None)]\n",
    "print(datas)    "
   ]
  },
  {
   "cell_type": "code",
   "execution_count": null,
   "metadata": {},
   "outputs": [],
   "source": [
    "dbname='review_of_bakawall.db'\n",
    "with closing(sqlite3.connect(dbname)) as conn:\n",
    "    c = conn.cursor()\n",
    "\n",
    "    # executeメソッドでSQL文を実行する\n",
    "    create_table = '''create table reviews (id int, date, len int, rate float,\n",
    "                       review text)'''\n",
    "    c.execute(create_table)\n",
    "\n",
    "    # SQL文に値をセットする場合は，Pythonのformatメソッドなどは使わずに，\n",
    "    # セットしたい場所に?を記述し，executeメソッドの第2引数に?に当てはめる値を\n",
    "#     # タプルで渡す．\n",
    "#     sql = 'insert into users (id, rate, age,) values (?,?,?,?)'\n",
    "#     user = (1, 'Taro', 20, 'male')\n",
    "#     c.execute(sql, user)\n",
    "\n",
    "    # 一度に複数のSQL文を実行したいときは，タプルのリストを作成した上で\n",
    "    # executemanyメソッドを実行する\n",
    "    insert_sql = 'insert into reviews (id, date, len, rate,review) values (?,?,?,?,?)'\n",
    "    reviews = datas\n",
    "    c.executemany(insert_sql, reviews)\n",
    "    conn.commit()\n",
    "\n",
    "    select_sql = 'select * from reviews'\n",
    "    for row in c.execute(select_sql):\n",
    "        print(row)"
   ]
  },
  {
   "cell_type": "code",
   "execution_count": null,
   "metadata": {},
   "outputs": [],
   "source": []
  }
 ],
 "metadata": {
  "kernelspec": {
   "display_name": "Python 3",
   "language": "python",
   "name": "python3"
  },
  "language_info": {
   "codemirror_mode": {
    "name": "ipython",
    "version": 3
   },
   "file_extension": ".py",
   "mimetype": "text/x-python",
   "name": "python",
   "nbconvert_exporter": "python",
   "pygments_lexer": "ipython3",
   "version": "3.6.6"
  }
 },
 "nbformat": 4,
 "nbformat_minor": 2
}
